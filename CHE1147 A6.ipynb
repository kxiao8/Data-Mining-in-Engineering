{
 "cells": [
  {
   "cell_type": "markdown",
   "source": [
    "# Programming assignment #6\n",
    "\n",
    "- Name: Kecheng Xiao\n",
    "- ID: 1008709140\n"
   ],
   "metadata": {
    "collapsed": false,
    "pycharm": {
     "name": "#%% md\n"
    }
   }
  },
  {
   "cell_type": "markdown",
   "source": [
    "## 0. Import Libraries"
   ],
   "metadata": {
    "collapsed": false,
    "pycharm": {
     "name": "#%% md\n"
    }
   }
  },
  {
   "cell_type": "code",
   "execution_count": 96,
   "outputs": [],
   "source": [
    "# import libraries\n",
    "import pandas as pd\n",
    "import numpy as np\n",
    "import matplotlib.pyplot as plt\n",
    "\n",
    "\n",
    "from sklearn.model_selection import train_test_split\n",
    "from sklearn.preprocessing import StandardScaler\n",
    "from sklearn.metrics import roc_curve, auc\n",
    "from sklearn.tree import DecisionTreeClassifier"
   ],
   "metadata": {
    "collapsed": false,
    "pycharm": {
     "name": "#%%\n"
    }
   }
  },
  {
   "cell_type": "markdown",
   "source": [
    "## 1. Read and Split Data"
   ],
   "metadata": {
    "collapsed": false,
    "pycharm": {
     "name": "#%% md\n"
    }
   }
  },
  {
   "cell_type": "code",
   "execution_count": 97,
   "outputs": [],
   "source": [
    "# get monthly data\n",
    "tb1_m = pd.read_excel('mth_rolling_features.xlsx', sheet_name='Sheet1')\n",
    "tb2_m = pd.read_excel('mth_day_counts.xlsx', sheet_name='Sheet1')\n",
    "tb3_m = pd.read_excel('days_since_last_txn.xlsx', sheet_name='Sheet1')"
   ],
   "metadata": {
    "collapsed": false,
    "pycharm": {
     "name": "#%%\n"
    }
   }
  },
  {
   "cell_type": "code",
   "execution_count": 98,
   "outputs": [],
   "source": [
    "# get response\n",
    "tb_r = pd.read_csv('Retail_Data_Response.csv')"
   ],
   "metadata": {
    "collapsed": false,
    "pycharm": {
     "name": "#%%\n"
    }
   }
  },
  {
   "cell_type": "code",
   "execution_count": 99,
   "outputs": [
    {
     "data": {
      "text/plain": "       CLNT_NO      ME_DT  mth_txn_amt_sum  mth_txn_amt_cnt  amt_sum_3M  \\\n0       CS1112 2011-05-31                0                0         0.0   \n1       CS1112 2011-06-30               56                1         0.0   \n2       CS1112 2011-07-31                0                0        56.0   \n3       CS1112 2011-08-31               96                1       152.0   \n4       CS1112 2011-09-30                0                0        96.0   \n...        ...        ...              ...              ...         ...   \n323543  CS9000 2014-11-30                0                0         0.0   \n323544  CS9000 2014-12-31                0                0         0.0   \n323545  CS9000 2015-01-31                0                0         0.0   \n323546  CS9000 2015-02-28                0                0         0.0   \n323547  CS9000 2015-03-31               34                1        34.0   \n\n        amt_mean_3M  amt_max_3M  txn_cnt_sum_3M  txn_cnt_mean_3M  \\\n0          0.000000         0.0             0.0         0.000000   \n1          0.000000         0.0             0.0         0.000000   \n2         18.666667        56.0             1.0         0.333333   \n3         50.666667        96.0             2.0         0.666667   \n4         32.000000        96.0             1.0         0.333333   \n...             ...         ...             ...              ...   \n323543     0.000000         0.0             0.0         0.000000   \n323544     0.000000         0.0             0.0         0.000000   \n323545     0.000000         0.0             0.0         0.000000   \n323546     0.000000         0.0             0.0         0.000000   \n323547    11.333333        34.0             1.0         0.333333   \n\n        txn_cnt_max_3M  ...  txn_cnt_max_12M  cnt_Friday  cnt_Monday  \\\n0                  0.0  ...              0.0           0           0   \n1                  0.0  ...              0.0           0           0   \n2                  1.0  ...              0.0           0           0   \n3                  1.0  ...              0.0           1           0   \n4                  1.0  ...              0.0           0           0   \n...                ...  ...              ...         ...         ...   \n323543             0.0  ...              1.0           0           0   \n323544             0.0  ...              1.0           0           0   \n323545             0.0  ...              1.0           0           0   \n323546             0.0  ...              1.0           0           0   \n323547             1.0  ...              1.0           0           0   \n\n        cnt_Saturday  cnt_Sunday  cnt_Thursday  cnt_Tuesday  cnt_Wednesday  \\\n0                  0           0             0            0              0   \n1                  0           0             0            0              1   \n2                  0           0             0            0              0   \n3                  0           0             0            0              0   \n4                  0           0             0            0              0   \n...              ...         ...           ...          ...            ...   \n323543             0           0             0            0              0   \n323544             0           0             0            0              0   \n323545             0           0             0            0              0   \n323546             0           0             0            0              0   \n323547             1           0             0            0              0   \n\n        days_since_last_txn  response  \n0                      -100         0  \n1                        15         0  \n2                        46         0  \n3                        12         0  \n4                        42         0  \n...                     ...       ...  \n323543                   98         0  \n323544                  129         0  \n323545                  160         0  \n323546                  188         0  \n323547                   31         0  \n\n[323548 rows x 31 columns]",
      "text/html": "<div>\n<style scoped>\n    .dataframe tbody tr th:only-of-type {\n        vertical-align: middle;\n    }\n\n    .dataframe tbody tr th {\n        vertical-align: top;\n    }\n\n    .dataframe thead th {\n        text-align: right;\n    }\n</style>\n<table border=\"1\" class=\"dataframe\">\n  <thead>\n    <tr style=\"text-align: right;\">\n      <th></th>\n      <th>CLNT_NO</th>\n      <th>ME_DT</th>\n      <th>mth_txn_amt_sum</th>\n      <th>mth_txn_amt_cnt</th>\n      <th>amt_sum_3M</th>\n      <th>amt_mean_3M</th>\n      <th>amt_max_3M</th>\n      <th>txn_cnt_sum_3M</th>\n      <th>txn_cnt_mean_3M</th>\n      <th>txn_cnt_max_3M</th>\n      <th>...</th>\n      <th>txn_cnt_max_12M</th>\n      <th>cnt_Friday</th>\n      <th>cnt_Monday</th>\n      <th>cnt_Saturday</th>\n      <th>cnt_Sunday</th>\n      <th>cnt_Thursday</th>\n      <th>cnt_Tuesday</th>\n      <th>cnt_Wednesday</th>\n      <th>days_since_last_txn</th>\n      <th>response</th>\n    </tr>\n  </thead>\n  <tbody>\n    <tr>\n      <th>0</th>\n      <td>CS1112</td>\n      <td>2011-05-31</td>\n      <td>0</td>\n      <td>0</td>\n      <td>0.0</td>\n      <td>0.000000</td>\n      <td>0.0</td>\n      <td>0.0</td>\n      <td>0.000000</td>\n      <td>0.0</td>\n      <td>...</td>\n      <td>0.0</td>\n      <td>0</td>\n      <td>0</td>\n      <td>0</td>\n      <td>0</td>\n      <td>0</td>\n      <td>0</td>\n      <td>0</td>\n      <td>-100</td>\n      <td>0</td>\n    </tr>\n    <tr>\n      <th>1</th>\n      <td>CS1112</td>\n      <td>2011-06-30</td>\n      <td>56</td>\n      <td>1</td>\n      <td>0.0</td>\n      <td>0.000000</td>\n      <td>0.0</td>\n      <td>0.0</td>\n      <td>0.000000</td>\n      <td>0.0</td>\n      <td>...</td>\n      <td>0.0</td>\n      <td>0</td>\n      <td>0</td>\n      <td>0</td>\n      <td>0</td>\n      <td>0</td>\n      <td>0</td>\n      <td>1</td>\n      <td>15</td>\n      <td>0</td>\n    </tr>\n    <tr>\n      <th>2</th>\n      <td>CS1112</td>\n      <td>2011-07-31</td>\n      <td>0</td>\n      <td>0</td>\n      <td>56.0</td>\n      <td>18.666667</td>\n      <td>56.0</td>\n      <td>1.0</td>\n      <td>0.333333</td>\n      <td>1.0</td>\n      <td>...</td>\n      <td>0.0</td>\n      <td>0</td>\n      <td>0</td>\n      <td>0</td>\n      <td>0</td>\n      <td>0</td>\n      <td>0</td>\n      <td>0</td>\n      <td>46</td>\n      <td>0</td>\n    </tr>\n    <tr>\n      <th>3</th>\n      <td>CS1112</td>\n      <td>2011-08-31</td>\n      <td>96</td>\n      <td>1</td>\n      <td>152.0</td>\n      <td>50.666667</td>\n      <td>96.0</td>\n      <td>2.0</td>\n      <td>0.666667</td>\n      <td>1.0</td>\n      <td>...</td>\n      <td>0.0</td>\n      <td>1</td>\n      <td>0</td>\n      <td>0</td>\n      <td>0</td>\n      <td>0</td>\n      <td>0</td>\n      <td>0</td>\n      <td>12</td>\n      <td>0</td>\n    </tr>\n    <tr>\n      <th>4</th>\n      <td>CS1112</td>\n      <td>2011-09-30</td>\n      <td>0</td>\n      <td>0</td>\n      <td>96.0</td>\n      <td>32.000000</td>\n      <td>96.0</td>\n      <td>1.0</td>\n      <td>0.333333</td>\n      <td>1.0</td>\n      <td>...</td>\n      <td>0.0</td>\n      <td>0</td>\n      <td>0</td>\n      <td>0</td>\n      <td>0</td>\n      <td>0</td>\n      <td>0</td>\n      <td>0</td>\n      <td>42</td>\n      <td>0</td>\n    </tr>\n    <tr>\n      <th>...</th>\n      <td>...</td>\n      <td>...</td>\n      <td>...</td>\n      <td>...</td>\n      <td>...</td>\n      <td>...</td>\n      <td>...</td>\n      <td>...</td>\n      <td>...</td>\n      <td>...</td>\n      <td>...</td>\n      <td>...</td>\n      <td>...</td>\n      <td>...</td>\n      <td>...</td>\n      <td>...</td>\n      <td>...</td>\n      <td>...</td>\n      <td>...</td>\n      <td>...</td>\n      <td>...</td>\n    </tr>\n    <tr>\n      <th>323543</th>\n      <td>CS9000</td>\n      <td>2014-11-30</td>\n      <td>0</td>\n      <td>0</td>\n      <td>0.0</td>\n      <td>0.000000</td>\n      <td>0.0</td>\n      <td>0.0</td>\n      <td>0.000000</td>\n      <td>0.0</td>\n      <td>...</td>\n      <td>1.0</td>\n      <td>0</td>\n      <td>0</td>\n      <td>0</td>\n      <td>0</td>\n      <td>0</td>\n      <td>0</td>\n      <td>0</td>\n      <td>98</td>\n      <td>0</td>\n    </tr>\n    <tr>\n      <th>323544</th>\n      <td>CS9000</td>\n      <td>2014-12-31</td>\n      <td>0</td>\n      <td>0</td>\n      <td>0.0</td>\n      <td>0.000000</td>\n      <td>0.0</td>\n      <td>0.0</td>\n      <td>0.000000</td>\n      <td>0.0</td>\n      <td>...</td>\n      <td>1.0</td>\n      <td>0</td>\n      <td>0</td>\n      <td>0</td>\n      <td>0</td>\n      <td>0</td>\n      <td>0</td>\n      <td>0</td>\n      <td>129</td>\n      <td>0</td>\n    </tr>\n    <tr>\n      <th>323545</th>\n      <td>CS9000</td>\n      <td>2015-01-31</td>\n      <td>0</td>\n      <td>0</td>\n      <td>0.0</td>\n      <td>0.000000</td>\n      <td>0.0</td>\n      <td>0.0</td>\n      <td>0.000000</td>\n      <td>0.0</td>\n      <td>...</td>\n      <td>1.0</td>\n      <td>0</td>\n      <td>0</td>\n      <td>0</td>\n      <td>0</td>\n      <td>0</td>\n      <td>0</td>\n      <td>0</td>\n      <td>160</td>\n      <td>0</td>\n    </tr>\n    <tr>\n      <th>323546</th>\n      <td>CS9000</td>\n      <td>2015-02-28</td>\n      <td>0</td>\n      <td>0</td>\n      <td>0.0</td>\n      <td>0.000000</td>\n      <td>0.0</td>\n      <td>0.0</td>\n      <td>0.000000</td>\n      <td>0.0</td>\n      <td>...</td>\n      <td>1.0</td>\n      <td>0</td>\n      <td>0</td>\n      <td>0</td>\n      <td>0</td>\n      <td>0</td>\n      <td>0</td>\n      <td>0</td>\n      <td>188</td>\n      <td>0</td>\n    </tr>\n    <tr>\n      <th>323547</th>\n      <td>CS9000</td>\n      <td>2015-03-31</td>\n      <td>34</td>\n      <td>1</td>\n      <td>34.0</td>\n      <td>11.333333</td>\n      <td>34.0</td>\n      <td>1.0</td>\n      <td>0.333333</td>\n      <td>1.0</td>\n      <td>...</td>\n      <td>1.0</td>\n      <td>0</td>\n      <td>0</td>\n      <td>1</td>\n      <td>0</td>\n      <td>0</td>\n      <td>0</td>\n      <td>0</td>\n      <td>31</td>\n      <td>0</td>\n    </tr>\n  </tbody>\n</table>\n<p>323548 rows × 31 columns</p>\n</div>"
     },
     "execution_count": 99,
     "metadata": {},
     "output_type": "execute_result"
    }
   ],
   "source": [
    "# get monthly data\n",
    "tb_r.rename(columns={'customer_id': 'CLNT_NO'}, inplace=True) # rename to regularize\n",
    "monthly_features_outputs = pd.merge(pd.merge(pd.merge(tb1_m, tb2_m, on=['CLNT_NO', 'ME_DT']), tb3_m, on=['CLNT_NO', 'ME_DT']), tb_r, on='CLNT_NO')\n",
    "monthly_features_outputs.fillna(0, inplace=True) # fill redundant NaN due to window size\n",
    "monthly_features_outputs.drop(columns=['Unnamed: 0', 'Unnamed: 0_x', 'Unnamed: 0_y'], inplace=True) # drop old index\n",
    "monthly_features_outputs"
   ],
   "metadata": {
    "collapsed": false,
    "pycharm": {
     "name": "#%%\n"
    }
   }
  },
  {
   "cell_type": "code",
   "execution_count": 100,
   "outputs": [],
   "source": [
    "# Monthly X and y\n",
    "X_monthly = monthly_features_outputs.drop(columns=['CLNT_NO', 'ME_DT', 'response']).astype(float)\n",
    "y_monthly = monthly_features_outputs['response']\n",
    "# split data\n",
    "X_train_monthly, X_test_monthly, y_train_monthly, y_test_monthly =\\\n",
    "    train_test_split(X_monthly, y_monthly, test_size=1/10, random_state=1147)\n",
    "# standardize monthly data\n",
    "scaler = StandardScaler()\n",
    "X_train_monthly_scaled = scaler.fit_transform(X_train_monthly)\n",
    "X_test_monthly_scaled = scaler.transform(X_test_monthly)"
   ],
   "metadata": {
    "collapsed": false,
    "pycharm": {
     "name": "#%%\n"
    }
   }
  },
  {
   "cell_type": "code",
   "execution_count": 101,
   "outputs": [
    {
     "name": "stdout",
     "output_type": "stream",
     "text": [
      "(32355, 28)\n",
      "(291193, 28)\n"
     ]
    }
   ],
   "source": [
    "# check split result\n",
    "print(X_test_monthly_scaled.shape)\n",
    "print(X_train_monthly_scaled.shape)"
   ],
   "metadata": {
    "collapsed": false,
    "pycharm": {
     "name": "#%%\n"
    }
   }
  },
  {
   "cell_type": "markdown",
   "source": [
    "## 2. Create Function to Run with Random N Samples"
   ],
   "metadata": {
    "collapsed": false,
    "pycharm": {
     "name": "#%% md\n"
    }
   }
  },
  {
   "cell_type": "code",
   "execution_count": 102,
   "outputs": [],
   "source": [
    "# use the best max_depth dt model and return test AUC\n",
    "def optimized_decision_tree(sample_size=50, seed=0):\n",
    "    # shuffle X for training\n",
    "    np.random.seed(seed)\n",
    "    rand = list(np.random.permutation(X_train_monthly_scaled.shape[0])[:sample_size])\n",
    "\n",
    "    # use monthly dataset\n",
    "    X_train, y_train = X_train_monthly.iloc[rand], y_train_monthly.iloc[rand]\n",
    "    X_test, y_test = X_test_monthly, y_test_monthly\n",
    "    # use optimization depth for tree models\n",
    "    model_t = DecisionTreeClassifier(max_depth=5, class_weight='balanced', random_state=1147)\n",
    "\n",
    "    # fit the model\n",
    "    model_t.fit(X_train, y_train)\n",
    "    # scores for test set\n",
    "    scores_test_t = model_t.predict_proba(X_test)[:, 1]\n",
    "\n",
    "    # Testing ROC Calc\n",
    "    fpr_test_t, tpr_test_t, _ = roc_curve(y_test, scores_test_t)\n",
    "    # Testing AUC Calc\n",
    "    auc_test_t = auc(fpr_test_t, tpr_test_t)\n",
    "\n",
    "    # return best model\n",
    "    return auc_test_t"
   ],
   "metadata": {
    "collapsed": false,
    "pycharm": {
     "name": "#%%\n"
    }
   }
  },
  {
   "cell_type": "code",
   "execution_count": 103,
   "outputs": [],
   "source": [
    "# set function to generate and show\n",
    "def sampled_test_auc(sample_size = 50, itr = 10):\n",
    "    test_auc = []\n",
    "    for i in range(itr):\n",
    "        test_auc.append([i+1,optimized_decision_tree(sample_size=sample_size ,seed=i)])\n",
    "\n",
    "    # print table\n",
    "    s_test_auc = pd.DataFrame(test_auc, columns=['sample #', 'Test AUC'])\n",
    "    return s_test_auc\n",
    "\n",
    "def mean_std(data):\n",
    "    mean = float(np.mean(data))\n",
    "    std = float(np.std(data))\n",
    "    print('Mean Test AUC: %.4f | SD Test AUC: %.4f' % (mean, std))\n",
    "    return mean, std\n",
    "\n",
    "def show(size=50, print_tb=True):\n",
    "    s = sampled_test_auc(size)\n",
    "    if print_tb:\n",
    "        print('   N = %d samples' % size)\n",
    "        print(s.to_string(index=False))\n",
    "    mean, std = mean_std(s['Test AUC'])\n",
    "    return size, mean, std"
   ],
   "metadata": {
    "collapsed": false,
    "pycharm": {
     "name": "#%%\n"
    }
   }
  },
  {
   "cell_type": "code",
   "execution_count": 104,
   "outputs": [
    {
     "name": "stdout",
     "output_type": "stream",
     "text": [
      "   N = 50 samples\n",
      " sample #  Test AUC\n",
      "        1  0.510480\n",
      "        2  0.508930\n",
      "        3  0.530874\n",
      "        4  0.519574\n",
      "        5  0.489810\n",
      "        6  0.527492\n",
      "        7  0.509490\n",
      "        8  0.513056\n",
      "        9  0.502588\n",
      "       10  0.535099\n",
      "Mean Test AUC: 0.5147 | SD Test AUC: 0.0131\n"
     ]
    },
    {
     "data": {
      "text/plain": "(50, 0.514739374190607, 0.013085235191898302)"
     },
     "execution_count": 104,
     "metadata": {},
     "output_type": "execute_result"
    }
   ],
   "source": [
    "# run for size 50\n",
    "show(50)"
   ],
   "metadata": {
    "collapsed": false,
    "pycharm": {
     "name": "#%%\n"
    }
   }
  },
  {
   "cell_type": "markdown",
   "source": [
    "## 3. Repeat Above with More Sample Size"
   ],
   "metadata": {
    "collapsed": false,
    "pycharm": {
     "name": "#%% md\n"
    }
   }
  },
  {
   "cell_type": "code",
   "execution_count": 105,
   "outputs": [
    {
     "name": "stdout",
     "output_type": "stream",
     "text": [
      "Mean Test AUC: 0.5147 | SD Test AUC: 0.0131\n",
      "Mean Test AUC: 0.5166 | SD Test AUC: 0.0251\n",
      "Mean Test AUC: 0.5281 | SD Test AUC: 0.0176\n",
      "Mean Test AUC: 0.5384 | SD Test AUC: 0.0211\n",
      "Mean Test AUC: 0.5567 | SD Test AUC: 0.0211\n",
      "Mean Test AUC: 0.5684 | SD Test AUC: 0.0130\n",
      "Mean Test AUC: 0.5812 | SD Test AUC: 0.0098\n",
      "Mean Test AUC: 0.5886 | SD Test AUC: 0.0085\n",
      "Mean Test AUC: 0.5982 | SD Test AUC: 0.0103\n",
      "Mean Test AUC: 0.6041 | SD Test AUC: 0.0063\n",
      "Mean Test AUC: 0.6107 | SD Test AUC: 0.0083\n",
      "Mean Test AUC: 0.6232 | SD Test AUC: 0.0064\n",
      "Mean Test AUC: 0.6275 | SD Test AUC: 0.0046\n",
      "Mean Test AUC: 0.6364 | SD Test AUC: 0.0048\n",
      "Mean Test AUC: 0.6394 | SD Test AUC: 0.0021\n",
      "Mean Test AUC: 0.6407 | SD Test AUC: 0.0023\n",
      "Mean Test AUC: 0.6425 | SD Test AUC: 0.0019\n",
      "Mean Test AUC: 0.6432 | SD Test AUC: 0.0019\n"
     ]
    }
   ],
   "source": [
    "# repeat for sample size N\n",
    "size_ls = [50, 100, 500, 1000, 1500, 2000, 3000,\n",
    "           4000, 5000, 7500, 10000, 20000, 25000,\n",
    "           50000, 80000, 100000, 200000, 250000]\n",
    "test_auc_ls = []\n",
    "for v in size_ls:\n",
    "    s_size, s_mean, s_std = show(v, print_tb=False)\n",
    "    test_auc_ls.append([s_size, s_mean, s_std])"
   ],
   "metadata": {
    "collapsed": false,
    "pycharm": {
     "name": "#%%\n"
    }
   }
  },
  {
   "cell_type": "markdown",
   "source": [
    "## 4. Show with Table"
   ],
   "metadata": {
    "collapsed": false,
    "pycharm": {
     "name": "#%% md\n"
    }
   }
  },
  {
   "cell_type": "code",
   "execution_count": 108,
   "outputs": [
    {
     "data": {
      "text/plain": "         N  Mean Test AUC  Std Test AUC\n0       50       0.514739      0.013085\n1      100       0.516582      0.025128\n2      500       0.528074      0.017561\n3     1000       0.538414      0.021071\n4     1500       0.556728      0.021064\n5     2000       0.568428      0.012963\n6     3000       0.581221      0.009827\n7     4000       0.588575      0.008523\n8     5000       0.598192      0.010333\n9     7500       0.604140      0.006297\n10   10000       0.610680      0.008292\n11   20000       0.623214      0.006428\n12   25000       0.627536      0.004571\n13   50000       0.636391      0.004783\n14   80000       0.639402      0.002064\n15  100000       0.640689      0.002320\n16  200000       0.642502      0.001925\n17  250000       0.643199      0.001868",
      "text/html": "<div>\n<style scoped>\n    .dataframe tbody tr th:only-of-type {\n        vertical-align: middle;\n    }\n\n    .dataframe tbody tr th {\n        vertical-align: top;\n    }\n\n    .dataframe thead th {\n        text-align: right;\n    }\n</style>\n<table border=\"1\" class=\"dataframe\">\n  <thead>\n    <tr style=\"text-align: right;\">\n      <th></th>\n      <th>N</th>\n      <th>Mean Test AUC</th>\n      <th>Std Test AUC</th>\n    </tr>\n  </thead>\n  <tbody>\n    <tr>\n      <th>0</th>\n      <td>50</td>\n      <td>0.514739</td>\n      <td>0.013085</td>\n    </tr>\n    <tr>\n      <th>1</th>\n      <td>100</td>\n      <td>0.516582</td>\n      <td>0.025128</td>\n    </tr>\n    <tr>\n      <th>2</th>\n      <td>500</td>\n      <td>0.528074</td>\n      <td>0.017561</td>\n    </tr>\n    <tr>\n      <th>3</th>\n      <td>1000</td>\n      <td>0.538414</td>\n      <td>0.021071</td>\n    </tr>\n    <tr>\n      <th>4</th>\n      <td>1500</td>\n      <td>0.556728</td>\n      <td>0.021064</td>\n    </tr>\n    <tr>\n      <th>5</th>\n      <td>2000</td>\n      <td>0.568428</td>\n      <td>0.012963</td>\n    </tr>\n    <tr>\n      <th>6</th>\n      <td>3000</td>\n      <td>0.581221</td>\n      <td>0.009827</td>\n    </tr>\n    <tr>\n      <th>7</th>\n      <td>4000</td>\n      <td>0.588575</td>\n      <td>0.008523</td>\n    </tr>\n    <tr>\n      <th>8</th>\n      <td>5000</td>\n      <td>0.598192</td>\n      <td>0.010333</td>\n    </tr>\n    <tr>\n      <th>9</th>\n      <td>7500</td>\n      <td>0.604140</td>\n      <td>0.006297</td>\n    </tr>\n    <tr>\n      <th>10</th>\n      <td>10000</td>\n      <td>0.610680</td>\n      <td>0.008292</td>\n    </tr>\n    <tr>\n      <th>11</th>\n      <td>20000</td>\n      <td>0.623214</td>\n      <td>0.006428</td>\n    </tr>\n    <tr>\n      <th>12</th>\n      <td>25000</td>\n      <td>0.627536</td>\n      <td>0.004571</td>\n    </tr>\n    <tr>\n      <th>13</th>\n      <td>50000</td>\n      <td>0.636391</td>\n      <td>0.004783</td>\n    </tr>\n    <tr>\n      <th>14</th>\n      <td>80000</td>\n      <td>0.639402</td>\n      <td>0.002064</td>\n    </tr>\n    <tr>\n      <th>15</th>\n      <td>100000</td>\n      <td>0.640689</td>\n      <td>0.002320</td>\n    </tr>\n    <tr>\n      <th>16</th>\n      <td>200000</td>\n      <td>0.642502</td>\n      <td>0.001925</td>\n    </tr>\n    <tr>\n      <th>17</th>\n      <td>250000</td>\n      <td>0.643199</td>\n      <td>0.001868</td>\n    </tr>\n  </tbody>\n</table>\n</div>"
     },
     "execution_count": 108,
     "metadata": {},
     "output_type": "execute_result"
    }
   ],
   "source": [
    "df_test_auc = pd.DataFrame(test_auc_ls, columns=['N', 'Mean Test AUC', 'Std Test AUC'])\n",
    "df_test_auc"
   ],
   "metadata": {
    "collapsed": false,
    "pycharm": {
     "name": "#%%\n"
    }
   }
  },
  {
   "cell_type": "markdown",
   "source": [
    "## 5. Plot with `errorbar()`"
   ],
   "metadata": {
    "collapsed": false,
    "pycharm": {
     "name": "#%% md\n"
    }
   }
  },
  {
   "cell_type": "code",
   "execution_count": 109,
   "outputs": [
    {
     "data": {
      "text/plain": "<Figure size 648x648 with 1 Axes>",
      "image/png": "[encoded data removed]"
     },
     "metadata": {},
     "output_type": "display_data"
    }
   ],
   "source": [
    "plt.figure(figsize=(9, 9))\n",
    "plt.errorbar(df_test_auc['N'], df_test_auc['Mean Test AUC'], df_test_auc['Std Test AUC'],\n",
    "             marker = '.', ecolor = 'red')\n",
    "plt.xlabel('Sample Size')\n",
    "plt.ylabel('Mean Test AUC')\n",
    "plt.title('Error Bar Plot with Increasing Sample Size', fontsize=18)\n",
    "plt.show()"
   ],
   "metadata": {
    "collapsed": false,
    "pycharm": {
     "name": "#%%\n"
    }
   }
  },
  {
   "cell_type": "markdown",
   "source": [
    "#### Comment\n",
    "In the error-bar plot we can easily with increasing sample size, the AUC value rises and the standard deviation gradually drops.\n",
    "\n",
    "And when the sample size reach it's elbow point of testing AUC curve (sample size = 50000), the `Mean Test AUC` can describe behaviour well; however, the next sample size have significantly lower `Std Test AUC`(standard deviation of test AUC). Overall, I would choose sample size 80000 as the minimum to show the model behavior adequately."
   ],
   "metadata": {
    "collapsed": false,
    "pycharm": {
     "name": "#%% md\n"
    }
   }
  },
  {
   "cell_type": "code",
   "execution_count": null,
   "outputs": [],
   "source": [],
   "metadata": {
    "collapsed": false,
    "pycharm": {
     "name": "#%%\n"
    }
   }
  }
 ],
 "metadata": {
  "kernelspec": {
   "display_name": "Python 3",
   "language": "python",
   "name": "python3"
  },
  "language_info": {
   "codemirror_mode": {
    "name": "ipython",
    "version": 2
   },
   "file_extension": ".py",
   "mimetype": "text/x-python",
   "name": "python",
   "nbconvert_exporter": "python",
   "pygments_lexer": "ipython2",
   "version": "2.7.6"
  }
 },
 "nbformat": 4,
 "nbformat_minor": 0
}