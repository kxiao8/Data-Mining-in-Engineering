{
 "cells": [
  {
   "cell_type": "markdown",
   "source": [
    "# Programming assignment #3\n",
    "Course: CHE1147H - Data Mining in Engineering\n",
    "Topic: Feature engineering\n",
    "Name: Kecheng Xiao\n",
    "ID:1008709140"
   ],
   "metadata": {
    "collapsed": false
   }
  },
  {
   "cell_type": "code",
   "execution_count": 1,
   "outputs": [],
   "source": [
    "import pandas as pd\n",
    "import numpy as np\n",
    "import matplotlib.pyplot as plt"
   ],
   "metadata": {
    "collapsed": false
   }
  },
  {
   "cell_type": "markdown",
   "source": [
    "## 1.1 Import the data and create the anchor date columns"
   ],
   "metadata": {
    "collapsed": false
   }
  },
  {
   "cell_type": "code",
   "execution_count": 2,
   "outputs": [
    {
     "data": {
      "text/plain": "  customer_id trans_date  tran_amount\n0      CS5295  11-Feb-13           35\n1      CS4768  15-Mar-15           39\n2      CS2122  26-Feb-13           52\n3      CS1217  16-Nov-11           99\n4      CS1850  20-Nov-13           78",
      "text/html": "<div>\n<style scoped>\n    .dataframe tbody tr th:only-of-type {\n        vertical-align: middle;\n    }\n\n    .dataframe tbody tr th {\n        vertical-align: top;\n    }\n\n    .dataframe thead th {\n        text-align: right;\n    }\n</style>\n<table border=\"1\" class=\"dataframe\">\n  <thead>\n    <tr style=\"text-align: right;\">\n      <th></th>\n      <th>customer_id</th>\n      <th>trans_date</th>\n      <th>tran_amount</th>\n    </tr>\n  </thead>\n  <tbody>\n    <tr>\n      <th>0</th>\n      <td>CS5295</td>\n      <td>11-Feb-13</td>\n      <td>35</td>\n    </tr>\n    <tr>\n      <th>1</th>\n      <td>CS4768</td>\n      <td>15-Mar-15</td>\n      <td>39</td>\n    </tr>\n    <tr>\n      <th>2</th>\n      <td>CS2122</td>\n      <td>26-Feb-13</td>\n      <td>52</td>\n    </tr>\n    <tr>\n      <th>3</th>\n      <td>CS1217</td>\n      <td>16-Nov-11</td>\n      <td>99</td>\n    </tr>\n    <tr>\n      <th>4</th>\n      <td>CS1850</td>\n      <td>20-Nov-13</td>\n      <td>78</td>\n    </tr>\n  </tbody>\n</table>\n</div>"
     },
     "execution_count": 2,
     "metadata": {},
     "output_type": "execute_result"
    }
   ],
   "source": [
    "# 1 Import the dataset as txn\n",
    "txn = pd.read_csv('Retail_Data_Transactions.csv')\n",
    "txn.head()"
   ],
   "metadata": {
    "collapsed": false
   }
  },
  {
   "cell_type": "code",
   "execution_count": 3,
   "outputs": [
    {
     "data": {
      "text/plain": "125000"
     },
     "execution_count": 3,
     "metadata": {},
     "output_type": "execute_result"
    }
   ],
   "source": [
    "# Identify the number of rows\n",
    "txn.shape[0]"
   ],
   "metadata": {
    "collapsed": false
   }
  },
  {
   "cell_type": "code",
   "execution_count": 4,
   "outputs": [
    {
     "data": {
      "text/plain": "  customer_id trans_date  tran_amount   txn_date\n0      CS5295  11-Feb-13           35 2013-02-11\n1      CS4768  15-Mar-15           39 2015-03-15\n2      CS2122  26-Feb-13           52 2013-02-26\n3      CS1217  16-Nov-11           99 2011-11-16\n4      CS1850  20-Nov-13           78 2013-11-20",
      "text/html": "<div>\n<style scoped>\n    .dataframe tbody tr th:only-of-type {\n        vertical-align: middle;\n    }\n\n    .dataframe tbody tr th {\n        vertical-align: top;\n    }\n\n    .dataframe thead th {\n        text-align: right;\n    }\n</style>\n<table border=\"1\" class=\"dataframe\">\n  <thead>\n    <tr style=\"text-align: right;\">\n      <th></th>\n      <th>customer_id</th>\n      <th>trans_date</th>\n      <th>tran_amount</th>\n      <th>txn_date</th>\n    </tr>\n  </thead>\n  <tbody>\n    <tr>\n      <th>0</th>\n      <td>CS5295</td>\n      <td>11-Feb-13</td>\n      <td>35</td>\n      <td>2013-02-11</td>\n    </tr>\n    <tr>\n      <th>1</th>\n      <td>CS4768</td>\n      <td>15-Mar-15</td>\n      <td>39</td>\n      <td>2015-03-15</td>\n    </tr>\n    <tr>\n      <th>2</th>\n      <td>CS2122</td>\n      <td>26-Feb-13</td>\n      <td>52</td>\n      <td>2013-02-26</td>\n    </tr>\n    <tr>\n      <th>3</th>\n      <td>CS1217</td>\n      <td>16-Nov-11</td>\n      <td>99</td>\n      <td>2011-11-16</td>\n    </tr>\n    <tr>\n      <th>4</th>\n      <td>CS1850</td>\n      <td>20-Nov-13</td>\n      <td>78</td>\n      <td>2013-11-20</td>\n    </tr>\n  </tbody>\n</table>\n</div>"
     },
     "execution_count": 4,
     "metadata": {},
     "output_type": "execute_result"
    }
   ],
   "source": [
    "# 2 Create a new column 'txn date' from 'trans date' with pd.to datetime\n",
    "txn['txn_date'] = pd.to_datetime(txn['trans_date'])\n",
    "txn.head()"
   ],
   "metadata": {
    "collapsed": false
   }
  },
  {
   "cell_type": "code",
   "execution_count": 5,
   "outputs": [
    {
     "data": {
      "text/plain": "  customer_id  tran_amount   txn_date\n0      CS5295           35 2013-02-11\n1      CS4768           39 2015-03-15\n2      CS2122           52 2013-02-26\n3      CS1217           99 2011-11-16\n4      CS1850           78 2013-11-20",
      "text/html": "<div>\n<style scoped>\n    .dataframe tbody tr th:only-of-type {\n        vertical-align: middle;\n    }\n\n    .dataframe tbody tr th {\n        vertical-align: top;\n    }\n\n    .dataframe thead th {\n        text-align: right;\n    }\n</style>\n<table border=\"1\" class=\"dataframe\">\n  <thead>\n    <tr style=\"text-align: right;\">\n      <th></th>\n      <th>customer_id</th>\n      <th>tran_amount</th>\n      <th>txn_date</th>\n    </tr>\n  </thead>\n  <tbody>\n    <tr>\n      <th>0</th>\n      <td>CS5295</td>\n      <td>35</td>\n      <td>2013-02-11</td>\n    </tr>\n    <tr>\n      <th>1</th>\n      <td>CS4768</td>\n      <td>39</td>\n      <td>2015-03-15</td>\n    </tr>\n    <tr>\n      <th>2</th>\n      <td>CS2122</td>\n      <td>52</td>\n      <td>2013-02-26</td>\n    </tr>\n    <tr>\n      <th>3</th>\n      <td>CS1217</td>\n      <td>99</td>\n      <td>2011-11-16</td>\n    </tr>\n    <tr>\n      <th>4</th>\n      <td>CS1850</td>\n      <td>78</td>\n      <td>2013-11-20</td>\n    </tr>\n  </tbody>\n</table>\n</div>"
     },
     "execution_count": 5,
     "metadata": {},
     "output_type": "execute_result"
    }
   ],
   "source": [
    "# Drop the column 'trans date'\n",
    "txn.drop('trans_date', axis=1, inplace=True)\n",
    "txn.head()"
   ],
   "metadata": {
    "collapsed": false
   }
  },
  {
   "cell_type": "code",
   "execution_count": 6,
   "outputs": [
    {
     "data": {
      "text/plain": "Timestamp('2011-05-16 00:00:00')"
     },
     "execution_count": 6,
     "metadata": {},
     "output_type": "execute_result"
    }
   ],
   "source": [
    "# 3 Identify the min() and max() of column 'txn date'\n",
    "min(txn['txn_date'])"
   ],
   "metadata": {
    "collapsed": false
   }
  },
  {
   "cell_type": "code",
   "execution_count": 7,
   "outputs": [
    {
     "data": {
      "text/plain": "Timestamp('2015-03-16 00:00:00')"
     },
     "execution_count": 7,
     "metadata": {},
     "output_type": "execute_result"
    }
   ],
   "source": [
    "max(txn['txn_date'])"
   ],
   "metadata": {
    "collapsed": false
   }
  },
  {
   "cell_type": "code",
   "execution_count": 8,
   "outputs": [
    {
     "data": {
      "text/plain": "  customer_id  tran_amount   txn_date      ME_DT\n0      CS5295           35 2013-02-11 2013-02-28\n1      CS4768           39 2015-03-15 2015-03-31\n2      CS2122           52 2013-02-26 2013-02-28\n3      CS1217           99 2011-11-16 2011-11-30\n4      CS1850           78 2013-11-20 2013-11-30",
      "text/html": "<div>\n<style scoped>\n    .dataframe tbody tr th:only-of-type {\n        vertical-align: middle;\n    }\n\n    .dataframe tbody tr th {\n        vertical-align: top;\n    }\n\n    .dataframe thead th {\n        text-align: right;\n    }\n</style>\n<table border=\"1\" class=\"dataframe\">\n  <thead>\n    <tr style=\"text-align: right;\">\n      <th></th>\n      <th>customer_id</th>\n      <th>tran_amount</th>\n      <th>txn_date</th>\n      <th>ME_DT</th>\n    </tr>\n  </thead>\n  <tbody>\n    <tr>\n      <th>0</th>\n      <td>CS5295</td>\n      <td>35</td>\n      <td>2013-02-11</td>\n      <td>2013-02-28</td>\n    </tr>\n    <tr>\n      <th>1</th>\n      <td>CS4768</td>\n      <td>39</td>\n      <td>2015-03-15</td>\n      <td>2015-03-31</td>\n    </tr>\n    <tr>\n      <th>2</th>\n      <td>CS2122</td>\n      <td>52</td>\n      <td>2013-02-26</td>\n      <td>2013-02-28</td>\n    </tr>\n    <tr>\n      <th>3</th>\n      <td>CS1217</td>\n      <td>99</td>\n      <td>2011-11-16</td>\n      <td>2011-11-30</td>\n    </tr>\n    <tr>\n      <th>4</th>\n      <td>CS1850</td>\n      <td>78</td>\n      <td>2013-11-20</td>\n      <td>2013-11-30</td>\n    </tr>\n  </tbody>\n</table>\n</div>"
     },
     "execution_count": 8,
     "metadata": {},
     "output_type": "execute_result"
    }
   ],
   "source": [
    "# 4 Create the column 'ME DT': the last day of the month in the 'trans date' column\n",
    "txn['ME_DT'] = txn['txn_date'] + pd.offsets.MonthEnd(n=1)\n",
    "txn.head()"
   ],
   "metadata": {
    "collapsed": false
   }
  },
  {
   "cell_type": "code",
   "execution_count": 9,
   "outputs": [
    {
     "data": {
      "text/plain": "   customer_id  tran_amount   txn_date      ME_DT  YEAR\n55      CS2662           88 2014-08-31 2014-09-30  2014\n56      CS2209           35 2012-03-12 2012-03-31  2012\n57      CS4530           40 2011-06-05 2011-06-30  2011\n58      CS2848           53 2013-02-04 2013-02-28  2013\n59      CS2596           55 2011-09-19 2011-09-30  2011",
      "text/html": "<div>\n<style scoped>\n    .dataframe tbody tr th:only-of-type {\n        vertical-align: middle;\n    }\n\n    .dataframe tbody tr th {\n        vertical-align: top;\n    }\n\n    .dataframe thead th {\n        text-align: right;\n    }\n</style>\n<table border=\"1\" class=\"dataframe\">\n  <thead>\n    <tr style=\"text-align: right;\">\n      <th></th>\n      <th>customer_id</th>\n      <th>tran_amount</th>\n      <th>txn_date</th>\n      <th>ME_DT</th>\n      <th>YEAR</th>\n    </tr>\n  </thead>\n  <tbody>\n    <tr>\n      <th>55</th>\n      <td>CS2662</td>\n      <td>88</td>\n      <td>2014-08-31</td>\n      <td>2014-09-30</td>\n      <td>2014</td>\n    </tr>\n    <tr>\n      <th>56</th>\n      <td>CS2209</td>\n      <td>35</td>\n      <td>2012-03-12</td>\n      <td>2012-03-31</td>\n      <td>2012</td>\n    </tr>\n    <tr>\n      <th>57</th>\n      <td>CS4530</td>\n      <td>40</td>\n      <td>2011-06-05</td>\n      <td>2011-06-30</td>\n      <td>2011</td>\n    </tr>\n    <tr>\n      <th>58</th>\n      <td>CS2848</td>\n      <td>53</td>\n      <td>2013-02-04</td>\n      <td>2013-02-28</td>\n      <td>2013</td>\n    </tr>\n    <tr>\n      <th>59</th>\n      <td>CS2596</td>\n      <td>55</td>\n      <td>2011-09-19</td>\n      <td>2011-09-30</td>\n      <td>2011</td>\n    </tr>\n  </tbody>\n</table>\n</div>"
     },
     "execution_count": 9,
     "metadata": {},
     "output_type": "execute_result"
    }
   ],
   "source": [
    "# 5 Create the column 'YEAR': the year in the 'trans date' column\n",
    "txn['YEAR'] = pd.DatetimeIndex(txn['txn_date']).year\n",
    "txn.iloc[55:60,:]"
   ],
   "metadata": {
    "collapsed": false
   }
  },
  {
   "cell_type": "markdown",
   "source": [
    "## 1.2 Create features that capture annual spending"
   ],
   "metadata": {
    "collapsed": false
   }
  },
  {
   "cell_type": "code",
   "execution_count": 10,
   "outputs": [
    {
     "data": {
      "text/plain": "                  ann_txn_amt_sum  ann_txn_amt_ave  ann_txn_amt_std  \\\ncustomer_id YEAR                                                      \nCS1112      2011              212        70.666667        22.030282   \n            2012              337        67.400000        12.720063   \n            2013              212        70.666667        34.501208   \n            2014              212        70.666667        16.862186   \n            2015               39        39.000000              NaN   \n\n                  ann_txn_amt_var  ann_txn_amt_sem  ann_txn_amt_max  \\\ncustomer_id YEAR                                                      \nCS1112      2011       485.333333        12.719189               96   \n            2012       161.800000         5.688585               81   \n            2013      1190.333333        19.919282              105   \n            2014       284.333333         9.735388               90   \n            2015              NaN              NaN               39   \n\n                  ann_txn_amt_min  ann_txn_amt_cnt  \ncustomer_id YEAR                                    \nCS1112      2011               56                3  \n            2012               52                5  \n            2013               36                3  \n            2014               59                3  \n            2015               39                1  ",
      "text/html": "<div>\n<style scoped>\n    .dataframe tbody tr th:only-of-type {\n        vertical-align: middle;\n    }\n\n    .dataframe tbody tr th {\n        vertical-align: top;\n    }\n\n    .dataframe thead th {\n        text-align: right;\n    }\n</style>\n<table border=\"1\" class=\"dataframe\">\n  <thead>\n    <tr style=\"text-align: right;\">\n      <th></th>\n      <th></th>\n      <th>ann_txn_amt_sum</th>\n      <th>ann_txn_amt_ave</th>\n      <th>ann_txn_amt_std</th>\n      <th>ann_txn_amt_var</th>\n      <th>ann_txn_amt_sem</th>\n      <th>ann_txn_amt_max</th>\n      <th>ann_txn_amt_min</th>\n      <th>ann_txn_amt_cnt</th>\n    </tr>\n    <tr>\n      <th>customer_id</th>\n      <th>YEAR</th>\n      <th></th>\n      <th></th>\n      <th></th>\n      <th></th>\n      <th></th>\n      <th></th>\n      <th></th>\n      <th></th>\n    </tr>\n  </thead>\n  <tbody>\n    <tr>\n      <th rowspan=\"5\" valign=\"top\">CS1112</th>\n      <th>2011</th>\n      <td>212</td>\n      <td>70.666667</td>\n      <td>22.030282</td>\n      <td>485.333333</td>\n      <td>12.719189</td>\n      <td>96</td>\n      <td>56</td>\n      <td>3</td>\n    </tr>\n    <tr>\n      <th>2012</th>\n      <td>337</td>\n      <td>67.400000</td>\n      <td>12.720063</td>\n      <td>161.800000</td>\n      <td>5.688585</td>\n      <td>81</td>\n      <td>52</td>\n      <td>5</td>\n    </tr>\n    <tr>\n      <th>2013</th>\n      <td>212</td>\n      <td>70.666667</td>\n      <td>34.501208</td>\n      <td>1190.333333</td>\n      <td>19.919282</td>\n      <td>105</td>\n      <td>36</td>\n      <td>3</td>\n    </tr>\n    <tr>\n      <th>2014</th>\n      <td>212</td>\n      <td>70.666667</td>\n      <td>16.862186</td>\n      <td>284.333333</td>\n      <td>9.735388</td>\n      <td>90</td>\n      <td>59</td>\n      <td>3</td>\n    </tr>\n    <tr>\n      <th>2015</th>\n      <td>39</td>\n      <td>39.000000</td>\n      <td>NaN</td>\n      <td>NaN</td>\n      <td>NaN</td>\n      <td>39</td>\n      <td>39</td>\n      <td>1</td>\n    </tr>\n  </tbody>\n</table>\n</div>"
     },
     "execution_count": 10,
     "metadata": {},
     "output_type": "execute_result"
    }
   ],
   "source": [
    "# 1 Using groupby and NamedAgg create clnt annual aggregations\n",
    "agg_sum = pd.NamedAgg(column='tran_amount', aggfunc='sum')\n",
    "agg_ave = pd.NamedAgg(column='tran_amount', aggfunc='mean')\n",
    "agg_std = pd.NamedAgg(column='tran_amount', aggfunc='std')\n",
    "agg_var = pd.NamedAgg(column='tran_amount', aggfunc='var')\n",
    "agg_sem = pd.NamedAgg(column='tran_amount', aggfunc='sem')\n",
    "agg_max = pd.NamedAgg(column='tran_amount', aggfunc='max')\n",
    "agg_min = pd.NamedAgg(column='tran_amount', aggfunc='min')\n",
    "agg_cnt = pd.NamedAgg(column='tran_amount', aggfunc='count')\n",
    "\n",
    "clnt_annual_aggregations = txn.groupby(['customer_id', 'YEAR']).agg(\n",
    "    ann_txn_amt_sum = agg_sum,\n",
    "    ann_txn_amt_ave = agg_ave,\n",
    "    ann_txn_amt_std = agg_std,\n",
    "    ann_txn_amt_var = agg_var,\n",
    "    ann_txn_amt_sem = agg_sem,\n",
    "    ann_txn_amt_max = agg_max,\n",
    "    ann_txn_amt_min = agg_min,\n",
    "    ann_txn_amt_cnt = agg_cnt\n",
    ")\n",
    "clnt_annual_aggregations = pd.DataFrame(clnt_annual_aggregations)\n",
    "clnt_annual_aggregations.head()"
   ],
   "metadata": {
    "collapsed": false
   }
  },
  {
   "cell_type": "code",
   "execution_count": 11,
   "outputs": [
    {
     "data": {
      "text/plain": "<Figure size 432x288 with 1 Axes>",
      "image/png": "[encoded data removed]"
     },
     "metadata": {
      "needs_background": "light"
     },
     "output_type": "display_data"
    }
   ],
   "source": [
    "# 2 Plot the histogram of the sum and count\n",
    "clnt_annual_aggregations['ann_txn_amt_sum'].plot.hist(bins=15, alpha=0.5)\n",
    "plt.xlabel('Sum of Annual Transaction')\n",
    "plt.title('Distribution of Annual Total Transaction')\n",
    "plt.show()"
   ],
   "metadata": {
    "collapsed": false
   }
  },
  {
   "cell_type": "code",
   "execution_count": 12,
   "outputs": [
    {
     "data": {
      "text/plain": "<Figure size 432x288 with 1 Axes>",
      "image/png": "[encoded data removed]"
     },
     "metadata": {
      "needs_background": "light"
     },
     "output_type": "display_data"
    }
   ],
   "source": [
    "clnt_annual_aggregations['ann_txn_amt_cnt'].plot.hist(bins=15, alpha=0.5)\n",
    "plt.xlabel('Count of Annual Transaction')\n",
    "plt.title('Distribution of Annual Transaction Count')\n",
    "plt.show()"
   ],
   "metadata": {
    "collapsed": false
   }
  },
  {
   "cell_type": "code",
   "execution_count": 13,
   "outputs": [],
   "source": [
    "# 3 Reset the index and reshape the table\n",
    "clnt_annual_aggregations_pivot = pd.pivot_table(clnt_annual_aggregations,\n",
    "                                                index=['customer_id'],\n",
    "                                                columns=['YEAR']\n",
    ")"
   ],
   "metadata": {
    "collapsed": false
   }
  },
  {
   "cell_type": "code",
   "execution_count": 14,
   "outputs": [
    {
     "data": {
      "text/plain": "False"
     },
     "execution_count": 14,
     "metadata": {},
     "output_type": "execute_result"
    }
   ],
   "source": [
    "txn.isna().values.any()"
   ],
   "metadata": {
    "collapsed": false
   }
  },
  {
   "cell_type": "code",
   "execution_count": 15,
   "outputs": [
    {
     "data": {
      "text/plain": "            ann_txn_amt_ave                                         \\\nYEAR                   2011       2012       2013       2014  2015   \ncustomer_id                                                          \nCS1112            70.666667  67.400000  70.666667  70.666667  39.0   \nCS1114            85.200000  75.000000  70.400000  70.833333  79.0   \nCS1115            87.000000  67.571429  79.571429  78.250000  55.0   \nCS1116            58.750000  76.666667  59.000000  66.600000   NaN   \nCS1117            71.000000  65.333333  69.400000  71.500000   NaN   \n...                     ...        ...        ...        ...   ...   \nCS8996            31.000000  33.666667  41.500000  56.000000   NaN   \nCS8997            45.000000  39.500000  35.166667  42.000000   NaN   \nCS8998            64.000000  54.400000  47.000000  32.500000   NaN   \nCS8999            52.000000  25.250000  28.000000  21.000000   NaN   \nCS9000            19.500000  54.000000  73.500000  24.250000  34.0   \n\n            ann_txn_amt_cnt                      ... ann_txn_amt_sum         \\\nYEAR                   2011 2012 2013 2014 2015  ...            2011   2012   \ncustomer_id                                      ...                          \nCS1112                  3.0  5.0  3.0  3.0  1.0  ...           212.0  337.0   \nCS1114                  5.0  2.0  5.0  6.0  1.0  ...           426.0  150.0   \nCS1115                  3.0  7.0  7.0  4.0  1.0  ...           261.0  473.0   \nCS1116                  4.0  3.0  1.0  5.0  NaN  ...           235.0  230.0   \nCS1117                  3.0  3.0  5.0  6.0  NaN  ...           213.0  196.0   \n...                     ...  ...  ...  ...  ...  ...             ...    ...   \nCS8996                  2.0  3.0  2.0  6.0  NaN  ...            62.0  101.0   \nCS8997                  2.0  4.0  6.0  2.0  NaN  ...            90.0  158.0   \nCS8998                  2.0  5.0  2.0  4.0  NaN  ...           128.0  272.0   \nCS8999                  3.0  4.0  3.0  2.0  NaN  ...           156.0  101.0   \nCS9000                  2.0  4.0  2.0  4.0  1.0  ...            39.0  216.0   \n\n                                ann_txn_amt_var                            \\\nYEAR          2013   2014  2015            2011         2012         2013   \ncustomer_id                                                                 \nCS1112       212.0  212.0  39.0      485.333333   161.800000  1190.333333   \nCS1114       352.0  425.0  79.0       94.700000   968.000000   619.300000   \nCS1115       557.0  313.0  55.0      225.000000   477.285714   110.952381   \nCS1116        59.0  333.0   NaN      449.583333   908.333333          NaN   \nCS1117       347.0  429.0   NaN      679.000000  1070.333333   302.300000   \n...            ...    ...   ...             ...          ...          ...   \nCS8996        83.0  336.0   NaN       98.000000    20.333333   144.500000   \nCS8997       211.0   84.0   NaN        8.000000    45.666667   441.366667   \nCS8998        94.0  130.0   NaN       50.000000   505.300000  1568.000000   \nCS8999        84.0   42.0   NaN      333.000000    21.583333   103.000000   \nCS9000       147.0   97.0  34.0       24.500000   281.333333    12.500000   \n\n                              \nYEAR               2014 2015  \ncustomer_id                   \nCS1112       284.333333  NaN  \nCS1114       726.166667  NaN  \nCS1115       512.250000  NaN  \nCS1116       636.800000  NaN  \nCS1117       251.900000  NaN  \n...                 ...  ...  \nCS8996       481.600000  NaN  \nCS8997        18.000000  NaN  \nCS8998       219.666667  NaN  \nCS8999        18.000000  NaN  \nCS9000        68.250000  NaN  \n\n[5682 rows x 40 columns]",
      "text/html": "<div>\n<style scoped>\n    .dataframe tbody tr th:only-of-type {\n        vertical-align: middle;\n    }\n\n    .dataframe tbody tr th {\n        vertical-align: top;\n    }\n\n    .dataframe thead tr th {\n        text-align: left;\n    }\n\n    .dataframe thead tr:last-of-type th {\n        text-align: right;\n    }\n</style>\n<table border=\"1\" class=\"dataframe\">\n  <thead>\n    <tr>\n      <th></th>\n      <th colspan=\"5\" halign=\"left\">ann_txn_amt_ave</th>\n      <th colspan=\"5\" halign=\"left\">ann_txn_amt_cnt</th>\n      <th>...</th>\n      <th colspan=\"5\" halign=\"left\">ann_txn_amt_sum</th>\n      <th colspan=\"5\" halign=\"left\">ann_txn_amt_var</th>\n    </tr>\n    <tr>\n      <th>YEAR</th>\n      <th>2011</th>\n      <th>2012</th>\n      <th>2013</th>\n      <th>2014</th>\n      <th>2015</th>\n      <th>2011</th>\n      <th>2012</th>\n      <th>2013</th>\n      <th>2014</th>\n      <th>2015</th>\n      <th>...</th>\n      <th>2011</th>\n      <th>2012</th>\n      <th>2013</th>\n      <th>2014</th>\n      <th>2015</th>\n      <th>2011</th>\n      <th>2012</th>\n      <th>2013</th>\n      <th>2014</th>\n      <th>2015</th>\n    </tr>\n    <tr>\n      <th>customer_id</th>\n      <th></th>\n      <th></th>\n      <th></th>\n      <th></th>\n      <th></th>\n      <th></th>\n      <th></th>\n      <th></th>\n      <th></th>\n      <th></th>\n      <th></th>\n      <th></th>\n      <th></th>\n      <th></th>\n      <th></th>\n      <th></th>\n      <th></th>\n      <th></th>\n      <th></th>\n      <th></th>\n      <th></th>\n    </tr>\n  </thead>\n  <tbody>\n    <tr>\n      <th>CS1112</th>\n      <td>70.666667</td>\n      <td>67.400000</td>\n      <td>70.666667</td>\n      <td>70.666667</td>\n      <td>39.0</td>\n      <td>3.0</td>\n      <td>5.0</td>\n      <td>3.0</td>\n      <td>3.0</td>\n      <td>1.0</td>\n      <td>...</td>\n      <td>212.0</td>\n      <td>337.0</td>\n      <td>212.0</td>\n      <td>212.0</td>\n      <td>39.0</td>\n      <td>485.333333</td>\n      <td>161.800000</td>\n      <td>1190.333333</td>\n      <td>284.333333</td>\n      <td>NaN</td>\n    </tr>\n    <tr>\n      <th>CS1114</th>\n      <td>85.200000</td>\n      <td>75.000000</td>\n      <td>70.400000</td>\n      <td>70.833333</td>\n      <td>79.0</td>\n      <td>5.0</td>\n      <td>2.0</td>\n      <td>5.0</td>\n      <td>6.0</td>\n      <td>1.0</td>\n      <td>...</td>\n      <td>426.0</td>\n      <td>150.0</td>\n      <td>352.0</td>\n      <td>425.0</td>\n      <td>79.0</td>\n      <td>94.700000</td>\n      <td>968.000000</td>\n      <td>619.300000</td>\n      <td>726.166667</td>\n      <td>NaN</td>\n    </tr>\n    <tr>\n      <th>CS1115</th>\n      <td>87.000000</td>\n      <td>67.571429</td>\n      <td>79.571429</td>\n      <td>78.250000</td>\n      <td>55.0</td>\n      <td>3.0</td>\n      <td>7.0</td>\n      <td>7.0</td>\n      <td>4.0</td>\n      <td>1.0</td>\n      <td>...</td>\n      <td>261.0</td>\n      <td>473.0</td>\n      <td>557.0</td>\n      <td>313.0</td>\n      <td>55.0</td>\n      <td>225.000000</td>\n      <td>477.285714</td>\n      <td>110.952381</td>\n      <td>512.250000</td>\n      <td>NaN</td>\n    </tr>\n    <tr>\n      <th>CS1116</th>\n      <td>58.750000</td>\n      <td>76.666667</td>\n      <td>59.000000</td>\n      <td>66.600000</td>\n      <td>NaN</td>\n      <td>4.0</td>\n      <td>3.0</td>\n      <td>1.0</td>\n      <td>5.0</td>\n      <td>NaN</td>\n      <td>...</td>\n      <td>235.0</td>\n      <td>230.0</td>\n      <td>59.0</td>\n      <td>333.0</td>\n      <td>NaN</td>\n      <td>449.583333</td>\n      <td>908.333333</td>\n      <td>NaN</td>\n      <td>636.800000</td>\n      <td>NaN</td>\n    </tr>\n    <tr>\n      <th>CS1117</th>\n      <td>71.000000</td>\n      <td>65.333333</td>\n      <td>69.400000</td>\n      <td>71.500000</td>\n      <td>NaN</td>\n      <td>3.0</td>\n      <td>3.0</td>\n      <td>5.0</td>\n      <td>6.0</td>\n      <td>NaN</td>\n      <td>...</td>\n      <td>213.0</td>\n      <td>196.0</td>\n      <td>347.0</td>\n      <td>429.0</td>\n      <td>NaN</td>\n      <td>679.000000</td>\n      <td>1070.333333</td>\n      <td>302.300000</td>\n      <td>251.900000</td>\n      <td>NaN</td>\n    </tr>\n    <tr>\n      <th>...</th>\n      <td>...</td>\n      <td>...</td>\n      <td>...</td>\n      <td>...</td>\n      <td>...</td>\n      <td>...</td>\n      <td>...</td>\n      <td>...</td>\n      <td>...</td>\n      <td>...</td>\n      <td>...</td>\n      <td>...</td>\n      <td>...</td>\n      <td>...</td>\n      <td>...</td>\n      <td>...</td>\n      <td>...</td>\n      <td>...</td>\n      <td>...</td>\n      <td>...</td>\n      <td>...</td>\n    </tr>\n    <tr>\n      <th>CS8996</th>\n      <td>31.000000</td>\n      <td>33.666667</td>\n      <td>41.500000</td>\n      <td>56.000000</td>\n      <td>NaN</td>\n      <td>2.0</td>\n      <td>3.0</td>\n      <td>2.0</td>\n      <td>6.0</td>\n      <td>NaN</td>\n      <td>...</td>\n      <td>62.0</td>\n      <td>101.0</td>\n      <td>83.0</td>\n      <td>336.0</td>\n      <td>NaN</td>\n      <td>98.000000</td>\n      <td>20.333333</td>\n      <td>144.500000</td>\n      <td>481.600000</td>\n      <td>NaN</td>\n    </tr>\n    <tr>\n      <th>CS8997</th>\n      <td>45.000000</td>\n      <td>39.500000</td>\n      <td>35.166667</td>\n      <td>42.000000</td>\n      <td>NaN</td>\n      <td>2.0</td>\n      <td>4.0</td>\n      <td>6.0</td>\n      <td>2.0</td>\n      <td>NaN</td>\n      <td>...</td>\n      <td>90.0</td>\n      <td>158.0</td>\n      <td>211.0</td>\n      <td>84.0</td>\n      <td>NaN</td>\n      <td>8.000000</td>\n      <td>45.666667</td>\n      <td>441.366667</td>\n      <td>18.000000</td>\n      <td>NaN</td>\n    </tr>\n    <tr>\n      <th>CS8998</th>\n      <td>64.000000</td>\n      <td>54.400000</td>\n      <td>47.000000</td>\n      <td>32.500000</td>\n      <td>NaN</td>\n      <td>2.0</td>\n      <td>5.0</td>\n      <td>2.0</td>\n      <td>4.0</td>\n      <td>NaN</td>\n      <td>...</td>\n      <td>128.0</td>\n      <td>272.0</td>\n      <td>94.0</td>\n      <td>130.0</td>\n      <td>NaN</td>\n      <td>50.000000</td>\n      <td>505.300000</td>\n      <td>1568.000000</td>\n      <td>219.666667</td>\n      <td>NaN</td>\n    </tr>\n    <tr>\n      <th>CS8999</th>\n      <td>52.000000</td>\n      <td>25.250000</td>\n      <td>28.000000</td>\n      <td>21.000000</td>\n      <td>NaN</td>\n      <td>3.0</td>\n      <td>4.0</td>\n      <td>3.0</td>\n      <td>2.0</td>\n      <td>NaN</td>\n      <td>...</td>\n      <td>156.0</td>\n      <td>101.0</td>\n      <td>84.0</td>\n      <td>42.0</td>\n      <td>NaN</td>\n      <td>333.000000</td>\n      <td>21.583333</td>\n      <td>103.000000</td>\n      <td>18.000000</td>\n      <td>NaN</td>\n    </tr>\n    <tr>\n      <th>CS9000</th>\n      <td>19.500000</td>\n      <td>54.000000</td>\n      <td>73.500000</td>\n      <td>24.250000</td>\n      <td>34.0</td>\n      <td>2.0</td>\n      <td>4.0</td>\n      <td>2.0</td>\n      <td>4.0</td>\n      <td>1.0</td>\n      <td>...</td>\n      <td>39.0</td>\n      <td>216.0</td>\n      <td>147.0</td>\n      <td>97.0</td>\n      <td>34.0</td>\n      <td>24.500000</td>\n      <td>281.333333</td>\n      <td>12.500000</td>\n      <td>68.250000</td>\n      <td>NaN</td>\n    </tr>\n  </tbody>\n</table>\n<p>5682 rows × 40 columns</p>\n</div>"
     },
     "execution_count": 15,
     "metadata": {},
     "output_type": "execute_result"
    }
   ],
   "source": [
    "# See NaN data\n",
    "clnt_annual_aggregations_pivot[clnt_annual_aggregations_pivot.isna().any(axis=1)]"
   ],
   "metadata": {
    "collapsed": false
   }
  },
  {
   "cell_type": "code",
   "execution_count": 16,
   "outputs": [
    {
     "data": {
      "text/plain": "            ann_txn_amt_ave                                              \\\nYEAR                   2011       2012       2013       2014       2015   \ncustomer_id                                                               \nCS1112            70.666667  67.400000  70.666667  70.666667  39.000000   \nCS1113            81.333333  74.800000  85.200000  56.500000  73.333333   \nCS1114            85.200000  75.000000  70.400000  70.833333  79.000000   \nCS1115            87.000000  67.571429  79.571429  78.250000  55.000000   \nCS1116            58.750000  76.666667  59.000000  66.600000   0.000000   \n\n            ann_txn_amt_cnt                      ... ann_txn_amt_sum         \\\nYEAR                   2011 2012 2013 2014 2015  ...            2011   2012   \ncustomer_id                                      ...                          \nCS1112                  3.0  5.0  3.0  3.0  1.0  ...           212.0  337.0   \nCS1113                  3.0  5.0  5.0  4.0  3.0  ...           244.0  374.0   \nCS1114                  5.0  2.0  5.0  6.0  1.0  ...           426.0  150.0   \nCS1115                  3.0  7.0  7.0  4.0  1.0  ...           261.0  473.0   \nCS1116                  4.0  3.0  1.0  5.0  0.0  ...           235.0  230.0   \n\n                                 ann_txn_amt_var                           \\\nYEAR          2013   2014   2015            2011        2012         2013   \ncustomer_id                                                                 \nCS1112       212.0  212.0   39.0      485.333333  161.800000  1190.333333   \nCS1113       426.0  226.0  220.0      444.333333  290.200000   171.200000   \nCS1114       352.0  425.0   79.0       94.700000  968.000000   619.300000   \nCS1115       557.0  313.0   55.0      225.000000  477.285714   110.952381   \nCS1116        59.0  333.0    0.0      449.583333  908.333333     0.000000   \n\n                                     \nYEAR               2014        2015  \ncustomer_id                          \nCS1112       284.333333    0.000000  \nCS1113       781.666667  745.333333  \nCS1114       726.166667    0.000000  \nCS1115       512.250000    0.000000  \nCS1116       636.800000    0.000000  \n\n[5 rows x 40 columns]",
      "text/html": "<div>\n<style scoped>\n    .dataframe tbody tr th:only-of-type {\n        vertical-align: middle;\n    }\n\n    .dataframe tbody tr th {\n        vertical-align: top;\n    }\n\n    .dataframe thead tr th {\n        text-align: left;\n    }\n\n    .dataframe thead tr:last-of-type th {\n        text-align: right;\n    }\n</style>\n<table border=\"1\" class=\"dataframe\">\n  <thead>\n    <tr>\n      <th></th>\n      <th colspan=\"5\" halign=\"left\">ann_txn_amt_ave</th>\n      <th colspan=\"5\" halign=\"left\">ann_txn_amt_cnt</th>\n      <th>...</th>\n      <th colspan=\"5\" halign=\"left\">ann_txn_amt_sum</th>\n      <th colspan=\"5\" halign=\"left\">ann_txn_amt_var</th>\n    </tr>\n    <tr>\n      <th>YEAR</th>\n      <th>2011</th>\n      <th>2012</th>\n      <th>2013</th>\n      <th>2014</th>\n      <th>2015</th>\n      <th>2011</th>\n      <th>2012</th>\n      <th>2013</th>\n      <th>2014</th>\n      <th>2015</th>\n      <th>...</th>\n      <th>2011</th>\n      <th>2012</th>\n      <th>2013</th>\n      <th>2014</th>\n      <th>2015</th>\n      <th>2011</th>\n      <th>2012</th>\n      <th>2013</th>\n      <th>2014</th>\n      <th>2015</th>\n    </tr>\n    <tr>\n      <th>customer_id</th>\n      <th></th>\n      <th></th>\n      <th></th>\n      <th></th>\n      <th></th>\n      <th></th>\n      <th></th>\n      <th></th>\n      <th></th>\n      <th></th>\n      <th></th>\n      <th></th>\n      <th></th>\n      <th></th>\n      <th></th>\n      <th></th>\n      <th></th>\n      <th></th>\n      <th></th>\n      <th></th>\n      <th></th>\n    </tr>\n  </thead>\n  <tbody>\n    <tr>\n      <th>CS1112</th>\n      <td>70.666667</td>\n      <td>67.400000</td>\n      <td>70.666667</td>\n      <td>70.666667</td>\n      <td>39.000000</td>\n      <td>3.0</td>\n      <td>5.0</td>\n      <td>3.0</td>\n      <td>3.0</td>\n      <td>1.0</td>\n      <td>...</td>\n      <td>212.0</td>\n      <td>337.0</td>\n      <td>212.0</td>\n      <td>212.0</td>\n      <td>39.0</td>\n      <td>485.333333</td>\n      <td>161.800000</td>\n      <td>1190.333333</td>\n      <td>284.333333</td>\n      <td>0.000000</td>\n    </tr>\n    <tr>\n      <th>CS1113</th>\n      <td>81.333333</td>\n      <td>74.800000</td>\n      <td>85.200000</td>\n      <td>56.500000</td>\n      <td>73.333333</td>\n      <td>3.0</td>\n      <td>5.0</td>\n      <td>5.0</td>\n      <td>4.0</td>\n      <td>3.0</td>\n      <td>...</td>\n      <td>244.0</td>\n      <td>374.0</td>\n      <td>426.0</td>\n      <td>226.0</td>\n      <td>220.0</td>\n      <td>444.333333</td>\n      <td>290.200000</td>\n      <td>171.200000</td>\n      <td>781.666667</td>\n      <td>745.333333</td>\n    </tr>\n    <tr>\n      <th>CS1114</th>\n      <td>85.200000</td>\n      <td>75.000000</td>\n      <td>70.400000</td>\n      <td>70.833333</td>\n      <td>79.000000</td>\n      <td>5.0</td>\n      <td>2.0</td>\n      <td>5.0</td>\n      <td>6.0</td>\n      <td>1.0</td>\n      <td>...</td>\n      <td>426.0</td>\n      <td>150.0</td>\n      <td>352.0</td>\n      <td>425.0</td>\n      <td>79.0</td>\n      <td>94.700000</td>\n      <td>968.000000</td>\n      <td>619.300000</td>\n      <td>726.166667</td>\n      <td>0.000000</td>\n    </tr>\n    <tr>\n      <th>CS1115</th>\n      <td>87.000000</td>\n      <td>67.571429</td>\n      <td>79.571429</td>\n      <td>78.250000</td>\n      <td>55.000000</td>\n      <td>3.0</td>\n      <td>7.0</td>\n      <td>7.0</td>\n      <td>4.0</td>\n      <td>1.0</td>\n      <td>...</td>\n      <td>261.0</td>\n      <td>473.0</td>\n      <td>557.0</td>\n      <td>313.0</td>\n      <td>55.0</td>\n      <td>225.000000</td>\n      <td>477.285714</td>\n      <td>110.952381</td>\n      <td>512.250000</td>\n      <td>0.000000</td>\n    </tr>\n    <tr>\n      <th>CS1116</th>\n      <td>58.750000</td>\n      <td>76.666667</td>\n      <td>59.000000</td>\n      <td>66.600000</td>\n      <td>0.000000</td>\n      <td>4.0</td>\n      <td>3.0</td>\n      <td>1.0</td>\n      <td>5.0</td>\n      <td>0.0</td>\n      <td>...</td>\n      <td>235.0</td>\n      <td>230.0</td>\n      <td>59.0</td>\n      <td>333.0</td>\n      <td>0.0</td>\n      <td>449.583333</td>\n      <td>908.333333</td>\n      <td>0.000000</td>\n      <td>636.800000</td>\n      <td>0.000000</td>\n    </tr>\n  </tbody>\n</table>\n<p>5 rows × 40 columns</p>\n</div>"
     },
     "execution_count": 16,
     "metadata": {},
     "output_type": "execute_result"
    }
   ],
   "source": [
    "# Impute NaN\n",
    "clnt_annual_aggregations_pivot.fillna(0, inplace=True)\n",
    "clnt_annual_aggregations_pivot.head()"
   ],
   "metadata": {
    "collapsed": false
   }
  },
  {
   "cell_type": "markdown",
   "source": [
    "#### Answer 1.2.3\n",
    "Impute the NaN entries when you perform the pivot table function and explain your choice of values.\n",
    "**A: Since we have total 8 different metrics and 4 years (from 2011 to 2015), if we multi-indexing on the column direction, it will 40 (8\\*5) columns. For NaN, I fill those with 0, because the absence of data are caused by either not able to compute those metrics or simply no transaction data in those period, which all means 0.**"
   ],
   "metadata": {
    "collapsed": false
   }
  },
  {
   "cell_type": "code",
   "execution_count": 17,
   "outputs": [
    {
     "data": {
      "text/plain": "2"
     },
     "execution_count": 17,
     "metadata": {},
     "output_type": "execute_result"
    }
   ],
   "source": [
    "# 4 Observation of multi-indexing data\n",
    "clnt_annual_aggregations_pivot.columns.nlevels"
   ],
   "metadata": {
    "collapsed": false
   }
  },
  {
   "cell_type": "code",
   "execution_count": 18,
   "outputs": [
    {
     "data": {
      "text/plain": "MultiIndex([('ann_txn_amt_ave', 2011),\n            ('ann_txn_amt_ave', 2012),\n            ('ann_txn_amt_ave', 2013),\n            ('ann_txn_amt_ave', 2014),\n            ('ann_txn_amt_ave', 2015),\n            ('ann_txn_amt_cnt', 2011),\n            ('ann_txn_amt_cnt', 2012),\n            ('ann_txn_amt_cnt', 2013),\n            ('ann_txn_amt_cnt', 2014),\n            ('ann_txn_amt_cnt', 2015),\n            ('ann_txn_amt_max', 2011),\n            ('ann_txn_amt_max', 2012),\n            ('ann_txn_amt_max', 2013),\n            ('ann_txn_amt_max', 2014),\n            ('ann_txn_amt_max', 2015),\n            ('ann_txn_amt_min', 2011),\n            ('ann_txn_amt_min', 2012),\n            ('ann_txn_amt_min', 2013),\n            ('ann_txn_amt_min', 2014),\n            ('ann_txn_amt_min', 2015),\n            ('ann_txn_amt_sem', 2011),\n            ('ann_txn_amt_sem', 2012),\n            ('ann_txn_amt_sem', 2013),\n            ('ann_txn_amt_sem', 2014),\n            ('ann_txn_amt_sem', 2015),\n            ('ann_txn_amt_std', 2011),\n            ('ann_txn_amt_std', 2012),\n            ('ann_txn_amt_std', 2013),\n            ('ann_txn_amt_std', 2014),\n            ('ann_txn_amt_std', 2015),\n            ('ann_txn_amt_sum', 2011),\n            ('ann_txn_amt_sum', 2012),\n            ('ann_txn_amt_sum', 2013),\n            ('ann_txn_amt_sum', 2014),\n            ('ann_txn_amt_sum', 2015),\n            ('ann_txn_amt_var', 2011),\n            ('ann_txn_amt_var', 2012),\n            ('ann_txn_amt_var', 2013),\n            ('ann_txn_amt_var', 2014),\n            ('ann_txn_amt_var', 2015)],\n           names=[None, 'YEAR'])"
     },
     "execution_count": 18,
     "metadata": {},
     "output_type": "execute_result"
    }
   ],
   "source": [
    "clnt_annual_aggregations_pivot.columns"
   ],
   "metadata": {
    "collapsed": false
   }
  },
  {
   "cell_type": "markdown",
   "source": [
    "#### Answer 1.2.4\n",
    "What are your observations regarding the number of levels and the column names?\n",
    "**A: There are two level of columns, the first level are those metrics and the second are the years, so the column names are pairs with every metric and every year.**"
   ],
   "metadata": {
    "collapsed": false
   }
  },
  {
   "cell_type": "code",
   "execution_count": 19,
   "outputs": [
    {
     "data": {
      "text/plain": "             ann_txn_amt_ave_2011  ann_txn_amt_ave_2012  ann_txn_amt_ave_2013  \\\ncustomer_id                                                                     \nCS1112                  70.666667             67.400000             70.666667   \nCS1113                  81.333333             74.800000             85.200000   \nCS1114                  85.200000             75.000000             70.400000   \nCS1115                  87.000000             67.571429             79.571429   \nCS1116                  58.750000             76.666667             59.000000   \n\n             ann_txn_amt_ave_2014  ann_txn_amt_ave_2015  ann_txn_amt_cnt_2011  \\\ncustomer_id                                                                     \nCS1112                  70.666667             39.000000                   3.0   \nCS1113                  56.500000             73.333333                   3.0   \nCS1114                  70.833333             79.000000                   5.0   \nCS1115                  78.250000             55.000000                   3.0   \nCS1116                  66.600000              0.000000                   4.0   \n\n             ann_txn_amt_cnt_2012  ann_txn_amt_cnt_2013  ann_txn_amt_cnt_2014  \\\ncustomer_id                                                                     \nCS1112                        5.0                   3.0                   3.0   \nCS1113                        5.0                   5.0                   4.0   \nCS1114                        2.0                   5.0                   6.0   \nCS1115                        7.0                   7.0                   4.0   \nCS1116                        3.0                   1.0                   5.0   \n\n             ann_txn_amt_cnt_2015  ...  ann_txn_amt_sum_2011  \\\ncustomer_id                        ...                         \nCS1112                        1.0  ...                 212.0   \nCS1113                        3.0  ...                 244.0   \nCS1114                        1.0  ...                 426.0   \nCS1115                        1.0  ...                 261.0   \nCS1116                        0.0  ...                 235.0   \n\n             ann_txn_amt_sum_2012  ann_txn_amt_sum_2013  ann_txn_amt_sum_2014  \\\ncustomer_id                                                                     \nCS1112                      337.0                 212.0                 212.0   \nCS1113                      374.0                 426.0                 226.0   \nCS1114                      150.0                 352.0                 425.0   \nCS1115                      473.0                 557.0                 313.0   \nCS1116                      230.0                  59.0                 333.0   \n\n             ann_txn_amt_sum_2015  ann_txn_amt_var_2011  ann_txn_amt_var_2012  \\\ncustomer_id                                                                     \nCS1112                       39.0            485.333333            161.800000   \nCS1113                      220.0            444.333333            290.200000   \nCS1114                       79.0             94.700000            968.000000   \nCS1115                       55.0            225.000000            477.285714   \nCS1116                        0.0            449.583333            908.333333   \n\n             ann_txn_amt_var_2013  ann_txn_amt_var_2014  ann_txn_amt_var_2015  \ncustomer_id                                                                    \nCS1112                1190.333333            284.333333              0.000000  \nCS1113                 171.200000            781.666667            745.333333  \nCS1114                 619.300000            726.166667              0.000000  \nCS1115                 110.952381            512.250000              0.000000  \nCS1116                   0.000000            636.800000              0.000000  \n\n[5 rows x 40 columns]",
      "text/html": "<div>\n<style scoped>\n    .dataframe tbody tr th:only-of-type {\n        vertical-align: middle;\n    }\n\n    .dataframe tbody tr th {\n        vertical-align: top;\n    }\n\n    .dataframe thead th {\n        text-align: right;\n    }\n</style>\n<table border=\"1\" class=\"dataframe\">\n  <thead>\n    <tr style=\"text-align: right;\">\n      <th></th>\n      <th>ann_txn_amt_ave_2011</th>\n      <th>ann_txn_amt_ave_2012</th>\n      <th>ann_txn_amt_ave_2013</th>\n      <th>ann_txn_amt_ave_2014</th>\n      <th>ann_txn_amt_ave_2015</th>\n      <th>ann_txn_amt_cnt_2011</th>\n      <th>ann_txn_amt_cnt_2012</th>\n      <th>ann_txn_amt_cnt_2013</th>\n      <th>ann_txn_amt_cnt_2014</th>\n      <th>ann_txn_amt_cnt_2015</th>\n      <th>...</th>\n      <th>ann_txn_amt_sum_2011</th>\n      <th>ann_txn_amt_sum_2012</th>\n      <th>ann_txn_amt_sum_2013</th>\n      <th>ann_txn_amt_sum_2014</th>\n      <th>ann_txn_amt_sum_2015</th>\n      <th>ann_txn_amt_var_2011</th>\n      <th>ann_txn_amt_var_2012</th>\n      <th>ann_txn_amt_var_2013</th>\n      <th>ann_txn_amt_var_2014</th>\n      <th>ann_txn_amt_var_2015</th>\n    </tr>\n    <tr>\n      <th>customer_id</th>\n      <th></th>\n      <th></th>\n      <th></th>\n      <th></th>\n      <th></th>\n      <th></th>\n      <th></th>\n      <th></th>\n      <th></th>\n      <th></th>\n      <th></th>\n      <th></th>\n      <th></th>\n      <th></th>\n      <th></th>\n      <th></th>\n      <th></th>\n      <th></th>\n      <th></th>\n      <th></th>\n      <th></th>\n    </tr>\n  </thead>\n  <tbody>\n    <tr>\n      <th>CS1112</th>\n      <td>70.666667</td>\n      <td>67.400000</td>\n      <td>70.666667</td>\n      <td>70.666667</td>\n      <td>39.000000</td>\n      <td>3.0</td>\n      <td>5.0</td>\n      <td>3.0</td>\n      <td>3.0</td>\n      <td>1.0</td>\n      <td>...</td>\n      <td>212.0</td>\n      <td>337.0</td>\n      <td>212.0</td>\n      <td>212.0</td>\n      <td>39.0</td>\n      <td>485.333333</td>\n      <td>161.800000</td>\n      <td>1190.333333</td>\n      <td>284.333333</td>\n      <td>0.000000</td>\n    </tr>\n    <tr>\n      <th>CS1113</th>\n      <td>81.333333</td>\n      <td>74.800000</td>\n      <td>85.200000</td>\n      <td>56.500000</td>\n      <td>73.333333</td>\n      <td>3.0</td>\n      <td>5.0</td>\n      <td>5.0</td>\n      <td>4.0</td>\n      <td>3.0</td>\n      <td>...</td>\n      <td>244.0</td>\n      <td>374.0</td>\n      <td>426.0</td>\n      <td>226.0</td>\n      <td>220.0</td>\n      <td>444.333333</td>\n      <td>290.200000</td>\n      <td>171.200000</td>\n      <td>781.666667</td>\n      <td>745.333333</td>\n    </tr>\n    <tr>\n      <th>CS1114</th>\n      <td>85.200000</td>\n      <td>75.000000</td>\n      <td>70.400000</td>\n      <td>70.833333</td>\n      <td>79.000000</td>\n      <td>5.0</td>\n      <td>2.0</td>\n      <td>5.0</td>\n      <td>6.0</td>\n      <td>1.0</td>\n      <td>...</td>\n      <td>426.0</td>\n      <td>150.0</td>\n      <td>352.0</td>\n      <td>425.0</td>\n      <td>79.0</td>\n      <td>94.700000</td>\n      <td>968.000000</td>\n      <td>619.300000</td>\n      <td>726.166667</td>\n      <td>0.000000</td>\n    </tr>\n    <tr>\n      <th>CS1115</th>\n      <td>87.000000</td>\n      <td>67.571429</td>\n      <td>79.571429</td>\n      <td>78.250000</td>\n      <td>55.000000</td>\n      <td>3.0</td>\n      <td>7.0</td>\n      <td>7.0</td>\n      <td>4.0</td>\n      <td>1.0</td>\n      <td>...</td>\n      <td>261.0</td>\n      <td>473.0</td>\n      <td>557.0</td>\n      <td>313.0</td>\n      <td>55.0</td>\n      <td>225.000000</td>\n      <td>477.285714</td>\n      <td>110.952381</td>\n      <td>512.250000</td>\n      <td>0.000000</td>\n    </tr>\n    <tr>\n      <th>CS1116</th>\n      <td>58.750000</td>\n      <td>76.666667</td>\n      <td>59.000000</td>\n      <td>66.600000</td>\n      <td>0.000000</td>\n      <td>4.0</td>\n      <td>3.0</td>\n      <td>1.0</td>\n      <td>5.0</td>\n      <td>0.0</td>\n      <td>...</td>\n      <td>235.0</td>\n      <td>230.0</td>\n      <td>59.0</td>\n      <td>333.0</td>\n      <td>0.0</td>\n      <td>449.583333</td>\n      <td>908.333333</td>\n      <td>0.000000</td>\n      <td>636.800000</td>\n      <td>0.000000</td>\n    </tr>\n  </tbody>\n</table>\n<p>5 rows × 40 columns</p>\n</div>"
     },
     "execution_count": 19,
     "metadata": {},
     "output_type": "execute_result"
    }
   ],
   "source": [
    "# 5 Change column level\n",
    "level_0 = clnt_annual_aggregations_pivot.columns.get_level_values(0).astype(str)\n",
    "level_1 = clnt_annual_aggregations_pivot.columns.get_level_values(1).astype(str)\n",
    "clnt_annual_aggregations_pivot.columns = level_0 + '_' + level_1\n",
    "clnt_annual_aggregations_pivot.head()"
   ],
   "metadata": {
    "collapsed": false
   }
  },
  {
   "cell_type": "markdown",
   "source": [
    "#### Answer 1.2.5\n",
    "Describe what each line of code in the box does?\n",
    "**A: The first and second lines get the level of columns from original pivot table and modify the integer(years) to string format, the third line is to set the column names for the pivot table dataframe with the combination of two levels(joined by `_`).**"
   ],
   "metadata": {
    "collapsed": false
   }
  },
  {
   "cell_type": "code",
   "execution_count": 20,
   "outputs": [],
   "source": [
    "# Save to .xlsx\n",
    "clnt_annual_aggregations_pivot.to_excel('annual_features.xlsx')"
   ],
   "metadata": {
    "collapsed": false
   }
  },
  {
   "cell_type": "markdown",
   "source": [
    "#### Answer 1.2.6\n",
    "What are the possible disadvantages in capturing client transaction behavior with the annual features described in this section (if any)?\n",
    "**A: From bank side, the annual transaction statistics for behavior analysis could be inaccurate and lack seasoning pattern due to the time scope is too wide. From client side, if they want to know their transaction behavior, the last year's transaction statistics will not be very helpful due to lacking timeliness.**"
   ],
   "metadata": {
    "collapsed": false
   }
  },
  {
   "cell_type": "markdown",
   "source": [
    "## 1.3 Create monthly aggregations"
   ],
   "metadata": {
    "collapsed": false
   }
  },
  {
   "cell_type": "code",
   "execution_count": 21,
   "outputs": [
    {
     "data": {
      "text/plain": "                        mth_txn_amt_sum  mth_txn_amt_cnt\ncustomer_id ME_DT                                       \nCS1112      2011-06-30               56                1\n            2011-08-31               96                1\n            2011-10-31               60                1\n            2012-04-30               56                1\n            2012-06-30               52                1",
      "text/html": "<div>\n<style scoped>\n    .dataframe tbody tr th:only-of-type {\n        vertical-align: middle;\n    }\n\n    .dataframe tbody tr th {\n        vertical-align: top;\n    }\n\n    .dataframe thead th {\n        text-align: right;\n    }\n</style>\n<table border=\"1\" class=\"dataframe\">\n  <thead>\n    <tr style=\"text-align: right;\">\n      <th></th>\n      <th></th>\n      <th>mth_txn_amt_sum</th>\n      <th>mth_txn_amt_cnt</th>\n    </tr>\n    <tr>\n      <th>customer_id</th>\n      <th>ME_DT</th>\n      <th></th>\n      <th></th>\n    </tr>\n  </thead>\n  <tbody>\n    <tr>\n      <th rowspan=\"5\" valign=\"top\">CS1112</th>\n      <th>2011-06-30</th>\n      <td>56</td>\n      <td>1</td>\n    </tr>\n    <tr>\n      <th>2011-08-31</th>\n      <td>96</td>\n      <td>1</td>\n    </tr>\n    <tr>\n      <th>2011-10-31</th>\n      <td>60</td>\n      <td>1</td>\n    </tr>\n    <tr>\n      <th>2012-04-30</th>\n      <td>56</td>\n      <td>1</td>\n    </tr>\n    <tr>\n      <th>2012-06-30</th>\n      <td>52</td>\n      <td>1</td>\n    </tr>\n  </tbody>\n</table>\n</div>"
     },
     "execution_count": 21,
     "metadata": {},
     "output_type": "execute_result"
    }
   ],
   "source": [
    "# 1 Using groupby and NamedAgg create clnt annual aggregations\n",
    "\n",
    "clnt_monthly_aggregations = txn.groupby(['customer_id', 'ME_DT']).agg(\n",
    "    mth_txn_amt_sum = agg_sum,\n",
    "    mth_txn_amt_cnt = agg_cnt\n",
    ")\n",
    "clnt_monthly_aggregations = pd.DataFrame(clnt_monthly_aggregations)\n",
    "clnt_monthly_aggregations.head()"
   ],
   "metadata": {
    "collapsed": false
   }
  },
  {
   "cell_type": "code",
   "execution_count": 22,
   "outputs": [
    {
     "data": {
      "text/plain": "<Figure size 432x288 with 1 Axes>",
      "image/png": "[encoded data removed]"
     },
     "metadata": {
      "needs_background": "light"
     },
     "output_type": "display_data"
    }
   ],
   "source": [
    "# 2 Create a histogram of both columns you created\n",
    "clnt_monthly_aggregations['mth_txn_amt_sum'].plot.hist(bins=15, alpha=0.5)\n",
    "plt.xlabel('Sum of Monthly Transaction')\n",
    "plt.title('Distribution of Monthly Total Transaction')\n",
    "plt.show()"
   ],
   "metadata": {
    "collapsed": false
   }
  },
  {
   "cell_type": "code",
   "execution_count": 23,
   "outputs": [
    {
     "data": {
      "text/plain": "<Figure size 432x288 with 1 Axes>",
      "image/png": "[encoded data removed]"
     },
     "metadata": {
      "needs_background": "light"
     },
     "output_type": "display_data"
    }
   ],
   "source": [
    "clnt_monthly_aggregations['mth_txn_amt_cnt'].plot.hist(bins=15, alpha=0.5)\n",
    "plt.xlabel('Count of Monthly Transaction')\n",
    "plt.title('Distribution of Monthly Transaction Count')\n",
    "plt.show()"
   ],
   "metadata": {
    "collapsed": false
   }
  },
  {
   "cell_type": "markdown",
   "source": [
    "#### Answer 1.3.2\n",
    "What are your observations? What are the most common and maximum values for each column? How do they compare with the ones in section 1.2?\n",
    "**A: The pattern in monthly is similar to the annual transaction's, only few of transactions are over 200 dollar and most of the transactions are under 100. Regarding the monthly transaction frequency, most of the clients(near 80%) have only one transaction per monthly. Therefore, combining both plots, we will see the data is very unbalanced or irregular. For the count, the most common value is definitely 1, which means 1 transaction per month.**"
   ],
   "metadata": {
    "collapsed": false
   }
  },
  {
   "cell_type": "markdown",
   "source": [
    "## 1.4 Create the base table for the rolling window features"
   ],
   "metadata": {
    "collapsed": false
   }
  },
  {
   "cell_type": "code",
   "execution_count": 47,
   "outputs": [
    {
     "data": {
      "text/plain": "(6889,)"
     },
     "execution_count": 47,
     "metadata": {},
     "output_type": "execute_result"
    }
   ],
   "source": [
    "# 1 Create the numpy array of the unique elements in columns 'customer id' and 'ME DT'\n",
    "\n",
    "clnt_no = np.array(txn['customer_id'].unique())\n",
    "clnt_no.shape"
   ],
   "metadata": {
    "collapsed": false
   }
  },
  {
   "cell_type": "code",
   "execution_count": 48,
   "outputs": [
    {
     "data": {
      "text/plain": "(47,)"
     },
     "execution_count": 48,
     "metadata": {},
     "output_type": "execute_result"
    }
   ],
   "source": [
    "me_dt = np.array(txn['ME_DT'].unique())\n",
    "me_dt.shape"
   ],
   "metadata": {
    "collapsed": false
   }
  },
  {
   "cell_type": "code",
   "execution_count": 49,
   "outputs": [
    {
     "data": {
      "text/plain": "<itertools.product at 0x7fdf09b031c0>"
     },
     "execution_count": 49,
     "metadata": {},
     "output_type": "execute_result"
    }
   ],
   "source": [
    "# 2 Use itertools.product to generate all the possible combinations of 'customer id' and 'ME DT'\n",
    "from itertools import product\n",
    "base_table = product(clnt_no , me_dt)\n",
    "base_table"
   ],
   "metadata": {
    "collapsed": false
   }
  },
  {
   "cell_type": "code",
   "execution_count": 50,
   "outputs": [
    {
     "data": {
      "text/plain": "  CLNT_NO      ME_DT\n0  CS5295 2013-02-28\n1  CS5295 2015-03-31\n2  CS5295 2011-11-30\n3  CS5295 2013-11-30\n4  CS5295 2014-03-31",
      "text/html": "<div>\n<style scoped>\n    .dataframe tbody tr th:only-of-type {\n        vertical-align: middle;\n    }\n\n    .dataframe tbody tr th {\n        vertical-align: top;\n    }\n\n    .dataframe thead th {\n        text-align: right;\n    }\n</style>\n<table border=\"1\" class=\"dataframe\">\n  <thead>\n    <tr style=\"text-align: right;\">\n      <th></th>\n      <th>CLNT_NO</th>\n      <th>ME_DT</th>\n    </tr>\n  </thead>\n  <tbody>\n    <tr>\n      <th>0</th>\n      <td>CS5295</td>\n      <td>2013-02-28</td>\n    </tr>\n    <tr>\n      <th>1</th>\n      <td>CS5295</td>\n      <td>2015-03-31</td>\n    </tr>\n    <tr>\n      <th>2</th>\n      <td>CS5295</td>\n      <td>2011-11-30</td>\n    </tr>\n    <tr>\n      <th>3</th>\n      <td>CS5295</td>\n      <td>2013-11-30</td>\n    </tr>\n    <tr>\n      <th>4</th>\n      <td>CS5295</td>\n      <td>2014-03-31</td>\n    </tr>\n  </tbody>\n</table>\n</div>"
     },
     "execution_count": 50,
     "metadata": {},
     "output_type": "execute_result"
    }
   ],
   "source": [
    "# 3 Convert the itertools.product object base table into a pandas object\n",
    "base_table_pd = pd.DataFrame.from_records(base_table, columns=['CLNT_NO', 'ME_DT'])\n",
    "base_table_pd.head()"
   ],
   "metadata": {
    "collapsed": false
   }
  },
  {
   "cell_type": "code",
   "execution_count": 51,
   "outputs": [
    {
     "data": {
      "text/plain": "Timestamp('2011-05-31 00:00:00')"
     },
     "execution_count": 51,
     "metadata": {},
     "output_type": "execute_result"
    }
   ],
   "source": [
    "# 4 Validate that you created the table\n",
    "base_table_pd[base_table_pd['CLNT_NO']=='CS1112']['ME_DT'].min()"
   ],
   "metadata": {
    "collapsed": false
   }
  },
  {
   "cell_type": "code",
   "execution_count": 52,
   "outputs": [
    {
     "data": {
      "text/plain": "Timestamp('2015-03-31 00:00:00')"
     },
     "execution_count": 52,
     "metadata": {},
     "output_type": "execute_result"
    }
   ],
   "source": [
    "base_table_pd[base_table_pd['CLNT_NO']=='CS1112']['ME_DT'].max()"
   ],
   "metadata": {
    "collapsed": false
   }
  },
  {
   "cell_type": "code",
   "execution_count": 53,
   "outputs": [
    {
     "data": {
      "text/plain": "Timestamp('2011-06-15 00:00:00')"
     },
     "execution_count": 53,
     "metadata": {},
     "output_type": "execute_result"
    }
   ],
   "source": [
    "txn[txn['customer_id']=='CS1112']['txn_date'].min() # is smaller than the CS1112 (in range)"
   ],
   "metadata": {
    "collapsed": false
   }
  },
  {
   "cell_type": "code",
   "execution_count": 54,
   "outputs": [
    {
     "data": {
      "text/plain": "Timestamp('2015-01-14 00:00:00')"
     },
     "execution_count": 54,
     "metadata": {},
     "output_type": "execute_result"
    }
   ],
   "source": [
    "txn[txn['customer_id']=='CS1112']['txn_date'].max() # is greater than the CS1112 (in range)"
   ],
   "metadata": {
    "collapsed": false
   }
  },
  {
   "cell_type": "code",
   "execution_count": 55,
   "outputs": [
    {
     "data": {
      "text/plain": "       CLNT_NO      ME_DT\n157064  CS1112 2011-05-31\n157059  CS1112 2011-06-30\n157044  CS1112 2011-07-31\n157070  CS1112 2011-08-31\n157061  CS1112 2011-09-30\n157048  CS1112 2011-10-31\n157029  CS1112 2011-11-30\n157049  CS1112 2011-12-31\n157046  CS1112 2012-01-31\n157032  CS1112 2012-02-29\n157045  CS1112 2012-03-31\n157051  CS1112 2012-04-30\n157062  CS1112 2012-05-31\n157073  CS1112 2012-06-30\n157065  CS1112 2012-07-31\n157063  CS1112 2012-08-31\n157071  CS1112 2012-09-30\n157067  CS1112 2012-10-31\n157038  CS1112 2012-11-30\n157053  CS1112 2012-12-31\n157034  CS1112 2013-01-31\n157027  CS1112 2013-02-28\n157037  CS1112 2013-03-31\n157047  CS1112 2013-04-30\n157039  CS1112 2013-05-31\n157057  CS1112 2013-06-30\n157036  CS1112 2013-07-31\n157035  CS1112 2013-08-31\n157069  CS1112 2013-09-30\n157052  CS1112 2013-10-31\n157030  CS1112 2013-11-30\n157042  CS1112 2013-12-31\n157041  CS1112 2014-01-31\n157072  CS1112 2014-02-28\n157031  CS1112 2014-03-31\n157056  CS1112 2014-04-30\n157054  CS1112 2014-05-31\n157058  CS1112 2014-06-30\n157043  CS1112 2014-07-31\n157068  CS1112 2014-08-31\n157060  CS1112 2014-09-30\n157066  CS1112 2014-10-31\n157055  CS1112 2014-11-30\n157040  CS1112 2014-12-31\n157033  CS1112 2015-01-31\n157050  CS1112 2015-02-28\n157028  CS1112 2015-03-31",
      "text/html": "<div>\n<style scoped>\n    .dataframe tbody tr th:only-of-type {\n        vertical-align: middle;\n    }\n\n    .dataframe tbody tr th {\n        vertical-align: top;\n    }\n\n    .dataframe thead th {\n        text-align: right;\n    }\n</style>\n<table border=\"1\" class=\"dataframe\">\n  <thead>\n    <tr style=\"text-align: right;\">\n      <th></th>\n      <th>CLNT_NO</th>\n      <th>ME_DT</th>\n    </tr>\n  </thead>\n  <tbody>\n    <tr>\n      <th>157064</th>\n      <td>CS1112</td>\n      <td>2011-05-31</td>\n    </tr>\n    <tr>\n      <th>157059</th>\n      <td>CS1112</td>\n      <td>2011-06-30</td>\n    </tr>\n    <tr>\n      <th>157044</th>\n      <td>CS1112</td>\n      <td>2011-07-31</td>\n    </tr>\n    <tr>\n      <th>157070</th>\n      <td>CS1112</td>\n      <td>2011-08-31</td>\n    </tr>\n    <tr>\n      <th>157061</th>\n      <td>CS1112</td>\n      <td>2011-09-30</td>\n    </tr>\n    <tr>\n      <th>157048</th>\n      <td>CS1112</td>\n      <td>2011-10-31</td>\n    </tr>\n    <tr>\n      <th>157029</th>\n      <td>CS1112</td>\n      <td>2011-11-30</td>\n    </tr>\n    <tr>\n      <th>157049</th>\n      <td>CS1112</td>\n      <td>2011-12-31</td>\n    </tr>\n    <tr>\n      <th>157046</th>\n      <td>CS1112</td>\n      <td>2012-01-31</td>\n    </tr>\n    <tr>\n      <th>157032</th>\n      <td>CS1112</td>\n      <td>2012-02-29</td>\n    </tr>\n    <tr>\n      <th>157045</th>\n      <td>CS1112</td>\n      <td>2012-03-31</td>\n    </tr>\n    <tr>\n      <th>157051</th>\n      <td>CS1112</td>\n      <td>2012-04-30</td>\n    </tr>\n    <tr>\n      <th>157062</th>\n      <td>CS1112</td>\n      <td>2012-05-31</td>\n    </tr>\n    <tr>\n      <th>157073</th>\n      <td>CS1112</td>\n      <td>2012-06-30</td>\n    </tr>\n    <tr>\n      <th>157065</th>\n      <td>CS1112</td>\n      <td>2012-07-31</td>\n    </tr>\n    <tr>\n      <th>157063</th>\n      <td>CS1112</td>\n      <td>2012-08-31</td>\n    </tr>\n    <tr>\n      <th>157071</th>\n      <td>CS1112</td>\n      <td>2012-09-30</td>\n    </tr>\n    <tr>\n      <th>157067</th>\n      <td>CS1112</td>\n      <td>2012-10-31</td>\n    </tr>\n    <tr>\n      <th>157038</th>\n      <td>CS1112</td>\n      <td>2012-11-30</td>\n    </tr>\n    <tr>\n      <th>157053</th>\n      <td>CS1112</td>\n      <td>2012-12-31</td>\n    </tr>\n    <tr>\n      <th>157034</th>\n      <td>CS1112</td>\n      <td>2013-01-31</td>\n    </tr>\n    <tr>\n      <th>157027</th>\n      <td>CS1112</td>\n      <td>2013-02-28</td>\n    </tr>\n    <tr>\n      <th>157037</th>\n      <td>CS1112</td>\n      <td>2013-03-31</td>\n    </tr>\n    <tr>\n      <th>157047</th>\n      <td>CS1112</td>\n      <td>2013-04-30</td>\n    </tr>\n    <tr>\n      <th>157039</th>\n      <td>CS1112</td>\n      <td>2013-05-31</td>\n    </tr>\n    <tr>\n      <th>157057</th>\n      <td>CS1112</td>\n      <td>2013-06-30</td>\n    </tr>\n    <tr>\n      <th>157036</th>\n      <td>CS1112</td>\n      <td>2013-07-31</td>\n    </tr>\n    <tr>\n      <th>157035</th>\n      <td>CS1112</td>\n      <td>2013-08-31</td>\n    </tr>\n    <tr>\n      <th>157069</th>\n      <td>CS1112</td>\n      <td>2013-09-30</td>\n    </tr>\n    <tr>\n      <th>157052</th>\n      <td>CS1112</td>\n      <td>2013-10-31</td>\n    </tr>\n    <tr>\n      <th>157030</th>\n      <td>CS1112</td>\n      <td>2013-11-30</td>\n    </tr>\n    <tr>\n      <th>157042</th>\n      <td>CS1112</td>\n      <td>2013-12-31</td>\n    </tr>\n    <tr>\n      <th>157041</th>\n      <td>CS1112</td>\n      <td>2014-01-31</td>\n    </tr>\n    <tr>\n      <th>157072</th>\n      <td>CS1112</td>\n      <td>2014-02-28</td>\n    </tr>\n    <tr>\n      <th>157031</th>\n      <td>CS1112</td>\n      <td>2014-03-31</td>\n    </tr>\n    <tr>\n      <th>157056</th>\n      <td>CS1112</td>\n      <td>2014-04-30</td>\n    </tr>\n    <tr>\n      <th>157054</th>\n      <td>CS1112</td>\n      <td>2014-05-31</td>\n    </tr>\n    <tr>\n      <th>157058</th>\n      <td>CS1112</td>\n      <td>2014-06-30</td>\n    </tr>\n    <tr>\n      <th>157043</th>\n      <td>CS1112</td>\n      <td>2014-07-31</td>\n    </tr>\n    <tr>\n      <th>157068</th>\n      <td>CS1112</td>\n      <td>2014-08-31</td>\n    </tr>\n    <tr>\n      <th>157060</th>\n      <td>CS1112</td>\n      <td>2014-09-30</td>\n    </tr>\n    <tr>\n      <th>157066</th>\n      <td>CS1112</td>\n      <td>2014-10-31</td>\n    </tr>\n    <tr>\n      <th>157055</th>\n      <td>CS1112</td>\n      <td>2014-11-30</td>\n    </tr>\n    <tr>\n      <th>157040</th>\n      <td>CS1112</td>\n      <td>2014-12-31</td>\n    </tr>\n    <tr>\n      <th>157033</th>\n      <td>CS1112</td>\n      <td>2015-01-31</td>\n    </tr>\n    <tr>\n      <th>157050</th>\n      <td>CS1112</td>\n      <td>2015-02-28</td>\n    </tr>\n    <tr>\n      <th>157028</th>\n      <td>CS1112</td>\n      <td>2015-03-31</td>\n    </tr>\n  </tbody>\n</table>\n</div>"
     },
     "execution_count": 55,
     "metadata": {},
     "output_type": "execute_result"
    }
   ],
   "source": [
    "# Month value check\n",
    "base_table_pd[base_table_pd['CLNT_NO']=='CS1112'].sort_values(by='ME_DT')"
   ],
   "metadata": {
    "collapsed": false
   }
  },
  {
   "cell_type": "code",
   "execution_count": 56,
   "outputs": [
    {
     "data": {
      "text/plain": "(323783, 2)"
     },
     "execution_count": 56,
     "metadata": {},
     "output_type": "execute_result"
    }
   ],
   "source": [
    "# Dimension check\n",
    "base_table_pd.shape"
   ],
   "metadata": {
    "collapsed": false
   }
  },
  {
   "cell_type": "code",
   "execution_count": 57,
   "outputs": [
    {
     "data": {
      "text/plain": "(6889,)"
     },
     "execution_count": 57,
     "metadata": {},
     "output_type": "execute_result"
    }
   ],
   "source": [
    "base_table_pd['CLNT_NO'].unique().shape"
   ],
   "metadata": {
    "collapsed": false
   }
  },
  {
   "cell_type": "code",
   "execution_count": 58,
   "outputs": [
    {
     "data": {
      "text/plain": "(47,)"
     },
     "execution_count": 58,
     "metadata": {},
     "output_type": "execute_result"
    }
   ],
   "source": [
    "base_table_pd['ME_DT'].unique().shape"
   ],
   "metadata": {
    "collapsed": false
   }
  },
  {
   "cell_type": "markdown",
   "source": [
    "## 1.5 Create the monthly rolling window features"
   ],
   "metadata": {
    "collapsed": false
   }
  },
  {
   "cell_type": "code",
   "execution_count": 59,
   "outputs": [
    {
     "data": {
      "text/plain": "       CLNT_NO      ME_DT  mth_txn_amt_sum  mth_txn_amt_cnt\n0       CS5295 2013-02-28             35.0              1.0\n1       CS5295 2015-03-31              NaN              NaN\n2       CS5295 2011-11-30            132.0              2.0\n3       CS5295 2013-11-30              NaN              NaN\n4       CS5295 2014-03-31              NaN              NaN\n...        ...        ...              ...              ...\n323778  CS8077 2013-09-30              NaN              NaN\n323779  CS8077 2011-08-31             30.0              1.0\n323780  CS8077 2012-09-30              NaN              NaN\n323781  CS8077 2014-02-28              NaN              NaN\n323782  CS8077 2012-06-30              NaN              NaN\n\n[323783 rows x 4 columns]",
      "text/html": "<div>\n<style scoped>\n    .dataframe tbody tr th:only-of-type {\n        vertical-align: middle;\n    }\n\n    .dataframe tbody tr th {\n        vertical-align: top;\n    }\n\n    .dataframe thead th {\n        text-align: right;\n    }\n</style>\n<table border=\"1\" class=\"dataframe\">\n  <thead>\n    <tr style=\"text-align: right;\">\n      <th></th>\n      <th>CLNT_NO</th>\n      <th>ME_DT</th>\n      <th>mth_txn_amt_sum</th>\n      <th>mth_txn_amt_cnt</th>\n    </tr>\n  </thead>\n  <tbody>\n    <tr>\n      <th>0</th>\n      <td>CS5295</td>\n      <td>2013-02-28</td>\n      <td>35.0</td>\n      <td>1.0</td>\n    </tr>\n    <tr>\n      <th>1</th>\n      <td>CS5295</td>\n      <td>2015-03-31</td>\n      <td>NaN</td>\n      <td>NaN</td>\n    </tr>\n    <tr>\n      <th>2</th>\n      <td>CS5295</td>\n      <td>2011-11-30</td>\n      <td>132.0</td>\n      <td>2.0</td>\n    </tr>\n    <tr>\n      <th>3</th>\n      <td>CS5295</td>\n      <td>2013-11-30</td>\n      <td>NaN</td>\n      <td>NaN</td>\n    </tr>\n    <tr>\n      <th>4</th>\n      <td>CS5295</td>\n      <td>2014-03-31</td>\n      <td>NaN</td>\n      <td>NaN</td>\n    </tr>\n    <tr>\n      <th>...</th>\n      <td>...</td>\n      <td>...</td>\n      <td>...</td>\n      <td>...</td>\n    </tr>\n    <tr>\n      <th>323778</th>\n      <td>CS8077</td>\n      <td>2013-09-30</td>\n      <td>NaN</td>\n      <td>NaN</td>\n    </tr>\n    <tr>\n      <th>323779</th>\n      <td>CS8077</td>\n      <td>2011-08-31</td>\n      <td>30.0</td>\n      <td>1.0</td>\n    </tr>\n    <tr>\n      <th>323780</th>\n      <td>CS8077</td>\n      <td>2012-09-30</td>\n      <td>NaN</td>\n      <td>NaN</td>\n    </tr>\n    <tr>\n      <th>323781</th>\n      <td>CS8077</td>\n      <td>2014-02-28</td>\n      <td>NaN</td>\n      <td>NaN</td>\n    </tr>\n    <tr>\n      <th>323782</th>\n      <td>CS8077</td>\n      <td>2012-06-30</td>\n      <td>NaN</td>\n      <td>NaN</td>\n    </tr>\n  </tbody>\n</table>\n<p>323783 rows × 4 columns</p>\n</div>"
     },
     "execution_count": 59,
     "metadata": {},
     "output_type": "execute_result"
    }
   ],
   "source": [
    "# 1 Left-join the base table pd with the clnt monthly aggregations table\n",
    "clnt_monthly_aggregations.index.set_names(['CLNT_NO', 'ME_DT'], inplace=True)\n",
    "base_clnt_mth = base_table_pd.merge(clnt_monthly_aggregations, how='left', on=['CLNT_NO', 'ME_DT'])\n",
    "base_clnt_mth"
   ],
   "metadata": {
    "collapsed": false
   }
  },
  {
   "cell_type": "markdown",
   "source": [
    "#### Answer 1.5.1\n",
    "- Why do some rows have NaN values?\n",
    "    **A: Because clients have no transaction during those months causing NaN.**\n",
    "- What values will you choose to impute NaN values in the sum and count columns? Perform the imputation you suggest.\n",
    "    **A: Since the issue is caused by no transaction, the NaN just means 0 sum and 0 count(so use 0 to fill).**\n",
    "- Confirm that the number of rows is what you expect. What is the value?\n",
    "    **A: The number of rows is 323783, that is the exact row number of `base_table_pd`, which is expected.**\n",
    "- How are tables base clnt mth and clnt monthly aggregations diﬀerent? Comment on the number of rows and the content of each table.\n",
    "    **A: The `base_clnt_mth` is a more complete collection of client data by recording all the months, rather than a data collection with months having transactions(non-zero), which is `clnt_monthly_aggregation`.**"
   ],
   "metadata": {
    "collapsed": false
   }
  },
  {
   "cell_type": "code",
   "execution_count": 59,
   "outputs": [],
   "source": [],
   "metadata": {
    "collapsed": false
   }
  },
  {
   "cell_type": "code",
   "execution_count": 60,
   "outputs": [
    {
     "data": {
      "text/plain": "       CLNT_NO      ME_DT  mth_txn_amt_sum  mth_txn_amt_cnt\n157064  CS1112 2011-05-31              0.0              0.0\n157059  CS1112 2011-06-30             56.0              1.0\n157044  CS1112 2011-07-31              0.0              0.0\n157070  CS1112 2011-08-31             96.0              1.0\n157061  CS1112 2011-09-30              0.0              0.0\n...        ...        ...              ...              ...\n295141  CS9000 2014-11-30              0.0              0.0\n295126  CS9000 2014-12-31              0.0              0.0\n295119  CS9000 2015-01-31              0.0              0.0\n295136  CS9000 2015-02-28              0.0              0.0\n295114  CS9000 2015-03-31             34.0              1.0\n\n[323783 rows x 4 columns]",
      "text/html": "<div>\n<style scoped>\n    .dataframe tbody tr th:only-of-type {\n        vertical-align: middle;\n    }\n\n    .dataframe tbody tr th {\n        vertical-align: top;\n    }\n\n    .dataframe thead th {\n        text-align: right;\n    }\n</style>\n<table border=\"1\" class=\"dataframe\">\n  <thead>\n    <tr style=\"text-align: right;\">\n      <th></th>\n      <th>CLNT_NO</th>\n      <th>ME_DT</th>\n      <th>mth_txn_amt_sum</th>\n      <th>mth_txn_amt_cnt</th>\n    </tr>\n  </thead>\n  <tbody>\n    <tr>\n      <th>157064</th>\n      <td>CS1112</td>\n      <td>2011-05-31</td>\n      <td>0.0</td>\n      <td>0.0</td>\n    </tr>\n    <tr>\n      <th>157059</th>\n      <td>CS1112</td>\n      <td>2011-06-30</td>\n      <td>56.0</td>\n      <td>1.0</td>\n    </tr>\n    <tr>\n      <th>157044</th>\n      <td>CS1112</td>\n      <td>2011-07-31</td>\n      <td>0.0</td>\n      <td>0.0</td>\n    </tr>\n    <tr>\n      <th>157070</th>\n      <td>CS1112</td>\n      <td>2011-08-31</td>\n      <td>96.0</td>\n      <td>1.0</td>\n    </tr>\n    <tr>\n      <th>157061</th>\n      <td>CS1112</td>\n      <td>2011-09-30</td>\n      <td>0.0</td>\n      <td>0.0</td>\n    </tr>\n    <tr>\n      <th>...</th>\n      <td>...</td>\n      <td>...</td>\n      <td>...</td>\n      <td>...</td>\n    </tr>\n    <tr>\n      <th>295141</th>\n      <td>CS9000</td>\n      <td>2014-11-30</td>\n      <td>0.0</td>\n      <td>0.0</td>\n    </tr>\n    <tr>\n      <th>295126</th>\n      <td>CS9000</td>\n      <td>2014-12-31</td>\n      <td>0.0</td>\n      <td>0.0</td>\n    </tr>\n    <tr>\n      <th>295119</th>\n      <td>CS9000</td>\n      <td>2015-01-31</td>\n      <td>0.0</td>\n      <td>0.0</td>\n    </tr>\n    <tr>\n      <th>295136</th>\n      <td>CS9000</td>\n      <td>2015-02-28</td>\n      <td>0.0</td>\n      <td>0.0</td>\n    </tr>\n    <tr>\n      <th>295114</th>\n      <td>CS9000</td>\n      <td>2015-03-31</td>\n      <td>34.0</td>\n      <td>1.0</td>\n    </tr>\n  </tbody>\n</table>\n<p>323783 rows × 4 columns</p>\n</div>"
     },
     "execution_count": 60,
     "metadata": {},
     "output_type": "execute_result"
    }
   ],
   "source": [
    "# 2 Sort the data first by 'CLNT NO' and then by 'ME DT' in ascending order\n",
    "base_clnt_mth.fillna(0, inplace=True)\n",
    "base_clnt_mth.sort_values(by=['CLNT_NO', 'ME_DT'], inplace=True)\n",
    "base_clnt_mth"
   ],
   "metadata": {
    "collapsed": false
   }
  },
  {
   "cell_type": "code",
   "execution_count": 61,
   "outputs": [
    {
     "data": {
      "text/plain": "               mth_txn_amt_sum                  mth_txn_amt_cnt               \n                           sum       mean   max             sum      mean  max\nCLNT_NO                                                                       \nCS1112  157064             NaN        NaN   NaN             NaN       NaN  NaN\n        157059             NaN        NaN   NaN             NaN       NaN  NaN\n        157044            56.0  18.666667  56.0             1.0  0.333333  1.0\n        157070           152.0  50.666667  96.0             2.0  0.666667  1.0\n        157061            96.0  32.000000  96.0             1.0  0.333333  1.0",
      "text/html": "<div>\n<style scoped>\n    .dataframe tbody tr th:only-of-type {\n        vertical-align: middle;\n    }\n\n    .dataframe tbody tr th {\n        vertical-align: top;\n    }\n\n    .dataframe thead tr th {\n        text-align: left;\n    }\n\n    .dataframe thead tr:last-of-type th {\n        text-align: right;\n    }\n</style>\n<table border=\"1\" class=\"dataframe\">\n  <thead>\n    <tr>\n      <th></th>\n      <th></th>\n      <th colspan=\"3\" halign=\"left\">mth_txn_amt_sum</th>\n      <th colspan=\"3\" halign=\"left\">mth_txn_amt_cnt</th>\n    </tr>\n    <tr>\n      <th></th>\n      <th></th>\n      <th>sum</th>\n      <th>mean</th>\n      <th>max</th>\n      <th>sum</th>\n      <th>mean</th>\n      <th>max</th>\n    </tr>\n    <tr>\n      <th>CLNT_NO</th>\n      <th></th>\n      <th></th>\n      <th></th>\n      <th></th>\n      <th></th>\n      <th></th>\n      <th></th>\n    </tr>\n  </thead>\n  <tbody>\n    <tr>\n      <th rowspan=\"5\" valign=\"top\">CS1112</th>\n      <th>157064</th>\n      <td>NaN</td>\n      <td>NaN</td>\n      <td>NaN</td>\n      <td>NaN</td>\n      <td>NaN</td>\n      <td>NaN</td>\n    </tr>\n    <tr>\n      <th>157059</th>\n      <td>NaN</td>\n      <td>NaN</td>\n      <td>NaN</td>\n      <td>NaN</td>\n      <td>NaN</td>\n      <td>NaN</td>\n    </tr>\n    <tr>\n      <th>157044</th>\n      <td>56.0</td>\n      <td>18.666667</td>\n      <td>56.0</td>\n      <td>1.0</td>\n      <td>0.333333</td>\n      <td>1.0</td>\n    </tr>\n    <tr>\n      <th>157070</th>\n      <td>152.0</td>\n      <td>50.666667</td>\n      <td>96.0</td>\n      <td>2.0</td>\n      <td>0.666667</td>\n      <td>1.0</td>\n    </tr>\n    <tr>\n      <th>157061</th>\n      <td>96.0</td>\n      <td>32.000000</td>\n      <td>96.0</td>\n      <td>1.0</td>\n      <td>0.333333</td>\n      <td>1.0</td>\n    </tr>\n  </tbody>\n</table>\n</div>"
     },
     "execution_count": 61,
     "metadata": {},
     "output_type": "execute_result"
    }
   ],
   "source": [
    "# 3 Calculate separately the 3-month rolling window features\n",
    "rolling_features_3M = base_clnt_mth.groupby(['CLNT_NO'])[['mth_txn_amt_sum', 'mth_txn_amt_cnt']].rolling(3).agg(['sum','mean','max'])\n",
    "rolling_features_3M.head()"
   ],
   "metadata": {
    "collapsed": false
   }
  },
  {
   "cell_type": "code",
   "execution_count": 62,
   "outputs": [
    {
     "data": {
      "text/plain": "2"
     },
     "execution_count": 62,
     "metadata": {},
     "output_type": "execute_result"
    }
   ],
   "source": [
    "rolling_features_3M.index.nlevels"
   ],
   "metadata": {
    "collapsed": false
   }
  },
  {
   "cell_type": "code",
   "execution_count": 63,
   "outputs": [
    {
     "data": {
      "text/plain": "2"
     },
     "execution_count": 63,
     "metadata": {},
     "output_type": "execute_result"
    }
   ],
   "source": [
    "rolling_features_3M.columns.nlevels"
   ],
   "metadata": {
    "collapsed": false
   }
  },
  {
   "cell_type": "markdown",
   "source": [
    "#### Answer 1.5.3\n",
    "- How many rows appear with NaN values at the beginning of each client for 3, 6 and 12-month windows, respectively? Why do they appear?\n",
    "    **A: There will be 2, 5, 11(n-1) NaN row at the beginning respectively, because the calculation is to get statistics from previous n months, which causes at the beginning the window will not be able to fit-in depending on its size.**\n",
    "- How many levels do the index and columns have? Are these MultiIndex dataframes?\n",
    "    **A: The levels of index and column are both 2, which means these are multi-indexed dataframes. For index direction, it keeps the original row index and combines with the `CLNT_NO`; similarly, for column direction, it keeps the original column names and combines with the metrics.**"
   ],
   "metadata": {
    "collapsed": false
   }
  },
  {
   "cell_type": "code",
   "execution_count": 64,
   "outputs": [
    {
     "data": {
      "text/plain": "                amt_sum_3M  amt_mean_3M  amt_max_3M  txn_cnt_sum_3M  \\\nCLNT_NO                                                               \nCS1112  157064         NaN          NaN         NaN             NaN   \n        157059         NaN          NaN         NaN             NaN   \n        157044        56.0    18.666667        56.0             1.0   \n        157070       152.0    50.666667        96.0             2.0   \n        157061        96.0    32.000000        96.0             1.0   \n...                    ...          ...         ...             ...   \nCS9000  295141         0.0     0.000000         0.0             0.0   \n        295126         0.0     0.000000         0.0             0.0   \n        295119         0.0     0.000000         0.0             0.0   \n        295136         0.0     0.000000         0.0             0.0   \n        295114        34.0    11.333333        34.0             1.0   \n\n                txn_cnt_mean_3M  txn_cnt_max_3M  \nCLNT_NO                                          \nCS1112  157064              NaN             NaN  \n        157059              NaN             NaN  \n        157044         0.333333             1.0  \n        157070         0.666667             1.0  \n        157061         0.333333             1.0  \n...                         ...             ...  \nCS9000  295141         0.000000             0.0  \n        295126         0.000000             0.0  \n        295119         0.000000             0.0  \n        295136         0.000000             0.0  \n        295114         0.333333             1.0  \n\n[323783 rows x 6 columns]",
      "text/html": "<div>\n<style scoped>\n    .dataframe tbody tr th:only-of-type {\n        vertical-align: middle;\n    }\n\n    .dataframe tbody tr th {\n        vertical-align: top;\n    }\n\n    .dataframe thead th {\n        text-align: right;\n    }\n</style>\n<table border=\"1\" class=\"dataframe\">\n  <thead>\n    <tr style=\"text-align: right;\">\n      <th></th>\n      <th></th>\n      <th>amt_sum_3M</th>\n      <th>amt_mean_3M</th>\n      <th>amt_max_3M</th>\n      <th>txn_cnt_sum_3M</th>\n      <th>txn_cnt_mean_3M</th>\n      <th>txn_cnt_max_3M</th>\n    </tr>\n    <tr>\n      <th>CLNT_NO</th>\n      <th></th>\n      <th></th>\n      <th></th>\n      <th></th>\n      <th></th>\n      <th></th>\n      <th></th>\n    </tr>\n  </thead>\n  <tbody>\n    <tr>\n      <th rowspan=\"5\" valign=\"top\">CS1112</th>\n      <th>157064</th>\n      <td>NaN</td>\n      <td>NaN</td>\n      <td>NaN</td>\n      <td>NaN</td>\n      <td>NaN</td>\n      <td>NaN</td>\n    </tr>\n    <tr>\n      <th>157059</th>\n      <td>NaN</td>\n      <td>NaN</td>\n      <td>NaN</td>\n      <td>NaN</td>\n      <td>NaN</td>\n      <td>NaN</td>\n    </tr>\n    <tr>\n      <th>157044</th>\n      <td>56.0</td>\n      <td>18.666667</td>\n      <td>56.0</td>\n      <td>1.0</td>\n      <td>0.333333</td>\n      <td>1.0</td>\n    </tr>\n    <tr>\n      <th>157070</th>\n      <td>152.0</td>\n      <td>50.666667</td>\n      <td>96.0</td>\n      <td>2.0</td>\n      <td>0.666667</td>\n      <td>1.0</td>\n    </tr>\n    <tr>\n      <th>157061</th>\n      <td>96.0</td>\n      <td>32.000000</td>\n      <td>96.0</td>\n      <td>1.0</td>\n      <td>0.333333</td>\n      <td>1.0</td>\n    </tr>\n    <tr>\n      <th>...</th>\n      <th>...</th>\n      <td>...</td>\n      <td>...</td>\n      <td>...</td>\n      <td>...</td>\n      <td>...</td>\n      <td>...</td>\n    </tr>\n    <tr>\n      <th rowspan=\"5\" valign=\"top\">CS9000</th>\n      <th>295141</th>\n      <td>0.0</td>\n      <td>0.000000</td>\n      <td>0.0</td>\n      <td>0.0</td>\n      <td>0.000000</td>\n      <td>0.0</td>\n    </tr>\n    <tr>\n      <th>295126</th>\n      <td>0.0</td>\n      <td>0.000000</td>\n      <td>0.0</td>\n      <td>0.0</td>\n      <td>0.000000</td>\n      <td>0.0</td>\n    </tr>\n    <tr>\n      <th>295119</th>\n      <td>0.0</td>\n      <td>0.000000</td>\n      <td>0.0</td>\n      <td>0.0</td>\n      <td>0.000000</td>\n      <td>0.0</td>\n    </tr>\n    <tr>\n      <th>295136</th>\n      <td>0.0</td>\n      <td>0.000000</td>\n      <td>0.0</td>\n      <td>0.0</td>\n      <td>0.000000</td>\n      <td>0.0</td>\n    </tr>\n    <tr>\n      <th>295114</th>\n      <td>34.0</td>\n      <td>11.333333</td>\n      <td>34.0</td>\n      <td>1.0</td>\n      <td>0.333333</td>\n      <td>1.0</td>\n    </tr>\n  </tbody>\n</table>\n<p>323783 rows × 6 columns</p>\n</div>"
     },
     "execution_count": 64,
     "metadata": {},
     "output_type": "execute_result"
    }
   ],
   "source": [
    "# Rename the columns\n",
    "rolling_features_3M.columns = ['amt_sum_3M', 'amt_mean_3M', 'amt_max_3M', 'txn_cnt_sum_3M', 'txn_cnt_mean_3M', 'txn_cnt_max_3M']\n",
    "rolling_features_3M"
   ],
   "metadata": {
    "collapsed": false
   }
  },
  {
   "cell_type": "code",
   "execution_count": 65,
   "outputs": [
    {
     "data": {
      "text/plain": "                amt_sum_6M  amt_mean_6M  amt_max_6M  txn_cnt_sum_6M  \\\nCLNT_NO                                                               \nCS1112  157064         NaN          NaN         NaN             NaN   \n        157059         NaN          NaN         NaN             NaN   \n        157044         NaN          NaN         NaN             NaN   \n        157070         NaN          NaN         NaN             NaN   \n        157061         NaN          NaN         NaN             NaN   \n        157048       212.0    35.333333        96.0             3.0   \n        157029       212.0    35.333333        96.0             3.0   \n        157049       156.0    26.000000        96.0             2.0   \n        157046       156.0    26.000000        96.0             2.0   \n        157032        60.0    10.000000        60.0             1.0   \n\n                txn_cnt_mean_6M  txn_cnt_max_6M  \nCLNT_NO                                          \nCS1112  157064              NaN             NaN  \n        157059              NaN             NaN  \n        157044              NaN             NaN  \n        157070              NaN             NaN  \n        157061              NaN             NaN  \n        157048         0.500000             1.0  \n        157029         0.500000             1.0  \n        157049         0.333333             1.0  \n        157046         0.333333             1.0  \n        157032         0.166667             1.0  ",
      "text/html": "<div>\n<style scoped>\n    .dataframe tbody tr th:only-of-type {\n        vertical-align: middle;\n    }\n\n    .dataframe tbody tr th {\n        vertical-align: top;\n    }\n\n    .dataframe thead th {\n        text-align: right;\n    }\n</style>\n<table border=\"1\" class=\"dataframe\">\n  <thead>\n    <tr style=\"text-align: right;\">\n      <th></th>\n      <th></th>\n      <th>amt_sum_6M</th>\n      <th>amt_mean_6M</th>\n      <th>amt_max_6M</th>\n      <th>txn_cnt_sum_6M</th>\n      <th>txn_cnt_mean_6M</th>\n      <th>txn_cnt_max_6M</th>\n    </tr>\n    <tr>\n      <th>CLNT_NO</th>\n      <th></th>\n      <th></th>\n      <th></th>\n      <th></th>\n      <th></th>\n      <th></th>\n      <th></th>\n    </tr>\n  </thead>\n  <tbody>\n    <tr>\n      <th rowspan=\"10\" valign=\"top\">CS1112</th>\n      <th>157064</th>\n      <td>NaN</td>\n      <td>NaN</td>\n      <td>NaN</td>\n      <td>NaN</td>\n      <td>NaN</td>\n      <td>NaN</td>\n    </tr>\n    <tr>\n      <th>157059</th>\n      <td>NaN</td>\n      <td>NaN</td>\n      <td>NaN</td>\n      <td>NaN</td>\n      <td>NaN</td>\n      <td>NaN</td>\n    </tr>\n    <tr>\n      <th>157044</th>\n      <td>NaN</td>\n      <td>NaN</td>\n      <td>NaN</td>\n      <td>NaN</td>\n      <td>NaN</td>\n      <td>NaN</td>\n    </tr>\n    <tr>\n      <th>157070</th>\n      <td>NaN</td>\n      <td>NaN</td>\n      <td>NaN</td>\n      <td>NaN</td>\n      <td>NaN</td>\n      <td>NaN</td>\n    </tr>\n    <tr>\n      <th>157061</th>\n      <td>NaN</td>\n      <td>NaN</td>\n      <td>NaN</td>\n      <td>NaN</td>\n      <td>NaN</td>\n      <td>NaN</td>\n    </tr>\n    <tr>\n      <th>157048</th>\n      <td>212.0</td>\n      <td>35.333333</td>\n      <td>96.0</td>\n      <td>3.0</td>\n      <td>0.500000</td>\n      <td>1.0</td>\n    </tr>\n    <tr>\n      <th>157029</th>\n      <td>212.0</td>\n      <td>35.333333</td>\n      <td>96.0</td>\n      <td>3.0</td>\n      <td>0.500000</td>\n      <td>1.0</td>\n    </tr>\n    <tr>\n      <th>157049</th>\n      <td>156.0</td>\n      <td>26.000000</td>\n      <td>96.0</td>\n      <td>2.0</td>\n      <td>0.333333</td>\n      <td>1.0</td>\n    </tr>\n    <tr>\n      <th>157046</th>\n      <td>156.0</td>\n      <td>26.000000</td>\n      <td>96.0</td>\n      <td>2.0</td>\n      <td>0.333333</td>\n      <td>1.0</td>\n    </tr>\n    <tr>\n      <th>157032</th>\n      <td>60.0</td>\n      <td>10.000000</td>\n      <td>60.0</td>\n      <td>1.0</td>\n      <td>0.166667</td>\n      <td>1.0</td>\n    </tr>\n  </tbody>\n</table>\n</div>"
     },
     "execution_count": 65,
     "metadata": {},
     "output_type": "execute_result"
    }
   ],
   "source": [
    "# Calculate separately the 6 -month rolling window features\n",
    "rolling_features_6M = base_clnt_mth.groupby(['CLNT_NO'])[['mth_txn_amt_sum', 'mth_txn_amt_cnt']].rolling(6).agg(['sum','mean','max'])\n",
    "rolling_features_6M.columns = ['amt_sum_6M', 'amt_mean_6M', 'amt_max_6M', 'txn_cnt_sum_6M', 'txn_cnt_mean_6M', 'txn_cnt_max_6M']\n",
    "rolling_features_6M.head(10)"
   ],
   "metadata": {
    "collapsed": false
   }
  },
  {
   "cell_type": "code",
   "execution_count": 66,
   "outputs": [
    {
     "data": {
      "text/plain": "                amt_sum_12M  amt_mean_12M  amt_max_12M  txn_cnt_sum_12M  \\\nCLNT_NO                                                                   \nCS1112  157064          NaN           NaN          NaN              NaN   \n        157059          NaN           NaN          NaN              NaN   \n        157044          NaN           NaN          NaN              NaN   \n        157070          NaN           NaN          NaN              NaN   \n        157061          NaN           NaN          NaN              NaN   \n        157048          NaN           NaN          NaN              NaN   \n        157029          NaN           NaN          NaN              NaN   \n        157049          NaN           NaN          NaN              NaN   \n        157046          NaN           NaN          NaN              NaN   \n        157032          NaN           NaN          NaN              NaN   \n        157045          NaN           NaN          NaN              NaN   \n        157051        268.0     22.333333         96.0              4.0   \n        157062        268.0     22.333333         96.0              4.0   \n        157073        264.0     22.000000         96.0              4.0   \n        157065        345.0     28.750000         96.0              5.0   \n\n                txn_cnt_mean_12M  txn_cnt_max_12M  \nCLNT_NO                                            \nCS1112  157064               NaN              NaN  \n        157059               NaN              NaN  \n        157044               NaN              NaN  \n        157070               NaN              NaN  \n        157061               NaN              NaN  \n        157048               NaN              NaN  \n        157029               NaN              NaN  \n        157049               NaN              NaN  \n        157046               NaN              NaN  \n        157032               NaN              NaN  \n        157045               NaN              NaN  \n        157051          0.333333              1.0  \n        157062          0.333333              1.0  \n        157073          0.333333              1.0  \n        157065          0.416667              1.0  ",
      "text/html": "<div>\n<style scoped>\n    .dataframe tbody tr th:only-of-type {\n        vertical-align: middle;\n    }\n\n    .dataframe tbody tr th {\n        vertical-align: top;\n    }\n\n    .dataframe thead th {\n        text-align: right;\n    }\n</style>\n<table border=\"1\" class=\"dataframe\">\n  <thead>\n    <tr style=\"text-align: right;\">\n      <th></th>\n      <th></th>\n      <th>amt_sum_12M</th>\n      <th>amt_mean_12M</th>\n      <th>amt_max_12M</th>\n      <th>txn_cnt_sum_12M</th>\n      <th>txn_cnt_mean_12M</th>\n      <th>txn_cnt_max_12M</th>\n    </tr>\n    <tr>\n      <th>CLNT_NO</th>\n      <th></th>\n      <th></th>\n      <th></th>\n      <th></th>\n      <th></th>\n      <th></th>\n      <th></th>\n    </tr>\n  </thead>\n  <tbody>\n    <tr>\n      <th rowspan=\"15\" valign=\"top\">CS1112</th>\n      <th>157064</th>\n      <td>NaN</td>\n      <td>NaN</td>\n      <td>NaN</td>\n      <td>NaN</td>\n      <td>NaN</td>\n      <td>NaN</td>\n    </tr>\n    <tr>\n      <th>157059</th>\n      <td>NaN</td>\n      <td>NaN</td>\n      <td>NaN</td>\n      <td>NaN</td>\n      <td>NaN</td>\n      <td>NaN</td>\n    </tr>\n    <tr>\n      <th>157044</th>\n      <td>NaN</td>\n      <td>NaN</td>\n      <td>NaN</td>\n      <td>NaN</td>\n      <td>NaN</td>\n      <td>NaN</td>\n    </tr>\n    <tr>\n      <th>157070</th>\n      <td>NaN</td>\n      <td>NaN</td>\n      <td>NaN</td>\n      <td>NaN</td>\n      <td>NaN</td>\n      <td>NaN</td>\n    </tr>\n    <tr>\n      <th>157061</th>\n      <td>NaN</td>\n      <td>NaN</td>\n      <td>NaN</td>\n      <td>NaN</td>\n      <td>NaN</td>\n      <td>NaN</td>\n    </tr>\n    <tr>\n      <th>157048</th>\n      <td>NaN</td>\n      <td>NaN</td>\n      <td>NaN</td>\n      <td>NaN</td>\n      <td>NaN</td>\n      <td>NaN</td>\n    </tr>\n    <tr>\n      <th>157029</th>\n      <td>NaN</td>\n      <td>NaN</td>\n      <td>NaN</td>\n      <td>NaN</td>\n      <td>NaN</td>\n      <td>NaN</td>\n    </tr>\n    <tr>\n      <th>157049</th>\n      <td>NaN</td>\n      <td>NaN</td>\n      <td>NaN</td>\n      <td>NaN</td>\n      <td>NaN</td>\n      <td>NaN</td>\n    </tr>\n    <tr>\n      <th>157046</th>\n      <td>NaN</td>\n      <td>NaN</td>\n      <td>NaN</td>\n      <td>NaN</td>\n      <td>NaN</td>\n      <td>NaN</td>\n    </tr>\n    <tr>\n      <th>157032</th>\n      <td>NaN</td>\n      <td>NaN</td>\n      <td>NaN</td>\n      <td>NaN</td>\n      <td>NaN</td>\n      <td>NaN</td>\n    </tr>\n    <tr>\n      <th>157045</th>\n      <td>NaN</td>\n      <td>NaN</td>\n      <td>NaN</td>\n      <td>NaN</td>\n      <td>NaN</td>\n      <td>NaN</td>\n    </tr>\n    <tr>\n      <th>157051</th>\n      <td>268.0</td>\n      <td>22.333333</td>\n      <td>96.0</td>\n      <td>4.0</td>\n      <td>0.333333</td>\n      <td>1.0</td>\n    </tr>\n    <tr>\n      <th>157062</th>\n      <td>268.0</td>\n      <td>22.333333</td>\n      <td>96.0</td>\n      <td>4.0</td>\n      <td>0.333333</td>\n      <td>1.0</td>\n    </tr>\n    <tr>\n      <th>157073</th>\n      <td>264.0</td>\n      <td>22.000000</td>\n      <td>96.0</td>\n      <td>4.0</td>\n      <td>0.333333</td>\n      <td>1.0</td>\n    </tr>\n    <tr>\n      <th>157065</th>\n      <td>345.0</td>\n      <td>28.750000</td>\n      <td>96.0</td>\n      <td>5.0</td>\n      <td>0.416667</td>\n      <td>1.0</td>\n    </tr>\n  </tbody>\n</table>\n</div>"
     },
     "execution_count": 66,
     "metadata": {},
     "output_type": "execute_result"
    }
   ],
   "source": [
    "# Calculate separately the 12-month rolling window features\n",
    "rolling_features_12M = base_clnt_mth.groupby(['CLNT_NO'])[['mth_txn_amt_sum', 'mth_txn_amt_cnt']].rolling(12).agg(['sum','mean','max'])\n",
    "rolling_features_12M.columns = ['amt_sum_12M', 'amt_mean_12M', 'amt_max_12M', 'txn_cnt_sum_12M', 'txn_cnt_mean_12M', 'txn_cnt_max_12M']\n",
    "rolling_features_12M.head(15)"
   ],
   "metadata": {
    "collapsed": false
   }
  },
  {
   "cell_type": "code",
   "execution_count": 67,
   "outputs": [],
   "source": [
    "# Drop the index level 0\n",
    "rolling_features_3M.index = rolling_features_3M.index.droplevel(0)\n",
    "rolling_features_6M.index = rolling_features_6M.index.droplevel(0)\n",
    "rolling_features_12M.index = rolling_features_12M.index.droplevel(0)"
   ],
   "metadata": {
    "collapsed": false
   }
  },
  {
   "cell_type": "code",
   "execution_count": 68,
   "outputs": [
    {
     "data": {
      "text/plain": "       CLNT_NO      ME_DT  mth_txn_amt_sum  mth_txn_amt_cnt  amt_sum_3M  \\\n157064  CS1112 2011-05-31              0.0              0.0         NaN   \n157059  CS1112 2011-06-30             56.0              1.0         NaN   \n157044  CS1112 2011-07-31              0.0              0.0        56.0   \n157070  CS1112 2011-08-31             96.0              1.0       152.0   \n157061  CS1112 2011-09-30              0.0              0.0        96.0   \n...        ...        ...              ...              ...         ...   \n295141  CS9000 2014-11-30              0.0              0.0         0.0   \n295126  CS9000 2014-12-31              0.0              0.0         0.0   \n295119  CS9000 2015-01-31              0.0              0.0         0.0   \n295136  CS9000 2015-02-28              0.0              0.0         0.0   \n295114  CS9000 2015-03-31             34.0              1.0        34.0   \n\n        amt_mean_3M  amt_max_3M  txn_cnt_sum_3M  txn_cnt_mean_3M  \\\n157064          NaN         NaN             NaN              NaN   \n157059          NaN         NaN             NaN              NaN   \n157044    18.666667        56.0             1.0         0.333333   \n157070    50.666667        96.0             2.0         0.666667   \n157061    32.000000        96.0             1.0         0.333333   \n...             ...         ...             ...              ...   \n295141     0.000000         0.0             0.0         0.000000   \n295126     0.000000         0.0             0.0         0.000000   \n295119     0.000000         0.0             0.0         0.000000   \n295136     0.000000         0.0             0.0         0.000000   \n295114    11.333333        34.0             1.0         0.333333   \n\n        txn_cnt_max_3M  ...  amt_max_6M  txn_cnt_sum_6M  txn_cnt_mean_6M  \\\n157064             NaN  ...         NaN             NaN              NaN   \n157059             NaN  ...         NaN             NaN              NaN   \n157044             1.0  ...         NaN             NaN              NaN   \n157070             1.0  ...         NaN             NaN              NaN   \n157061             1.0  ...         NaN             NaN              NaN   \n...                ...  ...         ...             ...              ...   \n295141             0.0  ...        35.0             2.0         0.333333   \n295126             0.0  ...        35.0             2.0         0.333333   \n295119             0.0  ...        35.0             1.0         0.166667   \n295136             0.0  ...         0.0             0.0         0.000000   \n295114             1.0  ...        34.0             1.0         0.166667   \n\n        txn_cnt_max_6M  amt_sum_12M  amt_mean_12M  amt_max_12M  \\\n157064             NaN          NaN           NaN          NaN   \n157059             NaN          NaN           NaN          NaN   \n157044             NaN          NaN           NaN          NaN   \n157070             NaN          NaN           NaN          NaN   \n157061             NaN          NaN           NaN          NaN   \n...                ...          ...           ...          ...   \n295141             1.0         97.0      8.083333         35.0   \n295126             1.0         97.0      8.083333         35.0   \n295119             1.0         81.0      6.750000         35.0   \n295136             0.0         81.0      6.750000         35.0   \n295114             1.0        115.0      9.583333         35.0   \n\n        txn_cnt_sum_12M  txn_cnt_mean_12M  txn_cnt_max_12M  \n157064              NaN               NaN              NaN  \n157059              NaN               NaN              NaN  \n157044              NaN               NaN              NaN  \n157070              NaN               NaN              NaN  \n157061              NaN               NaN              NaN  \n...                 ...               ...              ...  \n295141              4.0          0.333333              1.0  \n295126              4.0          0.333333              1.0  \n295119              3.0          0.250000              1.0  \n295136              3.0          0.250000              1.0  \n295114              4.0          0.333333              1.0  \n\n[323783 rows x 22 columns]",
      "text/html": "<div>\n<style scoped>\n    .dataframe tbody tr th:only-of-type {\n        vertical-align: middle;\n    }\n\n    .dataframe tbody tr th {\n        vertical-align: top;\n    }\n\n    .dataframe thead th {\n        text-align: right;\n    }\n</style>\n<table border=\"1\" class=\"dataframe\">\n  <thead>\n    <tr style=\"text-align: right;\">\n      <th></th>\n      <th>CLNT_NO</th>\n      <th>ME_DT</th>\n      <th>mth_txn_amt_sum</th>\n      <th>mth_txn_amt_cnt</th>\n      <th>amt_sum_3M</th>\n      <th>amt_mean_3M</th>\n      <th>amt_max_3M</th>\n      <th>txn_cnt_sum_3M</th>\n      <th>txn_cnt_mean_3M</th>\n      <th>txn_cnt_max_3M</th>\n      <th>...</th>\n      <th>amt_max_6M</th>\n      <th>txn_cnt_sum_6M</th>\n      <th>txn_cnt_mean_6M</th>\n      <th>txn_cnt_max_6M</th>\n      <th>amt_sum_12M</th>\n      <th>amt_mean_12M</th>\n      <th>amt_max_12M</th>\n      <th>txn_cnt_sum_12M</th>\n      <th>txn_cnt_mean_12M</th>\n      <th>txn_cnt_max_12M</th>\n    </tr>\n  </thead>\n  <tbody>\n    <tr>\n      <th>157064</th>\n      <td>CS1112</td>\n      <td>2011-05-31</td>\n      <td>0.0</td>\n      <td>0.0</td>\n      <td>NaN</td>\n      <td>NaN</td>\n      <td>NaN</td>\n      <td>NaN</td>\n      <td>NaN</td>\n      <td>NaN</td>\n      <td>...</td>\n      <td>NaN</td>\n      <td>NaN</td>\n      <td>NaN</td>\n      <td>NaN</td>\n      <td>NaN</td>\n      <td>NaN</td>\n      <td>NaN</td>\n      <td>NaN</td>\n      <td>NaN</td>\n      <td>NaN</td>\n    </tr>\n    <tr>\n      <th>157059</th>\n      <td>CS1112</td>\n      <td>2011-06-30</td>\n      <td>56.0</td>\n      <td>1.0</td>\n      <td>NaN</td>\n      <td>NaN</td>\n      <td>NaN</td>\n      <td>NaN</td>\n      <td>NaN</td>\n      <td>NaN</td>\n      <td>...</td>\n      <td>NaN</td>\n      <td>NaN</td>\n      <td>NaN</td>\n      <td>NaN</td>\n      <td>NaN</td>\n      <td>NaN</td>\n      <td>NaN</td>\n      <td>NaN</td>\n      <td>NaN</td>\n      <td>NaN</td>\n    </tr>\n    <tr>\n      <th>157044</th>\n      <td>CS1112</td>\n      <td>2011-07-31</td>\n      <td>0.0</td>\n      <td>0.0</td>\n      <td>56.0</td>\n      <td>18.666667</td>\n      <td>56.0</td>\n      <td>1.0</td>\n      <td>0.333333</td>\n      <td>1.0</td>\n      <td>...</td>\n      <td>NaN</td>\n      <td>NaN</td>\n      <td>NaN</td>\n      <td>NaN</td>\n      <td>NaN</td>\n      <td>NaN</td>\n      <td>NaN</td>\n      <td>NaN</td>\n      <td>NaN</td>\n      <td>NaN</td>\n    </tr>\n    <tr>\n      <th>157070</th>\n      <td>CS1112</td>\n      <td>2011-08-31</td>\n      <td>96.0</td>\n      <td>1.0</td>\n      <td>152.0</td>\n      <td>50.666667</td>\n      <td>96.0</td>\n      <td>2.0</td>\n      <td>0.666667</td>\n      <td>1.0</td>\n      <td>...</td>\n      <td>NaN</td>\n      <td>NaN</td>\n      <td>NaN</td>\n      <td>NaN</td>\n      <td>NaN</td>\n      <td>NaN</td>\n      <td>NaN</td>\n      <td>NaN</td>\n      <td>NaN</td>\n      <td>NaN</td>\n    </tr>\n    <tr>\n      <th>157061</th>\n      <td>CS1112</td>\n      <td>2011-09-30</td>\n      <td>0.0</td>\n      <td>0.0</td>\n      <td>96.0</td>\n      <td>32.000000</td>\n      <td>96.0</td>\n      <td>1.0</td>\n      <td>0.333333</td>\n      <td>1.0</td>\n      <td>...</td>\n      <td>NaN</td>\n      <td>NaN</td>\n      <td>NaN</td>\n      <td>NaN</td>\n      <td>NaN</td>\n      <td>NaN</td>\n      <td>NaN</td>\n      <td>NaN</td>\n      <td>NaN</td>\n      <td>NaN</td>\n    </tr>\n    <tr>\n      <th>...</th>\n      <td>...</td>\n      <td>...</td>\n      <td>...</td>\n      <td>...</td>\n      <td>...</td>\n      <td>...</td>\n      <td>...</td>\n      <td>...</td>\n      <td>...</td>\n      <td>...</td>\n      <td>...</td>\n      <td>...</td>\n      <td>...</td>\n      <td>...</td>\n      <td>...</td>\n      <td>...</td>\n      <td>...</td>\n      <td>...</td>\n      <td>...</td>\n      <td>...</td>\n      <td>...</td>\n    </tr>\n    <tr>\n      <th>295141</th>\n      <td>CS9000</td>\n      <td>2014-11-30</td>\n      <td>0.0</td>\n      <td>0.0</td>\n      <td>0.0</td>\n      <td>0.000000</td>\n      <td>0.0</td>\n      <td>0.0</td>\n      <td>0.000000</td>\n      <td>0.0</td>\n      <td>...</td>\n      <td>35.0</td>\n      <td>2.0</td>\n      <td>0.333333</td>\n      <td>1.0</td>\n      <td>97.0</td>\n      <td>8.083333</td>\n      <td>35.0</td>\n      <td>4.0</td>\n      <td>0.333333</td>\n      <td>1.0</td>\n    </tr>\n    <tr>\n      <th>295126</th>\n      <td>CS9000</td>\n      <td>2014-12-31</td>\n      <td>0.0</td>\n      <td>0.0</td>\n      <td>0.0</td>\n      <td>0.000000</td>\n      <td>0.0</td>\n      <td>0.0</td>\n      <td>0.000000</td>\n      <td>0.0</td>\n      <td>...</td>\n      <td>35.0</td>\n      <td>2.0</td>\n      <td>0.333333</td>\n      <td>1.0</td>\n      <td>97.0</td>\n      <td>8.083333</td>\n      <td>35.0</td>\n      <td>4.0</td>\n      <td>0.333333</td>\n      <td>1.0</td>\n    </tr>\n    <tr>\n      <th>295119</th>\n      <td>CS9000</td>\n      <td>2015-01-31</td>\n      <td>0.0</td>\n      <td>0.0</td>\n      <td>0.0</td>\n      <td>0.000000</td>\n      <td>0.0</td>\n      <td>0.0</td>\n      <td>0.000000</td>\n      <td>0.0</td>\n      <td>...</td>\n      <td>35.0</td>\n      <td>1.0</td>\n      <td>0.166667</td>\n      <td>1.0</td>\n      <td>81.0</td>\n      <td>6.750000</td>\n      <td>35.0</td>\n      <td>3.0</td>\n      <td>0.250000</td>\n      <td>1.0</td>\n    </tr>\n    <tr>\n      <th>295136</th>\n      <td>CS9000</td>\n      <td>2015-02-28</td>\n      <td>0.0</td>\n      <td>0.0</td>\n      <td>0.0</td>\n      <td>0.000000</td>\n      <td>0.0</td>\n      <td>0.0</td>\n      <td>0.000000</td>\n      <td>0.0</td>\n      <td>...</td>\n      <td>0.0</td>\n      <td>0.0</td>\n      <td>0.000000</td>\n      <td>0.0</td>\n      <td>81.0</td>\n      <td>6.750000</td>\n      <td>35.0</td>\n      <td>3.0</td>\n      <td>0.250000</td>\n      <td>1.0</td>\n    </tr>\n    <tr>\n      <th>295114</th>\n      <td>CS9000</td>\n      <td>2015-03-31</td>\n      <td>34.0</td>\n      <td>1.0</td>\n      <td>34.0</td>\n      <td>11.333333</td>\n      <td>34.0</td>\n      <td>1.0</td>\n      <td>0.333333</td>\n      <td>1.0</td>\n      <td>...</td>\n      <td>34.0</td>\n      <td>1.0</td>\n      <td>0.166667</td>\n      <td>1.0</td>\n      <td>115.0</td>\n      <td>9.583333</td>\n      <td>35.0</td>\n      <td>4.0</td>\n      <td>0.333333</td>\n      <td>1.0</td>\n    </tr>\n  </tbody>\n</table>\n<p>323783 rows × 22 columns</p>\n</div>"
     },
     "execution_count": 68,
     "metadata": {},
     "output_type": "execute_result"
    }
   ],
   "source": [
    "# 4 Merge the 4 tables\n",
    "all_rolling_features = pd.concat([base_clnt_mth, rolling_features_3M, rolling_features_6M, rolling_features_12M], axis=1)\n",
    "all_rolling_features"
   ],
   "metadata": {
    "collapsed": false
   }
  },
  {
   "cell_type": "code",
   "execution_count": 69,
   "outputs": [
    {
     "data": {
      "text/plain": "(323783, 22)"
     },
     "execution_count": 69,
     "metadata": {},
     "output_type": "execute_result"
    }
   ],
   "source": [
    "# 5 Check output\n",
    "all_rolling_features.shape"
   ],
   "metadata": {
    "collapsed": false
   }
  },
  {
   "cell_type": "code",
   "execution_count": 70,
   "outputs": [],
   "source": [
    "# Save to .xlsx\n",
    "all_rolling_features.to_excel('mth_rolling_features.xlsx')"
   ],
   "metadata": {
    "collapsed": false
   }
  },
  {
   "cell_type": "markdown",
   "source": [
    "## 1.6 Date-related features: days since last transaction"
   ],
   "metadata": {
    "collapsed": false
   }
  },
  {
   "cell_type": "code",
   "execution_count": 71,
   "outputs": [
    {
     "data": {
      "text/plain": "  customer_id  tran_amount   txn_date      ME_DT  YEAR  day_of_the_week  \\\n0      CS5295           35 2013-02-11 2013-02-28  2013                0   \n1      CS4768           39 2015-03-15 2015-03-31  2015                6   \n2      CS2122           52 2013-02-26 2013-02-28  2013                1   \n3      CS1217           99 2011-11-16 2011-11-30  2011                2   \n4      CS1850           78 2013-11-20 2013-11-30  2013                2   \n\n    day_name  \n0     Monday  \n1     Sunday  \n2    Tuesday  \n3  Wednesday  \n4  Wednesday  ",
      "text/html": "<div>\n<style scoped>\n    .dataframe tbody tr th:only-of-type {\n        vertical-align: middle;\n    }\n\n    .dataframe tbody tr th {\n        vertical-align: top;\n    }\n\n    .dataframe thead th {\n        text-align: right;\n    }\n</style>\n<table border=\"1\" class=\"dataframe\">\n  <thead>\n    <tr style=\"text-align: right;\">\n      <th></th>\n      <th>customer_id</th>\n      <th>tran_amount</th>\n      <th>txn_date</th>\n      <th>ME_DT</th>\n      <th>YEAR</th>\n      <th>day_of_the_week</th>\n      <th>day_name</th>\n    </tr>\n  </thead>\n  <tbody>\n    <tr>\n      <th>0</th>\n      <td>CS5295</td>\n      <td>35</td>\n      <td>2013-02-11</td>\n      <td>2013-02-28</td>\n      <td>2013</td>\n      <td>0</td>\n      <td>Monday</td>\n    </tr>\n    <tr>\n      <th>1</th>\n      <td>CS4768</td>\n      <td>39</td>\n      <td>2015-03-15</td>\n      <td>2015-03-31</td>\n      <td>2015</td>\n      <td>6</td>\n      <td>Sunday</td>\n    </tr>\n    <tr>\n      <th>2</th>\n      <td>CS2122</td>\n      <td>52</td>\n      <td>2013-02-26</td>\n      <td>2013-02-28</td>\n      <td>2013</td>\n      <td>1</td>\n      <td>Tuesday</td>\n    </tr>\n    <tr>\n      <th>3</th>\n      <td>CS1217</td>\n      <td>99</td>\n      <td>2011-11-16</td>\n      <td>2011-11-30</td>\n      <td>2011</td>\n      <td>2</td>\n      <td>Wednesday</td>\n    </tr>\n    <tr>\n      <th>4</th>\n      <td>CS1850</td>\n      <td>78</td>\n      <td>2013-11-20</td>\n      <td>2013-11-30</td>\n      <td>2013</td>\n      <td>2</td>\n      <td>Wednesday</td>\n    </tr>\n  </tbody>\n</table>\n</div>"
     },
     "execution_count": 71,
     "metadata": {},
     "output_type": "execute_result"
    }
   ],
   "source": [
    "# 1 Use the attributes' dt.dayofweek and/or dt.day name() to extract the day of the week\n",
    "txn['day_of_the_week'] = txn['txn_date'].dt.dayofweek\n",
    "txn['day_name'] = txn['txn_date'].dt.day_name()\n",
    "txn.head()"
   ],
   "metadata": {
    "collapsed": false
   }
  },
  {
   "cell_type": "code",
   "execution_count": 72,
   "outputs": [
    {
     "data": {
      "text/plain": "<Figure size 432x288 with 1 Axes>",
      "image/png": "[encoded data removed]"
     },
     "metadata": {
      "needs_background": "light"
     },
     "output_type": "display_data"
    }
   ],
   "source": [
    "# 2 Create the bar plot that shows the count of transactions per day of the week\n",
    "txn['day_of_the_week'].value_counts().sort_index().plot(kind='bar', alpha=0.5)\n",
    "plt.xticks(rotation=0)\n",
    "plt.xlabel('Day of the week')\n",
    "plt.ylabel('Frequency')\n",
    "plt.title('Transaction Count per Day of the Week')\n",
    "plt.show()"
   ],
   "metadata": {
    "collapsed": false
   }
  },
  {
   "cell_type": "code",
   "execution_count": 73,
   "outputs": [
    {
     "data": {
      "text/plain": "                            cnt\ncustomer_id YEAR day_name      \nCS1112      2011 Friday       1\n                 Sunday       1\n                 Wednesday    1\n            2012 Saturday     1\n                 Sunday       3",
      "text/html": "<div>\n<style scoped>\n    .dataframe tbody tr th:only-of-type {\n        vertical-align: middle;\n    }\n\n    .dataframe tbody tr th {\n        vertical-align: top;\n    }\n\n    .dataframe thead th {\n        text-align: right;\n    }\n</style>\n<table border=\"1\" class=\"dataframe\">\n  <thead>\n    <tr style=\"text-align: right;\">\n      <th></th>\n      <th></th>\n      <th></th>\n      <th>cnt</th>\n    </tr>\n    <tr>\n      <th>customer_id</th>\n      <th>YEAR</th>\n      <th>day_name</th>\n      <th></th>\n    </tr>\n  </thead>\n  <tbody>\n    <tr>\n      <th rowspan=\"5\" valign=\"top\">CS1112</th>\n      <th rowspan=\"3\" valign=\"top\">2011</th>\n      <th>Friday</th>\n      <td>1</td>\n    </tr>\n    <tr>\n      <th>Sunday</th>\n      <td>1</td>\n    </tr>\n    <tr>\n      <th>Wednesday</th>\n      <td>1</td>\n    </tr>\n    <tr>\n      <th rowspan=\"2\" valign=\"top\">2012</th>\n      <th>Saturday</th>\n      <td>1</td>\n    </tr>\n    <tr>\n      <th>Sunday</th>\n      <td>3</td>\n    </tr>\n  </tbody>\n</table>\n</div>"
     },
     "execution_count": 73,
     "metadata": {},
     "output_type": "execute_result"
    }
   ],
   "source": [
    "# 3 Generate the features that capture the count of transactions per client\n",
    "clnt_weekly_aggregations = txn.groupby(['customer_id', 'YEAR', 'day_name'])['tran_amount'].agg(cnt='count')\n",
    "clnt_weekly_aggregations = pd.DataFrame(clnt_weekly_aggregations)\n",
    "clnt_weekly_aggregations.head()"
   ],
   "metadata": {
    "collapsed": false
   }
  },
  {
   "cell_type": "code",
   "execution_count": 74,
   "outputs": [
    {
     "data": {
      "text/plain": "               cnt                                                           \\\nYEAR          2011                                                     2012   \nday_name    Friday Monday Saturday Sunday Thursday Tuesday Wednesday Friday   \ncustomer_id                                                                   \nCS1112           1      0        0      1        0       0         1      0   \nCS1113           1      1        0      1        0       0         0      2   \nCS1114           0      1        0      1        1       0         2      0   \nCS1115           0      0        1      1        0       0         1      1   \nCS1116           1      1        0      0        1       1         0      1   \n...            ...    ...      ...    ...      ...     ...       ...    ...   \nCS8996           0      1        0      0        0       1         0      0   \nCS8997           0      0        0      0        1       0         1      1   \nCS8998           0      0        0      0        0       1         1      2   \nCS8999           0      1        1      0        0       1         0      1   \nCS9000           0      0        0      2        0       0         0      1   \n\n                             ...                                           \\\nYEAR                         ...     2014                     2015          \nday_name    Monday Saturday  ... Thursday Tuesday Wednesday Friday Monday   \ncustomer_id                  ...                                            \nCS1112           0        1  ...        1       1         1      0      0   \nCS1113           1        0  ...        0       3         0      0      2   \nCS1114           0        1  ...        0       1         1      0      0   \nCS1115           1        0  ...        2       0         2      0      0   \nCS1116           0        0  ...        0       0         0      0      0   \n...            ...      ...  ...      ...     ...       ...    ...    ...   \nCS8996           0        3  ...        1       1         2      0      0   \nCS8997           2        0  ...        0       0         0      0      0   \nCS8998           0        0  ...        0       1         1      0      0   \nCS8999           0        2  ...        0       0         2      0      0   \nCS9000           0        1  ...        1       1         0      0      0   \n\n                                                        \nYEAR                                                    \nday_name    Saturday Sunday Thursday Tuesday Wednesday  \ncustomer_id                                             \nCS1112             0      0        0       0         1  \nCS1113             0      0        0       0         1  \nCS1114             0      0        1       0         0  \nCS1115             0      0        1       0         0  \nCS1116             0      0        0       0         0  \n...              ...    ...      ...     ...       ...  \nCS8996             0      0        0       0         0  \nCS8997             0      0        0       0         0  \nCS8998             0      0        0       0         0  \nCS8999             0      0        0       0         0  \nCS9000             1      0        0       0         0  \n\n[6889 rows x 35 columns]",
      "text/html": "<div>\n<style scoped>\n    .dataframe tbody tr th:only-of-type {\n        vertical-align: middle;\n    }\n\n    .dataframe tbody tr th {\n        vertical-align: top;\n    }\n\n    .dataframe thead tr th {\n        text-align: left;\n    }\n\n    .dataframe thead tr:last-of-type th {\n        text-align: right;\n    }\n</style>\n<table border=\"1\" class=\"dataframe\">\n  <thead>\n    <tr>\n      <th></th>\n      <th colspan=\"21\" halign=\"left\">cnt</th>\n    </tr>\n    <tr>\n      <th>YEAR</th>\n      <th colspan=\"7\" halign=\"left\">2011</th>\n      <th colspan=\"3\" halign=\"left\">2012</th>\n      <th>...</th>\n      <th colspan=\"3\" halign=\"left\">2014</th>\n      <th colspan=\"7\" halign=\"left\">2015</th>\n    </tr>\n    <tr>\n      <th>day_name</th>\n      <th>Friday</th>\n      <th>Monday</th>\n      <th>Saturday</th>\n      <th>Sunday</th>\n      <th>Thursday</th>\n      <th>Tuesday</th>\n      <th>Wednesday</th>\n      <th>Friday</th>\n      <th>Monday</th>\n      <th>Saturday</th>\n      <th>...</th>\n      <th>Thursday</th>\n      <th>Tuesday</th>\n      <th>Wednesday</th>\n      <th>Friday</th>\n      <th>Monday</th>\n      <th>Saturday</th>\n      <th>Sunday</th>\n      <th>Thursday</th>\n      <th>Tuesday</th>\n      <th>Wednesday</th>\n    </tr>\n    <tr>\n      <th>customer_id</th>\n      <th></th>\n      <th></th>\n      <th></th>\n      <th></th>\n      <th></th>\n      <th></th>\n      <th></th>\n      <th></th>\n      <th></th>\n      <th></th>\n      <th></th>\n      <th></th>\n      <th></th>\n      <th></th>\n      <th></th>\n      <th></th>\n      <th></th>\n      <th></th>\n      <th></th>\n      <th></th>\n      <th></th>\n    </tr>\n  </thead>\n  <tbody>\n    <tr>\n      <th>CS1112</th>\n      <td>1</td>\n      <td>0</td>\n      <td>0</td>\n      <td>1</td>\n      <td>0</td>\n      <td>0</td>\n      <td>1</td>\n      <td>0</td>\n      <td>0</td>\n      <td>1</td>\n      <td>...</td>\n      <td>1</td>\n      <td>1</td>\n      <td>1</td>\n      <td>0</td>\n      <td>0</td>\n      <td>0</td>\n      <td>0</td>\n      <td>0</td>\n      <td>0</td>\n      <td>1</td>\n    </tr>\n    <tr>\n      <th>CS1113</th>\n      <td>1</td>\n      <td>1</td>\n      <td>0</td>\n      <td>1</td>\n      <td>0</td>\n      <td>0</td>\n      <td>0</td>\n      <td>2</td>\n      <td>1</td>\n      <td>0</td>\n      <td>...</td>\n      <td>0</td>\n      <td>3</td>\n      <td>0</td>\n      <td>0</td>\n      <td>2</td>\n      <td>0</td>\n      <td>0</td>\n      <td>0</td>\n      <td>0</td>\n      <td>1</td>\n    </tr>\n    <tr>\n      <th>CS1114</th>\n      <td>0</td>\n      <td>1</td>\n      <td>0</td>\n      <td>1</td>\n      <td>1</td>\n      <td>0</td>\n      <td>2</td>\n      <td>0</td>\n      <td>0</td>\n      <td>1</td>\n      <td>...</td>\n      <td>0</td>\n      <td>1</td>\n      <td>1</td>\n      <td>0</td>\n      <td>0</td>\n      <td>0</td>\n      <td>0</td>\n      <td>1</td>\n      <td>0</td>\n      <td>0</td>\n    </tr>\n    <tr>\n      <th>CS1115</th>\n      <td>0</td>\n      <td>0</td>\n      <td>1</td>\n      <td>1</td>\n      <td>0</td>\n      <td>0</td>\n      <td>1</td>\n      <td>1</td>\n      <td>1</td>\n      <td>0</td>\n      <td>...</td>\n      <td>2</td>\n      <td>0</td>\n      <td>2</td>\n      <td>0</td>\n      <td>0</td>\n      <td>0</td>\n      <td>0</td>\n      <td>1</td>\n      <td>0</td>\n      <td>0</td>\n    </tr>\n    <tr>\n      <th>CS1116</th>\n      <td>1</td>\n      <td>1</td>\n      <td>0</td>\n      <td>0</td>\n      <td>1</td>\n      <td>1</td>\n      <td>0</td>\n      <td>1</td>\n      <td>0</td>\n      <td>0</td>\n      <td>...</td>\n      <td>0</td>\n      <td>0</td>\n      <td>0</td>\n      <td>0</td>\n      <td>0</td>\n      <td>0</td>\n      <td>0</td>\n      <td>0</td>\n      <td>0</td>\n      <td>0</td>\n    </tr>\n    <tr>\n      <th>...</th>\n      <td>...</td>\n      <td>...</td>\n      <td>...</td>\n      <td>...</td>\n      <td>...</td>\n      <td>...</td>\n      <td>...</td>\n      <td>...</td>\n      <td>...</td>\n      <td>...</td>\n      <td>...</td>\n      <td>...</td>\n      <td>...</td>\n      <td>...</td>\n      <td>...</td>\n      <td>...</td>\n      <td>...</td>\n      <td>...</td>\n      <td>...</td>\n      <td>...</td>\n      <td>...</td>\n    </tr>\n    <tr>\n      <th>CS8996</th>\n      <td>0</td>\n      <td>1</td>\n      <td>0</td>\n      <td>0</td>\n      <td>0</td>\n      <td>1</td>\n      <td>0</td>\n      <td>0</td>\n      <td>0</td>\n      <td>3</td>\n      <td>...</td>\n      <td>1</td>\n      <td>1</td>\n      <td>2</td>\n      <td>0</td>\n      <td>0</td>\n      <td>0</td>\n      <td>0</td>\n      <td>0</td>\n      <td>0</td>\n      <td>0</td>\n    </tr>\n    <tr>\n      <th>CS8997</th>\n      <td>0</td>\n      <td>0</td>\n      <td>0</td>\n      <td>0</td>\n      <td>1</td>\n      <td>0</td>\n      <td>1</td>\n      <td>1</td>\n      <td>2</td>\n      <td>0</td>\n      <td>...</td>\n      <td>0</td>\n      <td>0</td>\n      <td>0</td>\n      <td>0</td>\n      <td>0</td>\n      <td>0</td>\n      <td>0</td>\n      <td>0</td>\n      <td>0</td>\n      <td>0</td>\n    </tr>\n    <tr>\n      <th>CS8998</th>\n      <td>0</td>\n      <td>0</td>\n      <td>0</td>\n      <td>0</td>\n      <td>0</td>\n      <td>1</td>\n      <td>1</td>\n      <td>2</td>\n      <td>0</td>\n      <td>0</td>\n      <td>...</td>\n      <td>0</td>\n      <td>1</td>\n      <td>1</td>\n      <td>0</td>\n      <td>0</td>\n      <td>0</td>\n      <td>0</td>\n      <td>0</td>\n      <td>0</td>\n      <td>0</td>\n    </tr>\n    <tr>\n      <th>CS8999</th>\n      <td>0</td>\n      <td>1</td>\n      <td>1</td>\n      <td>0</td>\n      <td>0</td>\n      <td>1</td>\n      <td>0</td>\n      <td>1</td>\n      <td>0</td>\n      <td>2</td>\n      <td>...</td>\n      <td>0</td>\n      <td>0</td>\n      <td>2</td>\n      <td>0</td>\n      <td>0</td>\n      <td>0</td>\n      <td>0</td>\n      <td>0</td>\n      <td>0</td>\n      <td>0</td>\n    </tr>\n    <tr>\n      <th>CS9000</th>\n      <td>0</td>\n      <td>0</td>\n      <td>0</td>\n      <td>2</td>\n      <td>0</td>\n      <td>0</td>\n      <td>0</td>\n      <td>1</td>\n      <td>0</td>\n      <td>1</td>\n      <td>...</td>\n      <td>1</td>\n      <td>1</td>\n      <td>0</td>\n      <td>0</td>\n      <td>0</td>\n      <td>1</td>\n      <td>0</td>\n      <td>0</td>\n      <td>0</td>\n      <td>0</td>\n    </tr>\n  </tbody>\n</table>\n<p>6889 rows × 35 columns</p>\n</div>"
     },
     "execution_count": 74,
     "metadata": {},
     "output_type": "execute_result"
    }
   ],
   "source": [
    "# Create multi-indexed table\n",
    "clnt_weekly_aggregations_pivot = pd.pivot_table(clnt_weekly_aggregations, index = 'customer_id', columns = ('YEAR', 'day_name')).fillna(0)\n",
    "clnt_weekly_aggregations_pivot = clnt_weekly_aggregations_pivot.astype(int)\n",
    "clnt_weekly_aggregations_pivot"
   ],
   "metadata": {
    "collapsed": false
   }
  },
  {
   "cell_type": "code",
   "execution_count": 75,
   "outputs": [
    {
     "data": {
      "text/plain": "             cnt_2011_Friday  cnt_2011_Monday  cnt_2011_Saturday  \\\ncustomer_id                                                        \nCS1112                     1                0                  0   \nCS1113                     1                1                  0   \nCS1114                     0                1                  0   \nCS1115                     0                0                  1   \nCS1116                     1                1                  0   \n...                      ...              ...                ...   \nCS8996                     0                1                  0   \nCS8997                     0                0                  0   \nCS8998                     0                0                  0   \nCS8999                     0                1                  1   \nCS9000                     0                0                  0   \n\n             cnt_2011_Sunday  cnt_2011_Thursday  cnt_2011_Tuesday  \\\ncustomer_id                                                         \nCS1112                     1                  0                 0   \nCS1113                     1                  0                 0   \nCS1114                     1                  1                 0   \nCS1115                     1                  0                 0   \nCS1116                     0                  1                 1   \n...                      ...                ...               ...   \nCS8996                     0                  0                 1   \nCS8997                     0                  1                 0   \nCS8998                     0                  0                 1   \nCS8999                     0                  0                 1   \nCS9000                     2                  0                 0   \n\n             cnt_2011_Wednesday  cnt_2012_Friday  cnt_2012_Monday  \\\ncustomer_id                                                         \nCS1112                        1                0                0   \nCS1113                        0                2                1   \nCS1114                        2                0                0   \nCS1115                        1                1                1   \nCS1116                        0                1                0   \n...                         ...              ...              ...   \nCS8996                        0                0                0   \nCS8997                        1                1                2   \nCS8998                        1                2                0   \nCS8999                        0                1                0   \nCS9000                        0                1                0   \n\n             cnt_2012_Saturday  ...  cnt_2014_Thursday  cnt_2014_Tuesday  \\\ncustomer_id                     ...                                        \nCS1112                       1  ...                  1                 1   \nCS1113                       0  ...                  0                 3   \nCS1114                       1  ...                  0                 1   \nCS1115                       0  ...                  2                 0   \nCS1116                       0  ...                  0                 0   \n...                        ...  ...                ...               ...   \nCS8996                       3  ...                  1                 1   \nCS8997                       0  ...                  0                 0   \nCS8998                       0  ...                  0                 1   \nCS8999                       2  ...                  0                 0   \nCS9000                       1  ...                  1                 1   \n\n             cnt_2014_Wednesday  cnt_2015_Friday  cnt_2015_Monday  \\\ncustomer_id                                                         \nCS1112                        1                0                0   \nCS1113                        0                0                2   \nCS1114                        1                0                0   \nCS1115                        2                0                0   \nCS1116                        0                0                0   \n...                         ...              ...              ...   \nCS8996                        2                0                0   \nCS8997                        0                0                0   \nCS8998                        1                0                0   \nCS8999                        2                0                0   \nCS9000                        0                0                0   \n\n             cnt_2015_Saturday  cnt_2015_Sunday  cnt_2015_Thursday  \\\ncustomer_id                                                          \nCS1112                       0                0                  0   \nCS1113                       0                0                  0   \nCS1114                       0                0                  1   \nCS1115                       0                0                  1   \nCS1116                       0                0                  0   \n...                        ...              ...                ...   \nCS8996                       0                0                  0   \nCS8997                       0                0                  0   \nCS8998                       0                0                  0   \nCS8999                       0                0                  0   \nCS9000                       1                0                  0   \n\n             cnt_2015_Tuesday  cnt_2015_Wednesday  \ncustomer_id                                        \nCS1112                      0                   1  \nCS1113                      0                   1  \nCS1114                      0                   0  \nCS1115                      0                   0  \nCS1116                      0                   0  \n...                       ...                 ...  \nCS8996                      0                   0  \nCS8997                      0                   0  \nCS8998                      0                   0  \nCS8999                      0                   0  \nCS9000                      0                   0  \n\n[6889 rows x 35 columns]",
      "text/html": "<div>\n<style scoped>\n    .dataframe tbody tr th:only-of-type {\n        vertical-align: middle;\n    }\n\n    .dataframe tbody tr th {\n        vertical-align: top;\n    }\n\n    .dataframe thead th {\n        text-align: right;\n    }\n</style>\n<table border=\"1\" class=\"dataframe\">\n  <thead>\n    <tr style=\"text-align: right;\">\n      <th></th>\n      <th>cnt_2011_Friday</th>\n      <th>cnt_2011_Monday</th>\n      <th>cnt_2011_Saturday</th>\n      <th>cnt_2011_Sunday</th>\n      <th>cnt_2011_Thursday</th>\n      <th>cnt_2011_Tuesday</th>\n      <th>cnt_2011_Wednesday</th>\n      <th>cnt_2012_Friday</th>\n      <th>cnt_2012_Monday</th>\n      <th>cnt_2012_Saturday</th>\n      <th>...</th>\n      <th>cnt_2014_Thursday</th>\n      <th>cnt_2014_Tuesday</th>\n      <th>cnt_2014_Wednesday</th>\n      <th>cnt_2015_Friday</th>\n      <th>cnt_2015_Monday</th>\n      <th>cnt_2015_Saturday</th>\n      <th>cnt_2015_Sunday</th>\n      <th>cnt_2015_Thursday</th>\n      <th>cnt_2015_Tuesday</th>\n      <th>cnt_2015_Wednesday</th>\n    </tr>\n    <tr>\n      <th>customer_id</th>\n      <th></th>\n      <th></th>\n      <th></th>\n      <th></th>\n      <th></th>\n      <th></th>\n      <th></th>\n      <th></th>\n      <th></th>\n      <th></th>\n      <th></th>\n      <th></th>\n      <th></th>\n      <th></th>\n      <th></th>\n      <th></th>\n      <th></th>\n      <th></th>\n      <th></th>\n      <th></th>\n      <th></th>\n    </tr>\n  </thead>\n  <tbody>\n    <tr>\n      <th>CS1112</th>\n      <td>1</td>\n      <td>0</td>\n      <td>0</td>\n      <td>1</td>\n      <td>0</td>\n      <td>0</td>\n      <td>1</td>\n      <td>0</td>\n      <td>0</td>\n      <td>1</td>\n      <td>...</td>\n      <td>1</td>\n      <td>1</td>\n      <td>1</td>\n      <td>0</td>\n      <td>0</td>\n      <td>0</td>\n      <td>0</td>\n      <td>0</td>\n      <td>0</td>\n      <td>1</td>\n    </tr>\n    <tr>\n      <th>CS1113</th>\n      <td>1</td>\n      <td>1</td>\n      <td>0</td>\n      <td>1</td>\n      <td>0</td>\n      <td>0</td>\n      <td>0</td>\n      <td>2</td>\n      <td>1</td>\n      <td>0</td>\n      <td>...</td>\n      <td>0</td>\n      <td>3</td>\n      <td>0</td>\n      <td>0</td>\n      <td>2</td>\n      <td>0</td>\n      <td>0</td>\n      <td>0</td>\n      <td>0</td>\n      <td>1</td>\n    </tr>\n    <tr>\n      <th>CS1114</th>\n      <td>0</td>\n      <td>1</td>\n      <td>0</td>\n      <td>1</td>\n      <td>1</td>\n      <td>0</td>\n      <td>2</td>\n      <td>0</td>\n      <td>0</td>\n      <td>1</td>\n      <td>...</td>\n      <td>0</td>\n      <td>1</td>\n      <td>1</td>\n      <td>0</td>\n      <td>0</td>\n      <td>0</td>\n      <td>0</td>\n      <td>1</td>\n      <td>0</td>\n      <td>0</td>\n    </tr>\n    <tr>\n      <th>CS1115</th>\n      <td>0</td>\n      <td>0</td>\n      <td>1</td>\n      <td>1</td>\n      <td>0</td>\n      <td>0</td>\n      <td>1</td>\n      <td>1</td>\n      <td>1</td>\n      <td>0</td>\n      <td>...</td>\n      <td>2</td>\n      <td>0</td>\n      <td>2</td>\n      <td>0</td>\n      <td>0</td>\n      <td>0</td>\n      <td>0</td>\n      <td>1</td>\n      <td>0</td>\n      <td>0</td>\n    </tr>\n    <tr>\n      <th>CS1116</th>\n      <td>1</td>\n      <td>1</td>\n      <td>0</td>\n      <td>0</td>\n      <td>1</td>\n      <td>1</td>\n      <td>0</td>\n      <td>1</td>\n      <td>0</td>\n      <td>0</td>\n      <td>...</td>\n      <td>0</td>\n      <td>0</td>\n      <td>0</td>\n      <td>0</td>\n      <td>0</td>\n      <td>0</td>\n      <td>0</td>\n      <td>0</td>\n      <td>0</td>\n      <td>0</td>\n    </tr>\n    <tr>\n      <th>...</th>\n      <td>...</td>\n      <td>...</td>\n      <td>...</td>\n      <td>...</td>\n      <td>...</td>\n      <td>...</td>\n      <td>...</td>\n      <td>...</td>\n      <td>...</td>\n      <td>...</td>\n      <td>...</td>\n      <td>...</td>\n      <td>...</td>\n      <td>...</td>\n      <td>...</td>\n      <td>...</td>\n      <td>...</td>\n      <td>...</td>\n      <td>...</td>\n      <td>...</td>\n      <td>...</td>\n    </tr>\n    <tr>\n      <th>CS8996</th>\n      <td>0</td>\n      <td>1</td>\n      <td>0</td>\n      <td>0</td>\n      <td>0</td>\n      <td>1</td>\n      <td>0</td>\n      <td>0</td>\n      <td>0</td>\n      <td>3</td>\n      <td>...</td>\n      <td>1</td>\n      <td>1</td>\n      <td>2</td>\n      <td>0</td>\n      <td>0</td>\n      <td>0</td>\n      <td>0</td>\n      <td>0</td>\n      <td>0</td>\n      <td>0</td>\n    </tr>\n    <tr>\n      <th>CS8997</th>\n      <td>0</td>\n      <td>0</td>\n      <td>0</td>\n      <td>0</td>\n      <td>1</td>\n      <td>0</td>\n      <td>1</td>\n      <td>1</td>\n      <td>2</td>\n      <td>0</td>\n      <td>...</td>\n      <td>0</td>\n      <td>0</td>\n      <td>0</td>\n      <td>0</td>\n      <td>0</td>\n      <td>0</td>\n      <td>0</td>\n      <td>0</td>\n      <td>0</td>\n      <td>0</td>\n    </tr>\n    <tr>\n      <th>CS8998</th>\n      <td>0</td>\n      <td>0</td>\n      <td>0</td>\n      <td>0</td>\n      <td>0</td>\n      <td>1</td>\n      <td>1</td>\n      <td>2</td>\n      <td>0</td>\n      <td>0</td>\n      <td>...</td>\n      <td>0</td>\n      <td>1</td>\n      <td>1</td>\n      <td>0</td>\n      <td>0</td>\n      <td>0</td>\n      <td>0</td>\n      <td>0</td>\n      <td>0</td>\n      <td>0</td>\n    </tr>\n    <tr>\n      <th>CS8999</th>\n      <td>0</td>\n      <td>1</td>\n      <td>1</td>\n      <td>0</td>\n      <td>0</td>\n      <td>1</td>\n      <td>0</td>\n      <td>1</td>\n      <td>0</td>\n      <td>2</td>\n      <td>...</td>\n      <td>0</td>\n      <td>0</td>\n      <td>2</td>\n      <td>0</td>\n      <td>0</td>\n      <td>0</td>\n      <td>0</td>\n      <td>0</td>\n      <td>0</td>\n      <td>0</td>\n    </tr>\n    <tr>\n      <th>CS9000</th>\n      <td>0</td>\n      <td>0</td>\n      <td>0</td>\n      <td>2</td>\n      <td>0</td>\n      <td>0</td>\n      <td>0</td>\n      <td>1</td>\n      <td>0</td>\n      <td>1</td>\n      <td>...</td>\n      <td>1</td>\n      <td>1</td>\n      <td>0</td>\n      <td>0</td>\n      <td>0</td>\n      <td>1</td>\n      <td>0</td>\n      <td>0</td>\n      <td>0</td>\n      <td>0</td>\n    </tr>\n  </tbody>\n</table>\n<p>6889 rows × 35 columns</p>\n</div>"
     },
     "execution_count": 75,
     "metadata": {},
     "output_type": "execute_result"
    }
   ],
   "source": [
    "# Create compound-indexed table\n",
    "clnt_weekly_aggregations_pivot.columns = ['_'.join([str(i) for i in c]) for c in clnt_weekly_aggregations_pivot.columns]\n",
    "clnt_weekly_aggregations_pivot"
   ],
   "metadata": {
    "collapsed": false
   }
  },
  {
   "cell_type": "code",
   "execution_count": 76,
   "outputs": [
    {
     "data": {
      "text/plain": "(6889, 35)"
     },
     "execution_count": 76,
     "metadata": {},
     "output_type": "execute_result"
    }
   ],
   "source": [
    "# Check shape\n",
    "clnt_weekly_aggregations_pivot.shape"
   ],
   "metadata": {
    "collapsed": false
   }
  },
  {
   "cell_type": "code",
   "execution_count": 77,
   "outputs": [
    {
     "data": {
      "text/plain": "(6889, 40)"
     },
     "execution_count": 77,
     "metadata": {},
     "output_type": "execute_result"
    }
   ],
   "source": [
    "clnt_annual_aggregations_pivot.shape"
   ],
   "metadata": {
    "collapsed": false
   }
  },
  {
   "cell_type": "code",
   "execution_count": 78,
   "outputs": [],
   "source": [
    "clnt_weekly_aggregations_pivot.to_excel('annual_day_of_week_counts_pivot.xlsx')"
   ],
   "metadata": {
    "collapsed": false
   }
  },
  {
   "cell_type": "markdown",
   "source": [
    "#### Answer 1.6.4\n",
    "Confirm that your output has the same number of rows as the final output in section 1.2. How many features/columns did you create in this section?\n",
    "**A: The output does have the same number of row as the `clnt_annual_aggregations_pivot`, which is 6889, and we create 35 features in this section. We have 7 day a week and 5 years' scope(2011 to 2015), so in total, we have 5\\*7=35 features.**"
   ],
   "metadata": {
    "collapsed": false
   }
  },
  {
   "cell_type": "code",
   "execution_count": 79,
   "outputs": [
    {
     "data": {
      "text/plain": "                        cnt_Friday  cnt_Monday  cnt_Saturday  cnt_Sunday  \\\ncustomer_id ME_DT                                                          \nCS1112      2011-06-30           0           0             0           0   \n            2011-08-31           1           0             0           0   \n            2011-10-31           0           0             0           1   \n            2012-04-30           0           0             0           1   \n            2012-06-30           0           0             0           1   \n...                            ...         ...           ...         ...   \nCS9000      2014-01-31           0           0             0           1   \n            2014-05-31           0           0             0           0   \n            2014-07-31           0           0             0           0   \n            2014-08-31           0           0             0           1   \n            2015-03-31           0           0             1           0   \n\n                        cnt_Thursday  cnt_Tuesday  cnt_Wednesday  \ncustomer_id ME_DT                                                 \nCS1112      2011-06-30             0            0              1  \n            2011-08-31             0            0              0  \n            2011-10-31             0            0              0  \n            2012-04-30             0            0              0  \n            2012-06-30             0            0              0  \n...                              ...          ...            ...  \nCS9000      2014-01-31             0            0              0  \n            2014-05-31             1            0              0  \n            2014-07-31             0            1              0  \n            2014-08-31             0            0              0  \n            2015-03-31             0            0              0  \n\n[103270 rows x 7 columns]",
      "text/html": "<div>\n<style scoped>\n    .dataframe tbody tr th:only-of-type {\n        vertical-align: middle;\n    }\n\n    .dataframe tbody tr th {\n        vertical-align: top;\n    }\n\n    .dataframe thead th {\n        text-align: right;\n    }\n</style>\n<table border=\"1\" class=\"dataframe\">\n  <thead>\n    <tr style=\"text-align: right;\">\n      <th></th>\n      <th></th>\n      <th>cnt_Friday</th>\n      <th>cnt_Monday</th>\n      <th>cnt_Saturday</th>\n      <th>cnt_Sunday</th>\n      <th>cnt_Thursday</th>\n      <th>cnt_Tuesday</th>\n      <th>cnt_Wednesday</th>\n    </tr>\n    <tr>\n      <th>customer_id</th>\n      <th>ME_DT</th>\n      <th></th>\n      <th></th>\n      <th></th>\n      <th></th>\n      <th></th>\n      <th></th>\n      <th></th>\n    </tr>\n  </thead>\n  <tbody>\n    <tr>\n      <th rowspan=\"5\" valign=\"top\">CS1112</th>\n      <th>2011-06-30</th>\n      <td>0</td>\n      <td>0</td>\n      <td>0</td>\n      <td>0</td>\n      <td>0</td>\n      <td>0</td>\n      <td>1</td>\n    </tr>\n    <tr>\n      <th>2011-08-31</th>\n      <td>1</td>\n      <td>0</td>\n      <td>0</td>\n      <td>0</td>\n      <td>0</td>\n      <td>0</td>\n      <td>0</td>\n    </tr>\n    <tr>\n      <th>2011-10-31</th>\n      <td>0</td>\n      <td>0</td>\n      <td>0</td>\n      <td>1</td>\n      <td>0</td>\n      <td>0</td>\n      <td>0</td>\n    </tr>\n    <tr>\n      <th>2012-04-30</th>\n      <td>0</td>\n      <td>0</td>\n      <td>0</td>\n      <td>1</td>\n      <td>0</td>\n      <td>0</td>\n      <td>0</td>\n    </tr>\n    <tr>\n      <th>2012-06-30</th>\n      <td>0</td>\n      <td>0</td>\n      <td>0</td>\n      <td>1</td>\n      <td>0</td>\n      <td>0</td>\n      <td>0</td>\n    </tr>\n    <tr>\n      <th>...</th>\n      <th>...</th>\n      <td>...</td>\n      <td>...</td>\n      <td>...</td>\n      <td>...</td>\n      <td>...</td>\n      <td>...</td>\n      <td>...</td>\n    </tr>\n    <tr>\n      <th rowspan=\"5\" valign=\"top\">CS9000</th>\n      <th>2014-01-31</th>\n      <td>0</td>\n      <td>0</td>\n      <td>0</td>\n      <td>1</td>\n      <td>0</td>\n      <td>0</td>\n      <td>0</td>\n    </tr>\n    <tr>\n      <th>2014-05-31</th>\n      <td>0</td>\n      <td>0</td>\n      <td>0</td>\n      <td>0</td>\n      <td>1</td>\n      <td>0</td>\n      <td>0</td>\n    </tr>\n    <tr>\n      <th>2014-07-31</th>\n      <td>0</td>\n      <td>0</td>\n      <td>0</td>\n      <td>0</td>\n      <td>0</td>\n      <td>1</td>\n      <td>0</td>\n    </tr>\n    <tr>\n      <th>2014-08-31</th>\n      <td>0</td>\n      <td>0</td>\n      <td>0</td>\n      <td>1</td>\n      <td>0</td>\n      <td>0</td>\n      <td>0</td>\n    </tr>\n    <tr>\n      <th>2015-03-31</th>\n      <td>0</td>\n      <td>0</td>\n      <td>1</td>\n      <td>0</td>\n      <td>0</td>\n      <td>0</td>\n      <td>0</td>\n    </tr>\n  </tbody>\n</table>\n<p>103270 rows × 7 columns</p>\n</div>"
     },
     "execution_count": 79,
     "metadata": {},
     "output_type": "execute_result"
    }
   ],
   "source": [
    "# 5 Generate the features that capture the count of transactions per client, month-end-date and day of the week\n",
    "clnt_weekly_mth_aggregations = txn.groupby(['customer_id', 'ME_DT', 'day_name'])['tran_amount'].agg(cnt = 'count')\n",
    "clnt_weekly_mth_aggregations_pivot = pd.pivot_table(clnt_weekly_mth_aggregations, index = ('customer_id', 'ME_DT'), columns = 'day_name').fillna(0).astype(int)\n",
    "clnt_weekly_mth_aggregations_pivot.columns = ['_'.join([str(i) for i in c]) for c in clnt_weekly_mth_aggregations_pivot.columns]\n",
    "clnt_weekly_mth_aggregations_pivot"
   ],
   "metadata": {
    "collapsed": false
   }
  },
  {
   "cell_type": "code",
   "execution_count": 80,
   "outputs": [
    {
     "data": {
      "text/plain": "       CLNT_NO      ME_DT  cnt_Friday  cnt_Monday  cnt_Saturday  cnt_Sunday  \\\n157064  CS1112 2011-05-31           0           0             0           0   \n157059  CS1112 2011-06-30           0           0             0           0   \n157044  CS1112 2011-07-31           0           0             0           0   \n157070  CS1112 2011-08-31           1           0             0           0   \n157061  CS1112 2011-09-30           0           0             0           0   \n...        ...        ...         ...         ...           ...         ...   \n295141  CS9000 2014-11-30           0           0             0           0   \n295126  CS9000 2014-12-31           0           0             0           0   \n295119  CS9000 2015-01-31           0           0             0           0   \n295136  CS9000 2015-02-28           0           0             0           0   \n295114  CS9000 2015-03-31           0           0             1           0   \n\n        cnt_Thursday  cnt_Tuesday  cnt_Wednesday  \n157064             0            0              0  \n157059             0            0              1  \n157044             0            0              0  \n157070             0            0              0  \n157061             0            0              0  \n...              ...          ...            ...  \n295141             0            0              0  \n295126             0            0              0  \n295119             0            0              0  \n295136             0            0              0  \n295114             0            0              0  \n\n[323783 rows x 9 columns]",
      "text/html": "<div>\n<style scoped>\n    .dataframe tbody tr th:only-of-type {\n        vertical-align: middle;\n    }\n\n    .dataframe tbody tr th {\n        vertical-align: top;\n    }\n\n    .dataframe thead th {\n        text-align: right;\n    }\n</style>\n<table border=\"1\" class=\"dataframe\">\n  <thead>\n    <tr style=\"text-align: right;\">\n      <th></th>\n      <th>CLNT_NO</th>\n      <th>ME_DT</th>\n      <th>cnt_Friday</th>\n      <th>cnt_Monday</th>\n      <th>cnt_Saturday</th>\n      <th>cnt_Sunday</th>\n      <th>cnt_Thursday</th>\n      <th>cnt_Tuesday</th>\n      <th>cnt_Wednesday</th>\n    </tr>\n  </thead>\n  <tbody>\n    <tr>\n      <th>157064</th>\n      <td>CS1112</td>\n      <td>2011-05-31</td>\n      <td>0</td>\n      <td>0</td>\n      <td>0</td>\n      <td>0</td>\n      <td>0</td>\n      <td>0</td>\n      <td>0</td>\n    </tr>\n    <tr>\n      <th>157059</th>\n      <td>CS1112</td>\n      <td>2011-06-30</td>\n      <td>0</td>\n      <td>0</td>\n      <td>0</td>\n      <td>0</td>\n      <td>0</td>\n      <td>0</td>\n      <td>1</td>\n    </tr>\n    <tr>\n      <th>157044</th>\n      <td>CS1112</td>\n      <td>2011-07-31</td>\n      <td>0</td>\n      <td>0</td>\n      <td>0</td>\n      <td>0</td>\n      <td>0</td>\n      <td>0</td>\n      <td>0</td>\n    </tr>\n    <tr>\n      <th>157070</th>\n      <td>CS1112</td>\n      <td>2011-08-31</td>\n      <td>1</td>\n      <td>0</td>\n      <td>0</td>\n      <td>0</td>\n      <td>0</td>\n      <td>0</td>\n      <td>0</td>\n    </tr>\n    <tr>\n      <th>157061</th>\n      <td>CS1112</td>\n      <td>2011-09-30</td>\n      <td>0</td>\n      <td>0</td>\n      <td>0</td>\n      <td>0</td>\n      <td>0</td>\n      <td>0</td>\n      <td>0</td>\n    </tr>\n    <tr>\n      <th>...</th>\n      <td>...</td>\n      <td>...</td>\n      <td>...</td>\n      <td>...</td>\n      <td>...</td>\n      <td>...</td>\n      <td>...</td>\n      <td>...</td>\n      <td>...</td>\n    </tr>\n    <tr>\n      <th>295141</th>\n      <td>CS9000</td>\n      <td>2014-11-30</td>\n      <td>0</td>\n      <td>0</td>\n      <td>0</td>\n      <td>0</td>\n      <td>0</td>\n      <td>0</td>\n      <td>0</td>\n    </tr>\n    <tr>\n      <th>295126</th>\n      <td>CS9000</td>\n      <td>2014-12-31</td>\n      <td>0</td>\n      <td>0</td>\n      <td>0</td>\n      <td>0</td>\n      <td>0</td>\n      <td>0</td>\n      <td>0</td>\n    </tr>\n    <tr>\n      <th>295119</th>\n      <td>CS9000</td>\n      <td>2015-01-31</td>\n      <td>0</td>\n      <td>0</td>\n      <td>0</td>\n      <td>0</td>\n      <td>0</td>\n      <td>0</td>\n      <td>0</td>\n    </tr>\n    <tr>\n      <th>295136</th>\n      <td>CS9000</td>\n      <td>2015-02-28</td>\n      <td>0</td>\n      <td>0</td>\n      <td>0</td>\n      <td>0</td>\n      <td>0</td>\n      <td>0</td>\n      <td>0</td>\n    </tr>\n    <tr>\n      <th>295114</th>\n      <td>CS9000</td>\n      <td>2015-03-31</td>\n      <td>0</td>\n      <td>0</td>\n      <td>1</td>\n      <td>0</td>\n      <td>0</td>\n      <td>0</td>\n      <td>0</td>\n    </tr>\n  </tbody>\n</table>\n<p>323783 rows × 9 columns</p>\n</div>"
     },
     "execution_count": 80,
     "metadata": {},
     "output_type": "execute_result"
    }
   ],
   "source": [
    "# 6 Join with base table pd\n",
    "clnt_weekly_mth_aggregations_pivot.index.set_names(['CLNT_NO', 'ME_DT'], inplace=True)\n",
    "base_clnt_mth_wk = base_table_pd.merge(clnt_weekly_mth_aggregations_pivot, how='left', on=['CLNT_NO', 'ME_DT'])\n",
    "base_clnt_mth_wk = base_clnt_mth_wk.fillna(0).sort_values(by=['CLNT_NO','ME_DT']).astype(\n",
    "    {li:'int' for li in clnt_weekly_mth_aggregations_pivot.columns})\n",
    "base_clnt_mth_wk"
   ],
   "metadata": {
    "collapsed": false
   }
  },
  {
   "cell_type": "code",
   "execution_count": 81,
   "outputs": [],
   "source": [
    "# Save to .xlsx\n",
    "base_clnt_mth_wk.to_excel('mth_day_counts.xlsx')"
   ],
   "metadata": {
    "collapsed": false
   }
  },
  {
   "cell_type": "markdown",
   "source": [
    "## 1.7 Date-related features: days since last transaction"
   ],
   "metadata": {
    "collapsed": false
   }
  },
  {
   "cell_type": "code",
   "execution_count": 82,
   "outputs": [
    {
     "data": {
      "text/plain": "                         txn_date\ncustomer_id ME_DT                \nCS1112      2011-06-30 2011-06-15\n            2011-08-31 2011-08-19\n            2011-10-31 2011-10-02\n            2012-04-30 2012-04-08\n            2012-06-30 2012-06-24",
      "text/html": "<div>\n<style scoped>\n    .dataframe tbody tr th:only-of-type {\n        vertical-align: middle;\n    }\n\n    .dataframe tbody tr th {\n        vertical-align: top;\n    }\n\n    .dataframe thead th {\n        text-align: right;\n    }\n</style>\n<table border=\"1\" class=\"dataframe\">\n  <thead>\n    <tr style=\"text-align: right;\">\n      <th></th>\n      <th></th>\n      <th>txn_date</th>\n    </tr>\n    <tr>\n      <th>customer_id</th>\n      <th>ME_DT</th>\n      <th></th>\n    </tr>\n  </thead>\n  <tbody>\n    <tr>\n      <th rowspan=\"5\" valign=\"top\">CS1112</th>\n      <th>2011-06-30</th>\n      <td>2011-06-15</td>\n    </tr>\n    <tr>\n      <th>2011-08-31</th>\n      <td>2011-08-19</td>\n    </tr>\n    <tr>\n      <th>2011-10-31</th>\n      <td>2011-10-02</td>\n    </tr>\n    <tr>\n      <th>2012-04-30</th>\n      <td>2012-04-08</td>\n    </tr>\n    <tr>\n      <th>2012-06-30</th>\n      <td>2012-06-24</td>\n    </tr>\n  </tbody>\n</table>\n</div>"
     },
     "execution_count": 82,
     "metadata": {},
     "output_type": "execute_result"
    }
   ],
   "source": [
    "# 1 Create the table last monthly purchase that captures the last ’txn date’ for every client and month\n",
    "last_monthly_purchase = pd.DataFrame(txn.groupby(['customer_id', 'ME_DT'])['txn_date'].max())\n",
    "last_monthly_purchase.head()"
   ],
   "metadata": {
    "collapsed": false
   }
  },
  {
   "cell_type": "code",
   "execution_count": 83,
   "outputs": [
    {
     "data": {
      "text/plain": "       CLNT_NO      ME_DT   txn_date\n157064  CS1112 2011-05-31        NaT\n157059  CS1112 2011-06-30 2011-06-15\n157044  CS1112 2011-07-31        NaT\n157070  CS1112 2011-08-31 2011-08-19\n157061  CS1112 2011-09-30        NaT\n157048  CS1112 2011-10-31 2011-10-02\n157029  CS1112 2011-11-30        NaT\n157049  CS1112 2011-12-31        NaT",
      "text/html": "<div>\n<style scoped>\n    .dataframe tbody tr th:only-of-type {\n        vertical-align: middle;\n    }\n\n    .dataframe tbody tr th {\n        vertical-align: top;\n    }\n\n    .dataframe thead th {\n        text-align: right;\n    }\n</style>\n<table border=\"1\" class=\"dataframe\">\n  <thead>\n    <tr style=\"text-align: right;\">\n      <th></th>\n      <th>CLNT_NO</th>\n      <th>ME_DT</th>\n      <th>txn_date</th>\n    </tr>\n  </thead>\n  <tbody>\n    <tr>\n      <th>157064</th>\n      <td>CS1112</td>\n      <td>2011-05-31</td>\n      <td>NaT</td>\n    </tr>\n    <tr>\n      <th>157059</th>\n      <td>CS1112</td>\n      <td>2011-06-30</td>\n      <td>2011-06-15</td>\n    </tr>\n    <tr>\n      <th>157044</th>\n      <td>CS1112</td>\n      <td>2011-07-31</td>\n      <td>NaT</td>\n    </tr>\n    <tr>\n      <th>157070</th>\n      <td>CS1112</td>\n      <td>2011-08-31</td>\n      <td>2011-08-19</td>\n    </tr>\n    <tr>\n      <th>157061</th>\n      <td>CS1112</td>\n      <td>2011-09-30</td>\n      <td>NaT</td>\n    </tr>\n    <tr>\n      <th>157048</th>\n      <td>CS1112</td>\n      <td>2011-10-31</td>\n      <td>2011-10-02</td>\n    </tr>\n    <tr>\n      <th>157029</th>\n      <td>CS1112</td>\n      <td>2011-11-30</td>\n      <td>NaT</td>\n    </tr>\n    <tr>\n      <th>157049</th>\n      <td>CS1112</td>\n      <td>2011-12-31</td>\n      <td>NaT</td>\n    </tr>\n  </tbody>\n</table>\n</div>"
     },
     "execution_count": 83,
     "metadata": {},
     "output_type": "execute_result"
    }
   ],
   "source": [
    "# 2 Join base table pd with last monthly purchase\n",
    "last_monthly_purchase.index.set_names(['CLNT_NO', 'ME_DT'], inplace=True)\n",
    "last_monthly_purchase_base = base_table_pd.merge(last_monthly_purchase, how='left', on=['CLNT_NO', 'ME_DT'])\n",
    "last_monthly_purchase_base = last_monthly_purchase_base.sort_values(by=['CLNT_NO', 'ME_DT'])\n",
    "last_monthly_purchase_base.head(8)"
   ],
   "metadata": {
    "collapsed": false
   }
  },
  {
   "cell_type": "code",
   "execution_count": 84,
   "outputs": [
    {
     "data": {
      "text/plain": "       CLNT_NO      ME_DT   txn_date\n160011  CS1113 2015-02-28 2015-02-09\n159989  CS1113 2015-03-31 2015-02-09\n101134  CS1114 2011-05-31        NaT\n101129  CS1114 2011-06-30        NaT\n101114  CS1114 2011-07-31 2011-07-14\n101140  CS1114 2011-08-31 2011-08-24",
      "text/html": "<div>\n<style scoped>\n    .dataframe tbody tr th:only-of-type {\n        vertical-align: middle;\n    }\n\n    .dataframe tbody tr th {\n        vertical-align: top;\n    }\n\n    .dataframe thead th {\n        text-align: right;\n    }\n</style>\n<table border=\"1\" class=\"dataframe\">\n  <thead>\n    <tr style=\"text-align: right;\">\n      <th></th>\n      <th>CLNT_NO</th>\n      <th>ME_DT</th>\n      <th>txn_date</th>\n    </tr>\n  </thead>\n  <tbody>\n    <tr>\n      <th>160011</th>\n      <td>CS1113</td>\n      <td>2015-02-28</td>\n      <td>2015-02-09</td>\n    </tr>\n    <tr>\n      <th>159989</th>\n      <td>CS1113</td>\n      <td>2015-03-31</td>\n      <td>2015-02-09</td>\n    </tr>\n    <tr>\n      <th>101134</th>\n      <td>CS1114</td>\n      <td>2011-05-31</td>\n      <td>NaT</td>\n    </tr>\n    <tr>\n      <th>101129</th>\n      <td>CS1114</td>\n      <td>2011-06-30</td>\n      <td>NaT</td>\n    </tr>\n    <tr>\n      <th>101114</th>\n      <td>CS1114</td>\n      <td>2011-07-31</td>\n      <td>2011-07-14</td>\n    </tr>\n    <tr>\n      <th>101140</th>\n      <td>CS1114</td>\n      <td>2011-08-31</td>\n      <td>2011-08-24</td>\n    </tr>\n  </tbody>\n</table>\n</div>"
     },
     "execution_count": 84,
     "metadata": {},
     "output_type": "execute_result"
    }
   ],
   "source": [
    "# 3 Fill NaT\n",
    "last_monthly_purchase_base = last_monthly_purchase_base.groupby('CLNT_NO').apply(lambda x: x.ffill())\n",
    "last_monthly_purchase_base.iloc[92:98,:]"
   ],
   "metadata": {
    "collapsed": false
   }
  },
  {
   "cell_type": "code",
   "execution_count": 85,
   "outputs": [
    {
     "data": {
      "text/plain": "       CLNT_NO      ME_DT   txn_date  days_since_last_txn\n157064  CS1112 2011-05-31        NaT                  NaN\n157059  CS1112 2011-06-30 2011-06-15                 15.0\n157044  CS1112 2011-07-31 2011-06-15                 46.0\n157070  CS1112 2011-08-31 2011-08-19                 12.0\n157061  CS1112 2011-09-30 2011-08-19                 42.0",
      "text/html": "<div>\n<style scoped>\n    .dataframe tbody tr th:only-of-type {\n        vertical-align: middle;\n    }\n\n    .dataframe tbody tr th {\n        vertical-align: top;\n    }\n\n    .dataframe thead th {\n        text-align: right;\n    }\n</style>\n<table border=\"1\" class=\"dataframe\">\n  <thead>\n    <tr style=\"text-align: right;\">\n      <th></th>\n      <th>CLNT_NO</th>\n      <th>ME_DT</th>\n      <th>txn_date</th>\n      <th>days_since_last_txn</th>\n    </tr>\n  </thead>\n  <tbody>\n    <tr>\n      <th>157064</th>\n      <td>CS1112</td>\n      <td>2011-05-31</td>\n      <td>NaT</td>\n      <td>NaN</td>\n    </tr>\n    <tr>\n      <th>157059</th>\n      <td>CS1112</td>\n      <td>2011-06-30</td>\n      <td>2011-06-15</td>\n      <td>15.0</td>\n    </tr>\n    <tr>\n      <th>157044</th>\n      <td>CS1112</td>\n      <td>2011-07-31</td>\n      <td>2011-06-15</td>\n      <td>46.0</td>\n    </tr>\n    <tr>\n      <th>157070</th>\n      <td>CS1112</td>\n      <td>2011-08-31</td>\n      <td>2011-08-19</td>\n      <td>12.0</td>\n    </tr>\n    <tr>\n      <th>157061</th>\n      <td>CS1112</td>\n      <td>2011-09-30</td>\n      <td>2011-08-19</td>\n      <td>42.0</td>\n    </tr>\n  </tbody>\n</table>\n</div>"
     },
     "execution_count": 85,
     "metadata": {},
     "output_type": "execute_result"
    }
   ],
   "source": [
    "# 4 Subtract the two date columns and convert the output to .dt.days to calculate the column ’days since last txn’\n",
    "last_monthly_purchase_base['days_since_last_txn'] = (last_monthly_purchase_base['ME_DT']-last_monthly_purchase_base['txn_date']).dt.days\n",
    "last_monthly_purchase_base.head()"
   ],
   "metadata": {
    "collapsed": false
   }
  },
  {
   "cell_type": "code",
   "execution_count": 86,
   "outputs": [
    {
     "data": {
      "text/plain": "<Figure size 432x288 with 1 Axes>",
      "image/png": "[encoded data removed]"
     },
     "metadata": {
      "needs_background": "light"
     },
     "output_type": "display_data"
    }
   ],
   "source": [
    "# 5 Plot a histogram of the ’days since last txn’\n",
    "last_monthly_purchase_base['days_since_last_txn'].plot.hist(bins=20, alpha=0.5)\n",
    "plt.title('Day Since Last Transaction')\n",
    "plt.xlabel('Days')\n",
    "plt.show()"
   ],
   "metadata": {
    "collapsed": false
   }
  },
  {
   "cell_type": "code",
   "execution_count": 91,
   "outputs": [
    {
     "data": {
      "text/plain": "Empty DataFrame\nColumns: [CLNT_NO, ME_DT, txn_date, days_since_last_txn]\nIndex: []",
      "text/html": "<div>\n<style scoped>\n    .dataframe tbody tr th:only-of-type {\n        vertical-align: middle;\n    }\n\n    .dataframe tbody tr th {\n        vertical-align: top;\n    }\n\n    .dataframe thead th {\n        text-align: right;\n    }\n</style>\n<table border=\"1\" class=\"dataframe\">\n  <thead>\n    <tr style=\"text-align: right;\">\n      <th></th>\n      <th>CLNT_NO</th>\n      <th>ME_DT</th>\n      <th>txn_date</th>\n      <th>days_since_last_txn</th>\n    </tr>\n  </thead>\n  <tbody>\n  </tbody>\n</table>\n</div>"
     },
     "execution_count": 91,
     "metadata": {},
     "output_type": "execute_result"
    }
   ],
   "source": [
    "# Check for possible value for NaN and no zero in the days since last txn\n",
    "last_monthly_purchase_base[last_monthly_purchase_base['days_since_last_txn']==0.0]"
   ],
   "metadata": {
    "collapsed": false
   }
  },
  {
   "cell_type": "code",
   "execution_count": 93,
   "outputs": [
    {
     "data": {
      "text/plain": "      CLNT_NO      ME_DT   txn_date  days_since_last_txn\n25276  CS1140 2011-05-31 2011-05-21                 10.0\n25271  CS1140 2011-06-30 2011-06-06                 24.0\n25256  CS1140 2011-07-31 2011-06-06                 55.0\n25282  CS1140 2011-08-31 2011-08-25                  6.0\n25273  CS1140 2011-09-30 2011-08-25                 36.0\n25260  CS1140 2011-10-31 2011-08-25                 67.0\n25241  CS1140 2011-11-30 2011-08-25                 97.0\n25261  CS1140 2011-12-31 2011-08-25                128.0\n25258  CS1140 2012-01-31 2012-01-03                 28.0\n25244  CS1140 2012-02-29 2012-01-31                 29.0\n25257  CS1140 2012-03-31 2012-03-25                  6.0\n25263  CS1140 2012-04-30 2012-03-25                 36.0\n25274  CS1140 2012-05-31 2012-03-25                 67.0\n25285  CS1140 2012-06-30 2012-03-25                 97.0\n25277  CS1140 2012-07-31 2012-07-28                  3.0\n25275  CS1140 2012-08-31 2012-07-28                 34.0\n25283  CS1140 2012-09-30 2012-09-25                  5.0\n25279  CS1140 2012-10-31 2012-09-25                 36.0\n25250  CS1140 2012-11-30 2012-09-25                 66.0\n25265  CS1140 2012-12-31 2012-09-25                 97.0\n25246  CS1140 2013-01-31 2013-01-14                 17.0\n25239  CS1140 2013-02-28 2013-02-23                  5.0\n25249  CS1140 2013-03-31 2013-02-23                 36.0\n25259  CS1140 2013-04-30 2013-02-23                 66.0\n25251  CS1140 2013-05-31 2013-05-21                 10.0\n25269  CS1140 2013-06-30 2013-05-21                 40.0\n25248  CS1140 2013-07-31 2013-05-21                 71.0\n25247  CS1140 2013-08-31 2013-05-21                102.0\n25281  CS1140 2013-09-30 2013-05-21                132.0\n25264  CS1140 2013-10-31 2013-05-21                163.0\n25242  CS1140 2013-11-30 2013-05-21                193.0\n25254  CS1140 2013-12-31 2013-05-21                224.0\n25253  CS1140 2014-01-31 2013-05-21                255.0\n25284  CS1140 2014-02-28 2013-05-21                283.0\n25243  CS1140 2014-03-31 2013-05-21                314.0\n25268  CS1140 2014-04-30 2014-04-01                 29.0\n25266  CS1140 2014-05-31 2014-04-01                 60.0\n25270  CS1140 2014-06-30 2014-04-01                 90.0\n25255  CS1140 2014-07-31 2014-04-01                121.0\n25280  CS1140 2014-08-31 2014-04-01                152.0\n25272  CS1140 2014-09-30 2014-09-19                 11.0\n25278  CS1140 2014-10-31 2014-10-08                 23.0\n25267  CS1140 2014-11-30 2014-11-22                  8.0\n25252  CS1140 2014-12-31 2014-12-28                  3.0\n25245  CS1140 2015-01-31 2014-12-28                 34.0\n25262  CS1140 2015-02-28 2015-02-16                 12.0\n25240  CS1140 2015-03-31 2015-02-16                 43.0",
      "text/html": "<div>\n<style scoped>\n    .dataframe tbody tr th:only-of-type {\n        vertical-align: middle;\n    }\n\n    .dataframe tbody tr th {\n        vertical-align: top;\n    }\n\n    .dataframe thead th {\n        text-align: right;\n    }\n</style>\n<table border=\"1\" class=\"dataframe\">\n  <thead>\n    <tr style=\"text-align: right;\">\n      <th></th>\n      <th>CLNT_NO</th>\n      <th>ME_DT</th>\n      <th>txn_date</th>\n      <th>days_since_last_txn</th>\n    </tr>\n  </thead>\n  <tbody>\n    <tr>\n      <th>25276</th>\n      <td>CS1140</td>\n      <td>2011-05-31</td>\n      <td>2011-05-21</td>\n      <td>10.0</td>\n    </tr>\n    <tr>\n      <th>25271</th>\n      <td>CS1140</td>\n      <td>2011-06-30</td>\n      <td>2011-06-06</td>\n      <td>24.0</td>\n    </tr>\n    <tr>\n      <th>25256</th>\n      <td>CS1140</td>\n      <td>2011-07-31</td>\n      <td>2011-06-06</td>\n      <td>55.0</td>\n    </tr>\n    <tr>\n      <th>25282</th>\n      <td>CS1140</td>\n      <td>2011-08-31</td>\n      <td>2011-08-25</td>\n      <td>6.0</td>\n    </tr>\n    <tr>\n      <th>25273</th>\n      <td>CS1140</td>\n      <td>2011-09-30</td>\n      <td>2011-08-25</td>\n      <td>36.0</td>\n    </tr>\n    <tr>\n      <th>25260</th>\n      <td>CS1140</td>\n      <td>2011-10-31</td>\n      <td>2011-08-25</td>\n      <td>67.0</td>\n    </tr>\n    <tr>\n      <th>25241</th>\n      <td>CS1140</td>\n      <td>2011-11-30</td>\n      <td>2011-08-25</td>\n      <td>97.0</td>\n    </tr>\n    <tr>\n      <th>25261</th>\n      <td>CS1140</td>\n      <td>2011-12-31</td>\n      <td>2011-08-25</td>\n      <td>128.0</td>\n    </tr>\n    <tr>\n      <th>25258</th>\n      <td>CS1140</td>\n      <td>2012-01-31</td>\n      <td>2012-01-03</td>\n      <td>28.0</td>\n    </tr>\n    <tr>\n      <th>25244</th>\n      <td>CS1140</td>\n      <td>2012-02-29</td>\n      <td>2012-01-31</td>\n      <td>29.0</td>\n    </tr>\n    <tr>\n      <th>25257</th>\n      <td>CS1140</td>\n      <td>2012-03-31</td>\n      <td>2012-03-25</td>\n      <td>6.0</td>\n    </tr>\n    <tr>\n      <th>25263</th>\n      <td>CS1140</td>\n      <td>2012-04-30</td>\n      <td>2012-03-25</td>\n      <td>36.0</td>\n    </tr>\n    <tr>\n      <th>25274</th>\n      <td>CS1140</td>\n      <td>2012-05-31</td>\n      <td>2012-03-25</td>\n      <td>67.0</td>\n    </tr>\n    <tr>\n      <th>25285</th>\n      <td>CS1140</td>\n      <td>2012-06-30</td>\n      <td>2012-03-25</td>\n      <td>97.0</td>\n    </tr>\n    <tr>\n      <th>25277</th>\n      <td>CS1140</td>\n      <td>2012-07-31</td>\n      <td>2012-07-28</td>\n      <td>3.0</td>\n    </tr>\n    <tr>\n      <th>25275</th>\n      <td>CS1140</td>\n      <td>2012-08-31</td>\n      <td>2012-07-28</td>\n      <td>34.0</td>\n    </tr>\n    <tr>\n      <th>25283</th>\n      <td>CS1140</td>\n      <td>2012-09-30</td>\n      <td>2012-09-25</td>\n      <td>5.0</td>\n    </tr>\n    <tr>\n      <th>25279</th>\n      <td>CS1140</td>\n      <td>2012-10-31</td>\n      <td>2012-09-25</td>\n      <td>36.0</td>\n    </tr>\n    <tr>\n      <th>25250</th>\n      <td>CS1140</td>\n      <td>2012-11-30</td>\n      <td>2012-09-25</td>\n      <td>66.0</td>\n    </tr>\n    <tr>\n      <th>25265</th>\n      <td>CS1140</td>\n      <td>2012-12-31</td>\n      <td>2012-09-25</td>\n      <td>97.0</td>\n    </tr>\n    <tr>\n      <th>25246</th>\n      <td>CS1140</td>\n      <td>2013-01-31</td>\n      <td>2013-01-14</td>\n      <td>17.0</td>\n    </tr>\n    <tr>\n      <th>25239</th>\n      <td>CS1140</td>\n      <td>2013-02-28</td>\n      <td>2013-02-23</td>\n      <td>5.0</td>\n    </tr>\n    <tr>\n      <th>25249</th>\n      <td>CS1140</td>\n      <td>2013-03-31</td>\n      <td>2013-02-23</td>\n      <td>36.0</td>\n    </tr>\n    <tr>\n      <th>25259</th>\n      <td>CS1140</td>\n      <td>2013-04-30</td>\n      <td>2013-02-23</td>\n      <td>66.0</td>\n    </tr>\n    <tr>\n      <th>25251</th>\n      <td>CS1140</td>\n      <td>2013-05-31</td>\n      <td>2013-05-21</td>\n      <td>10.0</td>\n    </tr>\n    <tr>\n      <th>25269</th>\n      <td>CS1140</td>\n      <td>2013-06-30</td>\n      <td>2013-05-21</td>\n      <td>40.0</td>\n    </tr>\n    <tr>\n      <th>25248</th>\n      <td>CS1140</td>\n      <td>2013-07-31</td>\n      <td>2013-05-21</td>\n      <td>71.0</td>\n    </tr>\n    <tr>\n      <th>25247</th>\n      <td>CS1140</td>\n      <td>2013-08-31</td>\n      <td>2013-05-21</td>\n      <td>102.0</td>\n    </tr>\n    <tr>\n      <th>25281</th>\n      <td>CS1140</td>\n      <td>2013-09-30</td>\n      <td>2013-05-21</td>\n      <td>132.0</td>\n    </tr>\n    <tr>\n      <th>25264</th>\n      <td>CS1140</td>\n      <td>2013-10-31</td>\n      <td>2013-05-21</td>\n      <td>163.0</td>\n    </tr>\n    <tr>\n      <th>25242</th>\n      <td>CS1140</td>\n      <td>2013-11-30</td>\n      <td>2013-05-21</td>\n      <td>193.0</td>\n    </tr>\n    <tr>\n      <th>25254</th>\n      <td>CS1140</td>\n      <td>2013-12-31</td>\n      <td>2013-05-21</td>\n      <td>224.0</td>\n    </tr>\n    <tr>\n      <th>25253</th>\n      <td>CS1140</td>\n      <td>2014-01-31</td>\n      <td>2013-05-21</td>\n      <td>255.0</td>\n    </tr>\n    <tr>\n      <th>25284</th>\n      <td>CS1140</td>\n      <td>2014-02-28</td>\n      <td>2013-05-21</td>\n      <td>283.0</td>\n    </tr>\n    <tr>\n      <th>25243</th>\n      <td>CS1140</td>\n      <td>2014-03-31</td>\n      <td>2013-05-21</td>\n      <td>314.0</td>\n    </tr>\n    <tr>\n      <th>25268</th>\n      <td>CS1140</td>\n      <td>2014-04-30</td>\n      <td>2014-04-01</td>\n      <td>29.0</td>\n    </tr>\n    <tr>\n      <th>25266</th>\n      <td>CS1140</td>\n      <td>2014-05-31</td>\n      <td>2014-04-01</td>\n      <td>60.0</td>\n    </tr>\n    <tr>\n      <th>25270</th>\n      <td>CS1140</td>\n      <td>2014-06-30</td>\n      <td>2014-04-01</td>\n      <td>90.0</td>\n    </tr>\n    <tr>\n      <th>25255</th>\n      <td>CS1140</td>\n      <td>2014-07-31</td>\n      <td>2014-04-01</td>\n      <td>121.0</td>\n    </tr>\n    <tr>\n      <th>25280</th>\n      <td>CS1140</td>\n      <td>2014-08-31</td>\n      <td>2014-04-01</td>\n      <td>152.0</td>\n    </tr>\n    <tr>\n      <th>25272</th>\n      <td>CS1140</td>\n      <td>2014-09-30</td>\n      <td>2014-09-19</td>\n      <td>11.0</td>\n    </tr>\n    <tr>\n      <th>25278</th>\n      <td>CS1140</td>\n      <td>2014-10-31</td>\n      <td>2014-10-08</td>\n      <td>23.0</td>\n    </tr>\n    <tr>\n      <th>25267</th>\n      <td>CS1140</td>\n      <td>2014-11-30</td>\n      <td>2014-11-22</td>\n      <td>8.0</td>\n    </tr>\n    <tr>\n      <th>25252</th>\n      <td>CS1140</td>\n      <td>2014-12-31</td>\n      <td>2014-12-28</td>\n      <td>3.0</td>\n    </tr>\n    <tr>\n      <th>25245</th>\n      <td>CS1140</td>\n      <td>2015-01-31</td>\n      <td>2014-12-28</td>\n      <td>34.0</td>\n    </tr>\n    <tr>\n      <th>25262</th>\n      <td>CS1140</td>\n      <td>2015-02-28</td>\n      <td>2015-02-16</td>\n      <td>12.0</td>\n    </tr>\n    <tr>\n      <th>25240</th>\n      <td>CS1140</td>\n      <td>2015-03-31</td>\n      <td>2015-02-16</td>\n      <td>43.0</td>\n    </tr>\n  </tbody>\n</table>\n</div>"
     },
     "execution_count": 93,
     "metadata": {},
     "output_type": "execute_result"
    }
   ],
   "source": [
    "last_monthly_purchase_base[last_monthly_purchase_base['CLNT_NO']=='CS1140']"
   ],
   "metadata": {
    "collapsed": false
   }
  },
  {
   "cell_type": "code",
   "execution_count": 98,
   "outputs": [
    {
     "data": {
      "text/plain": "(0, 4)"
     },
     "execution_count": 98,
     "metadata": {},
     "output_type": "execute_result"
    }
   ],
   "source": [
    "last_monthly_purchase_base[last_monthly_purchase_base['days_since_last_txn']==0].shape"
   ],
   "metadata": {
    "collapsed": false
   }
  },
  {
   "cell_type": "markdown",
   "source": [
    "**Comment: Although there is no zero in the data, we still need to use some negative value to impute the NaN. By doing so, we can easily see the amount of NaN caused by initial months before a client makes a purchase.**"
   ],
   "metadata": {
    "collapsed": false
   }
  },
  {
   "cell_type": "code",
   "execution_count": 66,
   "outputs": [
    {
     "data": {
      "text/plain": "<Figure size 432x288 with 1 Axes>",
      "image/png": "[encoded data removed]"
     },
     "metadata": {
      "needs_background": "light"
     },
     "output_type": "display_data"
    }
   ],
   "source": [
    "# Impute the remaining NaN values\n",
    "last_monthly_purchase_base['days_since_last_txn'].fillna(-100, inplace=True)\n",
    "last_monthly_purchase_base['days_since_last_txn'].plot.hist(bins=20, alpha=0.5)\n",
    "plt.title('Day Since Last Transaction')\n",
    "plt.xlabel('Days')\n",
    "plt.show()"
   ],
   "metadata": {
    "collapsed": false
   }
  },
  {
   "cell_type": "code",
   "execution_count": 67,
   "outputs": [
    {
     "data": {
      "text/plain": "       CLNT_NO      ME_DT   txn_date  days_since_last_txn\n160011  CS1113 2015-02-28 2015-02-09                 19.0\n159989  CS1113 2015-03-31 2015-02-09                 50.0\n101134  CS1114 2011-05-31        NaT               -100.0\n101129  CS1114 2011-06-30        NaT               -100.0\n101114  CS1114 2011-07-31 2011-07-14                 17.0\n101140  CS1114 2011-08-31 2011-08-24                  7.0",
      "text/html": "<div>\n<style scoped>\n    .dataframe tbody tr th:only-of-type {\n        vertical-align: middle;\n    }\n\n    .dataframe tbody tr th {\n        vertical-align: top;\n    }\n\n    .dataframe thead th {\n        text-align: right;\n    }\n</style>\n<table border=\"1\" class=\"dataframe\">\n  <thead>\n    <tr style=\"text-align: right;\">\n      <th></th>\n      <th>CLNT_NO</th>\n      <th>ME_DT</th>\n      <th>txn_date</th>\n      <th>days_since_last_txn</th>\n    </tr>\n  </thead>\n  <tbody>\n    <tr>\n      <th>160011</th>\n      <td>CS1113</td>\n      <td>2015-02-28</td>\n      <td>2015-02-09</td>\n      <td>19.0</td>\n    </tr>\n    <tr>\n      <th>159989</th>\n      <td>CS1113</td>\n      <td>2015-03-31</td>\n      <td>2015-02-09</td>\n      <td>50.0</td>\n    </tr>\n    <tr>\n      <th>101134</th>\n      <td>CS1114</td>\n      <td>2011-05-31</td>\n      <td>NaT</td>\n      <td>-100.0</td>\n    </tr>\n    <tr>\n      <th>101129</th>\n      <td>CS1114</td>\n      <td>2011-06-30</td>\n      <td>NaT</td>\n      <td>-100.0</td>\n    </tr>\n    <tr>\n      <th>101114</th>\n      <td>CS1114</td>\n      <td>2011-07-31</td>\n      <td>2011-07-14</td>\n      <td>17.0</td>\n    </tr>\n    <tr>\n      <th>101140</th>\n      <td>CS1114</td>\n      <td>2011-08-31</td>\n      <td>2011-08-24</td>\n      <td>7.0</td>\n    </tr>\n  </tbody>\n</table>\n</div>"
     },
     "execution_count": 67,
     "metadata": {},
     "output_type": "execute_result"
    }
   ],
   "source": [
    "last_monthly_purchase_base.iloc[92:98,:]"
   ],
   "metadata": {
    "collapsed": false
   }
  },
  {
   "cell_type": "code",
   "execution_count": 68,
   "outputs": [],
   "source": [
    "# Save to .xlsx\n",
    "last_monthly_purchase_base[['CLNT_NO', 'ME_DT', 'days_since_last_txn']].to_excel('days_since_last_txn.xlsx')"
   ],
   "metadata": {
    "collapsed": false
   }
  },
  {
   "cell_type": "code",
   "execution_count": 68,
   "outputs": [],
   "source": [],
   "metadata": {
    "collapsed": false
   }
  }
 ],
 "metadata": {
  "kernelspec": {
   "display_name": "Python 3",
   "language": "python",
   "name": "python3"
  },
  "language_info": {
   "codemirror_mode": {
    "name": "ipython",
    "version": 2
   },
   "file_extension": ".py",
   "mimetype": "text/x-python",
   "name": "python",
   "nbconvert_exporter": "python",
   "pygments_lexer": "ipython2",
   "version": "2.7.6"
  }
 },
 "nbformat": 4,
 "nbformat_minor": 0
}
